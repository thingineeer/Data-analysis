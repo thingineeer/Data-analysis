{
 "cells": [
  {
   "cell_type": "markdown",
   "metadata": {
    "id": "TLZrYq-pynC7"
   },
   "source": [
    "## 서울특별시 다산콜센터(☎120)의 주요 민원\n",
    "* 서울특별시 다산콜센터(☎120)의 주요 민원(자주 묻는 질문)에 대한 답변정보\n",
    "* https://opengov.seoul.go.kr/civilappeal/list"
   ]
  },
  {
   "cell_type": "code",
   "execution_count": 1,
   "metadata": {
    "ExecuteTime": {
     "end_time": "2022-05-23T00:01:39.429102Z",
     "start_time": "2022-05-23T00:01:36.558292Z"
    },
    "id": "7gpJ0R8CynDC"
   },
   "outputs": [],
   "source": [
    "# 필요한 라이브러리들을 불러옵니다.\n",
    "# pandas : 파이썬에서 사용할 수 있는 엑셀과 유사한 데이터분석 도구입니다.\n",
    "# requests : 매우 작은 브라우저로 웹사이트의 내용과 정보를 불러옵니다.\n",
    "# BeautifulSoup : request로 가져온 웹사이트의 html 태그를 찾기 위해 사용합니다.\n",
    "# time : 한 번에 많은 양의 데이터를 가져오게 되면 서버에서 부담을주기 때문에 시간 간격을 두고 가져오기 위해 사용합니다.\n",
    "import pandas as pd\n",
    "import numpy as np\n",
    "from bs4 import BeautifulSoup as bs\n",
    "import requests\n",
    "import time"
   ]
  },
  {
   "cell_type": "code",
   "execution_count": 2,
   "metadata": {
    "ExecuteTime": {
     "end_time": "2022-05-23T00:01:39.488999Z",
     "start_time": "2022-05-23T00:01:39.431094Z"
    },
    "id": "GRCAurraynDG",
    "outputId": "4c99e82c-845e-436d-e9e2-5db0c19b644f"
   },
   "outputs": [
    {
     "data": {
      "text/html": [
       "<div>\n",
       "<style scoped>\n",
       "    .dataframe tbody tr th:only-of-type {\n",
       "        vertical-align: middle;\n",
       "    }\n",
       "\n",
       "    .dataframe tbody tr th {\n",
       "        vertical-align: top;\n",
       "    }\n",
       "\n",
       "    .dataframe thead th {\n",
       "        text-align: right;\n",
       "    }\n",
       "</style>\n",
       "<table border=\"1\" class=\"dataframe\">\n",
       "  <thead>\n",
       "    <tr style=\"text-align: right;\">\n",
       "      <th></th>\n",
       "      <th>번호</th>\n",
       "      <th>제목</th>\n",
       "      <th>생산일</th>\n",
       "      <th>조회수</th>\n",
       "      <th>내용번호</th>\n",
       "    </tr>\n",
       "  </thead>\n",
       "  <tbody>\n",
       "    <tr>\n",
       "      <th>0</th>\n",
       "      <td>2470</td>\n",
       "      <td>다자녀가정 실내 바닥매트 지원</td>\n",
       "      <td>2021-08-17</td>\n",
       "      <td>223</td>\n",
       "      <td>25670204</td>\n",
       "    </tr>\n",
       "    <tr>\n",
       "      <th>1</th>\n",
       "      <td>2469</td>\n",
       "      <td>[서울산업진흥원] 서울메이드란?</td>\n",
       "      <td>2021-06-29</td>\n",
       "      <td>1576</td>\n",
       "      <td>23194045</td>\n",
       "    </tr>\n",
       "    <tr>\n",
       "      <th>2</th>\n",
       "      <td>2468</td>\n",
       "      <td>광진맘택시 운영(임산부,영아 양육가정 전용 택시)</td>\n",
       "      <td>2021-05-13</td>\n",
       "      <td>751</td>\n",
       "      <td>22904492</td>\n",
       "    </tr>\n",
       "    <tr>\n",
       "      <th>3</th>\n",
       "      <td>2467</td>\n",
       "      <td>마포 뇌병변장애인 비전센터</td>\n",
       "      <td>2021-03-12</td>\n",
       "      <td>869</td>\n",
       "      <td>22477798</td>\n",
       "    </tr>\n",
       "    <tr>\n",
       "      <th>4</th>\n",
       "      <td>2466</td>\n",
       "      <td>위드유 서울 직장 성희롱.성폭력 예방센터</td>\n",
       "      <td>2020-09-16</td>\n",
       "      <td>1184</td>\n",
       "      <td>21212235</td>\n",
       "    </tr>\n",
       "    <tr>\n",
       "      <th>...</th>\n",
       "      <td>...</td>\n",
       "      <td>...</td>\n",
       "      <td>...</td>\n",
       "      <td>...</td>\n",
       "      <td>...</td>\n",
       "    </tr>\n",
       "    <tr>\n",
       "      <th>2465</th>\n",
       "      <td>5</td>\n",
       "      <td>이미 지정된 재정비촉진지구의 인접지를 추가 확장하고 싶은데 어떻게 해야 하나요?</td>\n",
       "      <td>2007-01-07</td>\n",
       "      <td>374</td>\n",
       "      <td>2894353</td>\n",
       "    </tr>\n",
       "    <tr>\n",
       "      <th>2466</th>\n",
       "      <td>4</td>\n",
       "      <td>수돗물의 톤당 원가는?</td>\n",
       "      <td>2007-01-07</td>\n",
       "      <td>344</td>\n",
       "      <td>19353862</td>\n",
       "    </tr>\n",
       "    <tr>\n",
       "      <th>2467</th>\n",
       "      <td>3</td>\n",
       "      <td>출산휴가후 집근처에 안심하고 맡길 수 있는 어린이집이 있는지?</td>\n",
       "      <td>2007-01-07</td>\n",
       "      <td>326</td>\n",
       "      <td>19699584</td>\n",
       "    </tr>\n",
       "    <tr>\n",
       "      <th>2468</th>\n",
       "      <td>2</td>\n",
       "      <td>자동차검사장을 지정받고자 하는데 어떻게 해야 하나요?</td>\n",
       "      <td>2007-01-07</td>\n",
       "      <td>292</td>\n",
       "      <td>2898293</td>\n",
       "    </tr>\n",
       "    <tr>\n",
       "      <th>2469</th>\n",
       "      <td>1</td>\n",
       "      <td>폐기대상 문서의 폐기는 어떻게 하나요?</td>\n",
       "      <td>2007-01-07</td>\n",
       "      <td>281</td>\n",
       "      <td>19431143</td>\n",
       "    </tr>\n",
       "  </tbody>\n",
       "</table>\n",
       "<p>2470 rows × 5 columns</p>\n",
       "</div>"
      ],
      "text/plain": [
       "        번호                                            제목         생산일   조회수  \\\n",
       "0     2470                              다자녀가정 실내 바닥매트 지원  2021-08-17   223   \n",
       "1     2469                             [서울산업진흥원] 서울메이드란?  2021-06-29  1576   \n",
       "2     2468                   광진맘택시 운영(임산부,영아 양육가정 전용 택시)  2021-05-13   751   \n",
       "3     2467                                마포 뇌병변장애인 비전센터  2021-03-12   869   \n",
       "4     2466                        위드유 서울 직장 성희롱.성폭력 예방센터  2020-09-16  1184   \n",
       "...    ...                                           ...         ...   ...   \n",
       "2465     5  이미 지정된 재정비촉진지구의 인접지를 추가 확장하고 싶은데 어떻게 해야 하나요?  2007-01-07   374   \n",
       "2466     4                                  수돗물의 톤당 원가는?  2007-01-07   344   \n",
       "2467     3            출산휴가후 집근처에 안심하고 맡길 수 있는 어린이집이 있는지?  2007-01-07   326   \n",
       "2468     2                 자동차검사장을 지정받고자 하는데 어떻게 해야 하나요?  2007-01-07   292   \n",
       "2469     1                         폐기대상 문서의 폐기는 어떻게 하나요?  2007-01-07   281   \n",
       "\n",
       "          내용번호  \n",
       "0     25670204  \n",
       "1     23194045  \n",
       "2     22904492  \n",
       "3     22477798  \n",
       "4     21212235  \n",
       "...        ...  \n",
       "2465   2894353  \n",
       "2466  19353862  \n",
       "2467  19699584  \n",
       "2468   2898293  \n",
       "2469  19431143  \n",
       "\n",
       "[2470 rows x 5 columns]"
      ]
     },
     "execution_count": 2,
     "metadata": {},
     "output_type": "execute_result"
    }
   ],
   "source": [
    "# 수집해온 파일(\"seoul-120-list.csv\")을 읽어옵니다.\n",
    "df = pd.read_csv(\"seoul-120-list.csv\")\n",
    "df"
   ]
  },
  {
   "cell_type": "markdown",
   "metadata": {
    "id": "yXhyiiFQynDI"
   },
   "source": [
    "## 일부 데이터를 우선 수집\n",
    "* 현업에서는 모든 데이터를 수집해야 하지만 모든 데이터 수집시 서버에 부담이 될 수 있으며 오래 걸립니다.\n",
    "* 또 동작하지 않거나 잘못 수집을 했다면 처음부터 다시 수집해야 하기 때문에 일부 데이터만을 통해 먼저 수집해 보는 것을 추천합니다.\n",
    "* 일부 데이터를 먼저 수집해 보고 데이터가 필요할 때 전체를 수집해 봅니다."
   ]
  },
  {
   "cell_type": "code",
   "execution_count": 3,
   "metadata": {
    "ExecuteTime": {
     "end_time": "2022-05-23T00:01:42.387666Z",
     "start_time": "2022-05-23T00:01:42.365723Z"
    },
    "id": "POYTIK8OynDI",
    "outputId": "a94f4753-7ef5-46e6-d08b-c4af14d5b9ac"
   },
   "outputs": [
    {
     "data": {
      "text/html": [
       "<div>\n",
       "<style scoped>\n",
       "    .dataframe tbody tr th:only-of-type {\n",
       "        vertical-align: middle;\n",
       "    }\n",
       "\n",
       "    .dataframe tbody tr th {\n",
       "        vertical-align: top;\n",
       "    }\n",
       "\n",
       "    .dataframe thead th {\n",
       "        text-align: right;\n",
       "    }\n",
       "</style>\n",
       "<table border=\"1\" class=\"dataframe\">\n",
       "  <thead>\n",
       "    <tr style=\"text-align: right;\">\n",
       "      <th></th>\n",
       "      <th>번호</th>\n",
       "      <th>제목</th>\n",
       "      <th>생산일</th>\n",
       "      <th>조회수</th>\n",
       "      <th>내용번호</th>\n",
       "    </tr>\n",
       "  </thead>\n",
       "  <tbody>\n",
       "    <tr>\n",
       "      <th>0</th>\n",
       "      <td>2470</td>\n",
       "      <td>다자녀가정 실내 바닥매트 지원</td>\n",
       "      <td>2021-08-17</td>\n",
       "      <td>223</td>\n",
       "      <td>25670204</td>\n",
       "    </tr>\n",
       "    <tr>\n",
       "      <th>1</th>\n",
       "      <td>2469</td>\n",
       "      <td>[서울산업진흥원] 서울메이드란?</td>\n",
       "      <td>2021-06-29</td>\n",
       "      <td>1576</td>\n",
       "      <td>23194045</td>\n",
       "    </tr>\n",
       "    <tr>\n",
       "      <th>2</th>\n",
       "      <td>2468</td>\n",
       "      <td>광진맘택시 운영(임산부,영아 양육가정 전용 택시)</td>\n",
       "      <td>2021-05-13</td>\n",
       "      <td>751</td>\n",
       "      <td>22904492</td>\n",
       "    </tr>\n",
       "    <tr>\n",
       "      <th>3</th>\n",
       "      <td>2467</td>\n",
       "      <td>마포 뇌병변장애인 비전센터</td>\n",
       "      <td>2021-03-12</td>\n",
       "      <td>869</td>\n",
       "      <td>22477798</td>\n",
       "    </tr>\n",
       "    <tr>\n",
       "      <th>4</th>\n",
       "      <td>2466</td>\n",
       "      <td>위드유 서울 직장 성희롱.성폭력 예방센터</td>\n",
       "      <td>2020-09-16</td>\n",
       "      <td>1184</td>\n",
       "      <td>21212235</td>\n",
       "    </tr>\n",
       "    <tr>\n",
       "      <th>5</th>\n",
       "      <td>2465</td>\n",
       "      <td>[성동구] 반려동물 \"무료상담실\" 운영 안내</td>\n",
       "      <td>2020-08-31</td>\n",
       "      <td>911</td>\n",
       "      <td>21095911</td>\n",
       "    </tr>\n",
       "    <tr>\n",
       "      <th>6</th>\n",
       "      <td>2464</td>\n",
       "      <td>서울시 '우리동네꼼꼼육아정보' 책자</td>\n",
       "      <td>2019-10-23</td>\n",
       "      <td>1576</td>\n",
       "      <td>18955676</td>\n",
       "    </tr>\n",
       "    <tr>\n",
       "      <th>7</th>\n",
       "      <td>2463</td>\n",
       "      <td>서울시 사회서비스원은 무엇을 하는 곳인가요?</td>\n",
       "      <td>2019-07-22</td>\n",
       "      <td>1653</td>\n",
       "      <td>18300944</td>\n",
       "    </tr>\n",
       "    <tr>\n",
       "      <th>8</th>\n",
       "      <td>2462</td>\n",
       "      <td>[종료사업] S-Taxi 앱 (에스택시, 서울택시승차앱) 시범운영</td>\n",
       "      <td>2019-06-03</td>\n",
       "      <td>1638</td>\n",
       "      <td>17949033</td>\n",
       "    </tr>\n",
       "    <tr>\n",
       "      <th>9</th>\n",
       "      <td>2461</td>\n",
       "      <td>장기요양 이동지원서비스(모두타 돌봄택시)</td>\n",
       "      <td>2019-05-27</td>\n",
       "      <td>2149</td>\n",
       "      <td>17896364</td>\n",
       "    </tr>\n",
       "  </tbody>\n",
       "</table>\n",
       "</div>"
      ],
      "text/plain": [
       "     번호                                    제목         생산일   조회수      내용번호\n",
       "0  2470                      다자녀가정 실내 바닥매트 지원  2021-08-17   223  25670204\n",
       "1  2469                     [서울산업진흥원] 서울메이드란?  2021-06-29  1576  23194045\n",
       "2  2468           광진맘택시 운영(임산부,영아 양육가정 전용 택시)  2021-05-13   751  22904492\n",
       "3  2467                        마포 뇌병변장애인 비전센터  2021-03-12   869  22477798\n",
       "4  2466                위드유 서울 직장 성희롱.성폭력 예방센터  2020-09-16  1184  21212235\n",
       "5  2465              [성동구] 반려동물 \"무료상담실\" 운영 안내  2020-08-31   911  21095911\n",
       "6  2464                   서울시 '우리동네꼼꼼육아정보' 책자  2019-10-23  1576  18955676\n",
       "7  2463              서울시 사회서비스원은 무엇을 하는 곳인가요?  2019-07-22  1653  18300944\n",
       "8  2462  [종료사업] S-Taxi 앱 (에스택시, 서울택시승차앱) 시범운영  2019-06-03  1638  17949033\n",
       "9  2461                장기요양 이동지원서비스(모두타 돌봄택시)  2019-05-27  2149  17896364"
      ]
     },
     "execution_count": 3,
     "metadata": {},
     "output_type": "execute_result"
    }
   ],
   "source": [
    "# head 로 일부 데이터만 가져와서 먼저 수집해 봅니다.\n",
    "df = df.head(10)\n",
    "df"
   ]
  },
  {
   "cell_type": "markdown",
   "metadata": {
    "id": "ZfHdymMaynDK"
   },
   "source": [
    "## 특정 내용 읽어오기\n",
    "* 내용의 URL을 확인합니다.\n",
    "* requests를 통해 내용에 접근합니다.\n",
    "* BeautifulSoup의 select를 사용해 내용이 있는 태그를 찾습니다.\n"
   ]
  },
  {
   "cell_type": "code",
   "execution_count": 4,
   "metadata": {
    "ExecuteTime": {
     "end_time": "2022-05-23T00:01:45.723388Z",
     "start_time": "2022-05-23T00:01:45.355639Z"
    },
    "id": "GimSbmtSynDL",
    "outputId": "e5cfaa42-5bb1-41bc-f278-04c4bc8f1216",
    "scrolled": false
   },
   "outputs": [
    {
     "name": "stdout",
     "output_type": "stream",
     "text": [
      "https://opengov.seoul.go.kr/civilappeal/view/?nid=23194045\n"
     ]
    },
    {
     "data": {
      "text/plain": [
       "'\\n문서 본문\\n\\n\\xa0서울의 감성을 담은 다양하고 새로운 경험을 제공하기 위해 만들어진 라이프스타일 플랫폼 브랜드로 서울이 만들고 세계가 함께 쓰는 브랜드 입니다.\\xa0 \\xa0 - 서울의 감성을 담은 기업과 협업하여 브랜드 상품을 발굴. \\xa0 -\\xa0사용을 원하는 중소기업에게 서울메이드 브랜드 제공 등 \\xa0 -\\xa0 관련홈페이지 :\\xa0서울메이드 (https://seoulmade.com/) \\xa0※ 상세문의사항 :\\xa0서울산업진흥원\\xa0브랜드전략팀 02-2222-3764 \\n'"
      ]
     },
     "execution_count": 4,
     "metadata": {},
     "output_type": "execute_result"
    }
   ],
   "source": [
    "# 내용 페이지의 주소를 url 변수에 담아줍니다.\n",
    "# 웹페이지의 결과를 받아옵니다.\n",
    "# BeautifulSoup을 통해 lxml로 파싱해 올 수 있도록 합니다.\n",
    "# html 태그에서 \"div.line-all\"의 0번째 값을 선택(select)하여 text를 확인합니다. \n",
    "\n",
    "url = \"https://opengov.seoul.go.kr/civilappeal/view/?nid=23194045\"\n",
    "print(url)\n",
    "# response\n",
    "response = requests.get(url)\n",
    "html = bs(response.text)\n",
    "html\n",
    "# content\n",
    "# #content > div > div.view-content.view-content-article > div:nth-child(2)\n",
    "content = html.select(\"#content > div > div.view-content.view-content-article > div:nth-child(2)\")[0].get_text()\n",
    "content"
   ]
  },
  {
   "cell_type": "code",
   "execution_count": 51,
   "metadata": {
    "ExecuteTime": {
     "end_time": "2022-05-18T07:26:21.708053Z",
     "start_time": "2022-05-18T07:26:21.692441Z"
    }
   },
   "outputs": [
    {
     "data": {
      "text/plain": [
       "[<table>\n",
       " <colgroup>\n",
       " <col style=\"width:3%;\"/>\n",
       " <col/>\n",
       " </colgroup>\n",
       " <tr>\n",
       " <td style=\"vertical-align: top;font-size: 14px;\">○</td>\n",
       " <td style=\"font-size:14px;word-break: keep-all;\">HWPX 파일은 공공 및 민간 분야 문서에 대한 개방성 확보를 위해 ㈜한글과컴퓨터에서 만든 XML 기반의 개방형 파일 형식이며, 서울시 결재문서는 개방형 파일인 hwpx로 생산되고 있습니다.</td>\n",
       " </tr>\n",
       " <tr>\n",
       " <td style=\"vertical-align: top;font-size:14px;border-top:none;\">○</td>\n",
       " <td style=\"font-size:14px;border-top:none;word-break: keep-all;\">서울정보소통광장에서 결재문서 열람 시 HWPX 파일이 열리지 않는 경우, 한컴오피스 다운로드 페이지에서 사용 프로그램 버전에 따라 해당 제품을 업데이트 하거나, 프로그램이 없는 경우 뷰어 프로그램을 설치하여 열람하시기 바랍니다.</td>\n",
       " </tr>\n",
       " </table>,\n",
       " <table class=\"table table-response\">\n",
       " <caption>[서울산업진흥원] 서울메이드란? - 문서정보 : 원본시스템, 제공부서, 작성자(책임자), 생산일, 관리번호, 분류</caption>\n",
       " <colgroup>\n",
       " <col style=\"width:15%\"/>\n",
       " <col style=\"width:35%\"/>\n",
       " <col style=\"width:15%\"/>\n",
       " <col style=\"width:35%\"/>\n",
       " </colgroup>\n",
       " <tbody>\n",
       " <tr>\n",
       " <th itemprop=\"accountablePerson\" scope=\"row\">원본시스템</th>\n",
       " <td>다산콜센터</td>\n",
       " <th class=\"tline\" itemprop=\"dateCreated\" scope=\"row\">\n",
       " \t\t\t\t\t\t\t\t\t\t\t\t\t\t\t\t\t\t\t\t\t제공부서\n",
       " \t\t\t\t\t\t\t\t\t\t\t\t\t\t\t\t\t\t\t\t</th>\n",
       " <td class=\"tline\">서울산업진흥원</td>\n",
       " </tr>\n",
       " <tr>\n",
       " <th itemprop=\"accountablePerson\" scope=\"row\">작성자(책임자)</th>\n",
       " <td>120다산콜재단</td>\n",
       " <th itemprop=\"dateCreated\" scope=\"row\">생산일</th>\n",
       " <td>2021-06-29</td>\n",
       " </tr>\n",
       " <tr>\n",
       " <th scope=\"row\">관리번호</th>\n",
       " <td>D0000042894548</td>\n",
       " <th class=\"tline\" itemprop=\"contributor\" scope=\"row\">분류</th>\n",
       " <td class=\"tline\">경제</td>\n",
       " </tr>\n",
       " </tbody>\n",
       " </table>]"
      ]
     },
     "execution_count": 51,
     "metadata": {},
     "output_type": "execute_result"
    }
   ],
   "source": [
    "# 문서정보\n",
    "#content > div > div.view-content.view-content-article > div:nth-child(3) > div > table\n",
    "\n",
    "tables = html.select(\"table\")\n",
    "tables"
   ]
  },
  {
   "cell_type": "code",
   "execution_count": 9,
   "metadata": {
    "ExecuteTime": {
     "end_time": "2022-05-23T00:14:34.530237Z",
     "start_time": "2022-05-23T00:14:34.483300Z"
    },
    "scrolled": true
   },
   "outputs": [
    {
     "data": {
      "text/html": [
       "<div>\n",
       "<style scoped>\n",
       "    .dataframe tbody tr th:only-of-type {\n",
       "        vertical-align: middle;\n",
       "    }\n",
       "\n",
       "    .dataframe tbody tr th {\n",
       "        vertical-align: top;\n",
       "    }\n",
       "\n",
       "    .dataframe thead th {\n",
       "        text-align: right;\n",
       "    }\n",
       "</style>\n",
       "<table border=\"1\" class=\"dataframe\">\n",
       "  <thead>\n",
       "    <tr style=\"text-align: right;\">\n",
       "      <th></th>\n",
       "      <th>0</th>\n",
       "      <th>1</th>\n",
       "      <th>2</th>\n",
       "      <th>3</th>\n",
       "    </tr>\n",
       "  </thead>\n",
       "  <tbody>\n",
       "    <tr>\n",
       "      <th>0</th>\n",
       "      <td>원본시스템</td>\n",
       "      <td>다산콜센터</td>\n",
       "      <td>제공부서</td>\n",
       "      <td>서울산업진흥원</td>\n",
       "    </tr>\n",
       "    <tr>\n",
       "      <th>1</th>\n",
       "      <td>작성자(책임자)</td>\n",
       "      <td>120다산콜재단</td>\n",
       "      <td>생산일</td>\n",
       "      <td>2021-06-29</td>\n",
       "    </tr>\n",
       "    <tr>\n",
       "      <th>2</th>\n",
       "      <td>관리번호</td>\n",
       "      <td>D0000042894548</td>\n",
       "      <td>분류</td>\n",
       "      <td>경제</td>\n",
       "    </tr>\n",
       "  </tbody>\n",
       "</table>\n",
       "</div>"
      ],
      "text/plain": [
       "          0               1     2           3\n",
       "0     원본시스템           다산콜센터  제공부서     서울산업진흥원\n",
       "1  작성자(책임자)        120다산콜재단   생산일  2021-06-29\n",
       "2      관리번호  D0000042894548    분류          경제"
      ]
     },
     "execution_count": 9,
     "metadata": {},
     "output_type": "execute_result"
    }
   ],
   "source": [
    "table = pd.read_html(response.text)[-1]\n",
    "table"
   ]
  },
  {
   "cell_type": "code",
   "execution_count": 6,
   "metadata": {
    "ExecuteTime": {
     "end_time": "2022-05-23T00:01:50.680409Z",
     "start_time": "2022-05-23T00:01:50.660465Z"
    }
   },
   "outputs": [
    {
     "data": {
      "text/html": [
       "<div>\n",
       "<style scoped>\n",
       "    .dataframe tbody tr th:only-of-type {\n",
       "        vertical-align: middle;\n",
       "    }\n",
       "\n",
       "    .dataframe tbody tr th {\n",
       "        vertical-align: top;\n",
       "    }\n",
       "\n",
       "    .dataframe thead th {\n",
       "        text-align: right;\n",
       "    }\n",
       "</style>\n",
       "<table border=\"1\" class=\"dataframe\">\n",
       "  <thead>\n",
       "    <tr style=\"text-align: right;\">\n",
       "      <th></th>\n",
       "      <th>원본시스템</th>\n",
       "      <th>작성자(책임자)</th>\n",
       "      <th>관리번호</th>\n",
       "    </tr>\n",
       "  </thead>\n",
       "  <tbody>\n",
       "    <tr>\n",
       "      <th>1</th>\n",
       "      <td>다산콜센터</td>\n",
       "      <td>120다산콜재단</td>\n",
       "      <td>D0000042894548</td>\n",
       "    </tr>\n",
       "  </tbody>\n",
       "</table>\n",
       "</div>"
      ],
      "text/plain": [
       "0  원본시스템  작성자(책임자)            관리번호\n",
       "1  다산콜센터  120다산콜재단  D0000042894548"
      ]
     },
     "execution_count": 6,
     "metadata": {},
     "output_type": "execute_result"
    }
   ],
   "source": [
    "t01 = table[[0, 1]].set_index(0).T\n",
    "t01"
   ]
  },
  {
   "cell_type": "code",
   "execution_count": 12,
   "metadata": {
    "ExecuteTime": {
     "end_time": "2022-05-23T00:19:52.121614Z",
     "start_time": "2022-05-23T00:19:52.096762Z"
    }
   },
   "outputs": [
    {
     "data": {
      "text/html": [
       "<div>\n",
       "<style scoped>\n",
       "    .dataframe tbody tr th:only-of-type {\n",
       "        vertical-align: middle;\n",
       "    }\n",
       "\n",
       "    .dataframe tbody tr th {\n",
       "        vertical-align: top;\n",
       "    }\n",
       "\n",
       "    .dataframe thead th {\n",
       "        text-align: right;\n",
       "    }\n",
       "</style>\n",
       "<table border=\"1\" class=\"dataframe\">\n",
       "  <thead>\n",
       "    <tr style=\"text-align: right;\">\n",
       "      <th>2</th>\n",
       "      <th>제공부서</th>\n",
       "      <th>생산일</th>\n",
       "      <th>분류</th>\n",
       "    </tr>\n",
       "  </thead>\n",
       "  <tbody>\n",
       "    <tr>\n",
       "      <th>1</th>\n",
       "      <td>서울산업진흥원</td>\n",
       "      <td>2021-06-29</td>\n",
       "      <td>경제</td>\n",
       "    </tr>\n",
       "  </tbody>\n",
       "</table>\n",
       "</div>"
      ],
      "text/plain": [
       "2     제공부서         생산일  분류\n",
       "1  서울산업진흥원  2021-06-29  경제"
      ]
     },
     "execution_count": 12,
     "metadata": {},
     "output_type": "execute_result"
    }
   ],
   "source": [
    "t02 = table[[2, 3]].set_index(2).T\n",
    "t02.index = t01.index # 인덱스 값이 안맞으면 어긋난다.\n",
    "t02"
   ]
  },
  {
   "cell_type": "code",
   "execution_count": 8,
   "metadata": {
    "ExecuteTime": {
     "end_time": "2022-05-23T00:01:52.054497Z",
     "start_time": "2022-05-23T00:01:52.023580Z"
    }
   },
   "outputs": [
    {
     "data": {
      "text/html": [
       "<div>\n",
       "<style scoped>\n",
       "    .dataframe tbody tr th:only-of-type {\n",
       "        vertical-align: middle;\n",
       "    }\n",
       "\n",
       "    .dataframe tbody tr th {\n",
       "        vertical-align: top;\n",
       "    }\n",
       "\n",
       "    .dataframe thead th {\n",
       "        text-align: right;\n",
       "    }\n",
       "</style>\n",
       "<table border=\"1\" class=\"dataframe\">\n",
       "  <thead>\n",
       "    <tr style=\"text-align: right;\">\n",
       "      <th></th>\n",
       "      <th>원본시스템</th>\n",
       "      <th>작성자(책임자)</th>\n",
       "      <th>관리번호</th>\n",
       "      <th>제공부서</th>\n",
       "      <th>생산일</th>\n",
       "      <th>분류</th>\n",
       "    </tr>\n",
       "  </thead>\n",
       "  <tbody>\n",
       "    <tr>\n",
       "      <th>1</th>\n",
       "      <td>다산콜센터</td>\n",
       "      <td>120다산콜재단</td>\n",
       "      <td>D0000042894548</td>\n",
       "      <td>서울산업진흥원</td>\n",
       "      <td>2021-06-29</td>\n",
       "      <td>경제</td>\n",
       "    </tr>\n",
       "  </tbody>\n",
       "</table>\n",
       "</div>"
      ],
      "text/plain": [
       "   원본시스템  작성자(책임자)            관리번호     제공부서         생산일  분류\n",
       "1  다산콜센터  120다산콜재단  D0000042894548  서울산업진흥원  2021-06-29  경제"
      ]
     },
     "execution_count": 8,
     "metadata": {},
     "output_type": "execute_result"
    }
   ],
   "source": [
    "pd.concat([t01,t02], axis = 1) # 1이기 때문에 행 인덱스가 같아야함"
   ]
  },
  {
   "cell_type": "code",
   "execution_count": 25,
   "metadata": {
    "ExecuteTime": {
     "end_time": "2022-05-23T00:36:13.552895Z",
     "start_time": "2022-05-23T00:36:13.537937Z"
    },
    "id": "-iG8ZXj6ynDM",
    "outputId": "c4854d44-b79c-4de6-f74d-7d485bb71da7"
   },
   "outputs": [],
   "source": [
    "# 해당 문의가 어떤 분류에 해당되는지 알기 위해 분류를 수집합니다.\n",
    "def get_desc(response):\n",
    "    \"\"\" 분류 수집하기 \"\"\"\n",
    "    table = pd.read_html(response.text)[-1] # \n",
    "    \n",
    "    t01 = table[[0, 1]].set_index(0).T\n",
    "    t02 = table[[2, 3]].set_index(2).T\n",
    "    \n",
    "    t02.index = t01.index\n",
    "    \n",
    "    return pd.concat([t01,t02], axis = 1)\n",
    "    \n",
    "    "
   ]
  },
  {
   "cell_type": "code",
   "execution_count": 98,
   "metadata": {
    "ExecuteTime": {
     "end_time": "2022-05-18T07:50:05.269197Z",
     "start_time": "2022-05-18T07:50:04.943013Z"
    }
   },
   "outputs": [
    {
     "data": {
      "text/html": [
       "<div>\n",
       "<style scoped>\n",
       "    .dataframe tbody tr th:only-of-type {\n",
       "        vertical-align: middle;\n",
       "    }\n",
       "\n",
       "    .dataframe tbody tr th {\n",
       "        vertical-align: top;\n",
       "    }\n",
       "\n",
       "    .dataframe thead th {\n",
       "        text-align: right;\n",
       "    }\n",
       "</style>\n",
       "<table border=\"1\" class=\"dataframe\">\n",
       "  <thead>\n",
       "    <tr style=\"text-align: right;\">\n",
       "      <th></th>\n",
       "      <th>원본시스템</th>\n",
       "      <th>작성자(책임자)</th>\n",
       "      <th>관리번호</th>\n",
       "      <th>제공부서</th>\n",
       "      <th>생산일</th>\n",
       "      <th>분류</th>\n",
       "    </tr>\n",
       "  </thead>\n",
       "  <tbody>\n",
       "    <tr>\n",
       "      <th>1</th>\n",
       "      <td>다산콜센터</td>\n",
       "      <td>120다산콜재단</td>\n",
       "      <td>D0000042894548</td>\n",
       "      <td>서울산업진흥원</td>\n",
       "      <td>2021-06-29</td>\n",
       "      <td>경제</td>\n",
       "    </tr>\n",
       "  </tbody>\n",
       "</table>\n",
       "</div>"
      ],
      "text/plain": [
       "   원본시스템  작성자(책임자)            관리번호     제공부서         생산일  분류\n",
       "1  다산콜센터  120다산콜재단  D0000042894548  서울산업진흥원  2021-06-29  경제"
      ]
     },
     "execution_count": 98,
     "metadata": {},
     "output_type": "execute_result"
    }
   ],
   "source": [
    "response = requests.get(url)\n",
    "get_desc(response)"
   ]
  },
  {
   "cell_type": "markdown",
   "metadata": {
    "id": "eoYRVl9XynDN"
   },
   "source": [
    "## 내용 수집 함수 만들기"
   ]
  },
  {
   "cell_type": "code",
   "execution_count": 17,
   "metadata": {
    "ExecuteTime": {
     "end_time": "2022-05-23T00:28:31.823036Z",
     "start_time": "2022-05-23T00:28:31.808113Z"
    },
    "id": "6dNT7xFjynDO"
   },
   "outputs": [],
   "source": [
    "# 위의 전체 과정을 함수로 만들어 봅니다.\n",
    "\n",
    "def get_view_page(view_no):\n",
    "    url = f\"https://opengov.seoul.go.kr/civilappeal/view/?nid={view_no}\"\n",
    "    reponse = requests.get(url)\n",
    "    html = bs(reponse.text, \"lxml\")\n",
    "    time.sleep(0.1)\n",
    "    try:\n",
    "        content = html.select(\"div.line-all\")[0].get_text()\n",
    "        df_desc = get_desc(html)\n",
    "        df_desc[\"내용\"] = content\n",
    "        df_desc[\"내용번호\"] = view_no\n",
    "        return df_desc\n",
    "    except:\n",
    "        print(view_no)\n",
    "        return pd.DataFrame()"
   ]
  },
  {
   "cell_type": "code",
   "execution_count": 52,
   "metadata": {
    "ExecuteTime": {
     "end_time": "2022-05-23T01:19:50.321959Z",
     "start_time": "2022-05-23T01:19:50.305004Z"
    }
   },
   "outputs": [],
   "source": [
    "# 위의 전체 과정을 함수로 만들어 봅니다.\n",
    "\n",
    "def get_view_page(view_no):\n",
    "    url = f\"https://opengov.seoul.go.kr/civilappeal/view/?nid={view_no}\"\n",
    "    reponse = requests.get(url)\n",
    "    html = bs(reponse.text, \"lxml\")\n",
    "    content = html.select(\"#content > div > div.view-content.view-content-article > div:nth-child(2)\")[0].get_text()\n",
    "    df_desc = get_desc(response)\n",
    "    \n",
    "    df_desc[\"내용\"] = content\n",
    "    df_desc[\"내용번호\"] = view_no\n",
    "    time.sleep(0.01)\n",
    "    return df_desc"
   ]
  },
  {
   "cell_type": "code",
   "execution_count": 53,
   "metadata": {
    "ExecuteTime": {
     "end_time": "2022-05-23T01:19:51.426458Z",
     "start_time": "2022-05-23T01:19:51.046234Z"
    },
    "id": "_jbwzga0ynDO",
    "outputId": "61806eba-a5b8-4eea-f62b-12d1bbdfd6ee"
   },
   "outputs": [
    {
     "data": {
      "text/html": [
       "<div>\n",
       "<style scoped>\n",
       "    .dataframe tbody tr th:only-of-type {\n",
       "        vertical-align: middle;\n",
       "    }\n",
       "\n",
       "    .dataframe tbody tr th {\n",
       "        vertical-align: top;\n",
       "    }\n",
       "\n",
       "    .dataframe thead th {\n",
       "        text-align: right;\n",
       "    }\n",
       "</style>\n",
       "<table border=\"1\" class=\"dataframe\">\n",
       "  <thead>\n",
       "    <tr style=\"text-align: right;\">\n",
       "      <th></th>\n",
       "      <th>원본시스템</th>\n",
       "      <th>작성자(책임자)</th>\n",
       "      <th>관리번호</th>\n",
       "      <th>제공부서</th>\n",
       "      <th>생산일</th>\n",
       "      <th>분류</th>\n",
       "      <th>내용</th>\n",
       "      <th>내용번호</th>\n",
       "    </tr>\n",
       "  </thead>\n",
       "  <tbody>\n",
       "    <tr>\n",
       "      <th>1</th>\n",
       "      <td>다산콜센터</td>\n",
       "      <td>120다산콜재단</td>\n",
       "      <td>D0000042894548</td>\n",
       "      <td>서울산업진흥원</td>\n",
       "      <td>2021-06-29</td>\n",
       "      <td>경제</td>\n",
       "      <td>\\n문서 본문\\n\\n    업무개요  교통약자인 임산부와 영아가정 주민이 병원 진료...</td>\n",
       "      <td>22904492</td>\n",
       "    </tr>\n",
       "  </tbody>\n",
       "</table>\n",
       "</div>"
      ],
      "text/plain": [
       "   원본시스템  작성자(책임자)            관리번호     제공부서         생산일  분류  \\\n",
       "1  다산콜센터  120다산콜재단  D0000042894548  서울산업진흥원  2021-06-29  경제   \n",
       "\n",
       "                                                  내용      내용번호  \n",
       "1  \\n문서 본문\\n\\n    업무개요  교통약자인 임산부와 영아가정 주민이 병원 진료...  22904492  "
      ]
     },
     "execution_count": 53,
     "metadata": {},
     "output_type": "execute_result"
    }
   ],
   "source": [
    "# 없는 데이터를 불러왔을 때 오류가 나는지 확인\n",
    "# view_no가 22904492 인 것을 get_view_page()로 확인해 봅니다.\n",
    "get_view_page(22904492)"
   ]
  },
  {
   "cell_type": "markdown",
   "metadata": {
    "id": "ld-tG13HynDP"
   },
   "source": [
    "## 전체 내용 가져오기\n",
    "* <font color=\"red\">실습을 위해 위에서 일부 데이터만 가져왔습니다.</font>\n",
    "* 전체 데이터 수집시에서 전체 수집한 데이터로 수집을 진행하면 됩니다.\n",
    "* 전체 데이터 수집시에는 서버에 부담이 가지 않도록 time.sleep()을 통해 간격을 두고 수집해 주세요."
   ]
  },
  {
   "cell_type": "code",
   "execution_count": 54,
   "metadata": {
    "ExecuteTime": {
     "end_time": "2022-05-23T01:20:00.222243Z",
     "start_time": "2022-05-23T01:19:56.945377Z"
    },
    "colab": {
     "referenced_widgets": [
      "765f0f37bbc643878b1f47e7806873b8"
     ]
    },
    "id": "BCRuR9HFynDP",
    "outputId": "02213636-fd95-4283-8258-af5698a77a58",
    "scrolled": false
   },
   "outputs": [
    {
     "data": {
      "application/vnd.jupyter.widget-view+json": {
       "model_id": "a227c1fe7ef14a93ab054d66c052a839",
       "version_major": 2,
       "version_minor": 0
      },
      "text/plain": [
       "  0%|          | 0/10 [00:00<?, ?it/s]"
      ]
     },
     "metadata": {},
     "output_type": "display_data"
    }
   ],
   "source": [
    "# tqdm.notebook 의 tqdm 을 통해 수집 진행상태를 확인합니다.\n",
    "# progress_apply 를 사용하면 진행상태를 확인하며 데이터를 가져올 수 있습니다.\n",
    "from tqdm.notebook import tqdm\n",
    "tqdm.pandas()\n",
    "view = df[\"내용번호\"].progress_map(get_view_page)\n"
   ]
  },
  {
   "cell_type": "markdown",
   "metadata": {
    "id": "yecPuZRsynDQ"
   },
   "source": [
    "## 수집한 내용 확인하기"
   ]
  },
  {
   "cell_type": "code",
   "execution_count": 55,
   "metadata": {
    "ExecuteTime": {
     "end_time": "2022-05-23T01:20:03.020529Z",
     "start_time": "2022-05-23T01:20:02.965667Z"
    },
    "id": "7YgaOW-uynDQ",
    "outputId": "c4f8204b-1f69-45fd-edb0-3c063fb0feab",
    "scrolled": true
   },
   "outputs": [
    {
     "data": {
      "text/plain": [
       "0       원본시스템  작성자(책임자)            관리번호     제공부서   ...\n",
       "1       원본시스템  작성자(책임자)            관리번호     제공부서   ...\n",
       "2       원본시스템  작성자(책임자)            관리번호     제공부서   ...\n",
       "3       원본시스템  작성자(책임자)            관리번호     제공부서   ...\n",
       "4       원본시스템  작성자(책임자)            관리번호     제공부서   ...\n",
       "5       원본시스템  작성자(책임자)            관리번호     제공부서   ...\n",
       "6       원본시스템  작성자(책임자)            관리번호     제공부서   ...\n",
       "7       원본시스템  작성자(책임자)            관리번호     제공부서   ...\n",
       "8       원본시스템  작성자(책임자)            관리번호     제공부서   ...\n",
       "9       원본시스템  작성자(책임자)            관리번호     제공부서   ...\n",
       "Name: 내용번호, dtype: object"
      ]
     },
     "execution_count": 55,
     "metadata": {},
     "output_type": "execute_result"
    }
   ],
   "source": [
    "# 일부 데이터만 슬라이싱하여 살펴봅니다.\n",
    "view"
   ]
  },
  {
   "cell_type": "code",
   "execution_count": 56,
   "metadata": {
    "ExecuteTime": {
     "end_time": "2022-05-23T01:20:05.430576Z",
     "start_time": "2022-05-23T01:20:05.407640Z"
    },
    "id": "WeFFag4jynDQ",
    "outputId": "e97824a3-0436-4f4a-99f5-7c1231e3d2d1"
   },
   "outputs": [
    {
     "data": {
      "text/html": [
       "<div>\n",
       "<style scoped>\n",
       "    .dataframe tbody tr th:only-of-type {\n",
       "        vertical-align: middle;\n",
       "    }\n",
       "\n",
       "    .dataframe tbody tr th {\n",
       "        vertical-align: top;\n",
       "    }\n",
       "\n",
       "    .dataframe thead th {\n",
       "        text-align: right;\n",
       "    }\n",
       "</style>\n",
       "<table border=\"1\" class=\"dataframe\">\n",
       "  <thead>\n",
       "    <tr style=\"text-align: right;\">\n",
       "      <th></th>\n",
       "      <th>원본시스템</th>\n",
       "      <th>작성자(책임자)</th>\n",
       "      <th>관리번호</th>\n",
       "      <th>제공부서</th>\n",
       "      <th>생산일</th>\n",
       "      <th>분류</th>\n",
       "      <th>내용</th>\n",
       "      <th>내용번호</th>\n",
       "    </tr>\n",
       "  </thead>\n",
       "  <tbody>\n",
       "    <tr>\n",
       "      <th>1</th>\n",
       "      <td>다산콜센터</td>\n",
       "      <td>120다산콜재단</td>\n",
       "      <td>D0000042894548</td>\n",
       "      <td>서울산업진흥원</td>\n",
       "      <td>2021-06-29</td>\n",
       "      <td>경제</td>\n",
       "      <td>\\n문서 본문\\n\\n 서울의 감성을 담은 다양하고 새로운 경험을 제공하기 위해 만들...</td>\n",
       "      <td>23194045</td>\n",
       "    </tr>\n",
       "  </tbody>\n",
       "</table>\n",
       "</div>"
      ],
      "text/plain": [
       "   원본시스템  작성자(책임자)            관리번호     제공부서         생산일  분류  \\\n",
       "1  다산콜센터  120다산콜재단  D0000042894548  서울산업진흥원  2021-06-29  경제   \n",
       "\n",
       "                                                  내용      내용번호  \n",
       "1  \\n문서 본문\\n\\n 서울의 감성을 담은 다양하고 새로운 경험을 제공하기 위해 만들...  23194045  "
      ]
     },
     "execution_count": 56,
     "metadata": {},
     "output_type": "execute_result"
    }
   ],
   "source": [
    "# 하나만 가져오면 데이터프레임 형태로 되어 있음을 확인합니다.\n",
    "view[1]"
   ]
  },
  {
   "cell_type": "code",
   "execution_count": 39,
   "metadata": {
    "ExecuteTime": {
     "end_time": "2022-05-23T01:11:13.070412Z",
     "start_time": "2022-05-23T01:11:13.028556Z"
    },
    "scrolled": true
   },
   "outputs": [
    {
     "data": {
      "text/plain": [
       "[   원본시스템  작성자(책임자)            관리번호     제공부서         생산일  분류  \\\n",
       " 1  다산콜센터  120다산콜재단  D0000042894548  서울산업진흥원  2021-06-29  경제   \n",
       " \n",
       "                                                   내용  \n",
       " 1  \\n문서 본문\\n\\n      업무개요   다자녀가정 아이들의 안전한 실내 활동과 ...  ,\n",
       "    원본시스템  작성자(책임자)            관리번호     제공부서         생산일  분류  \\\n",
       " 1  다산콜센터  120다산콜재단  D0000042894548  서울산업진흥원  2021-06-29  경제   \n",
       " \n",
       "                                                   내용  \n",
       " 1  \\n문서 본문\\n\\n 서울의 감성을 담은 다양하고 새로운 경험을 제공하기 위해 만들...  ,\n",
       "    원본시스템  작성자(책임자)            관리번호     제공부서         생산일  분류  \\\n",
       " 1  다산콜센터  120다산콜재단  D0000042894548  서울산업진흥원  2021-06-29  경제   \n",
       " \n",
       "                                                   내용  \n",
       " 1  \\n문서 본문\\n\\n    업무개요  교통약자인 임산부와 영아가정 주민이 병원 진료...  ,\n",
       "    원본시스템  작성자(책임자)            관리번호     제공부서         생산일  분류  \\\n",
       " 1  다산콜센터  120다산콜재단  D0000042894548  서울산업진흥원  2021-06-29  경제   \n",
       " \n",
       "                                                   내용  \n",
       " 1  \\n문서 본문\\n\\n ▣ 마포뇌병변장애인 비전센터 운영     구분  내용    목...  ,\n",
       "    원본시스템  작성자(책임자)            관리번호     제공부서         생산일  분류  \\\n",
       " 1  다산콜센터  120다산콜재단  D0000042894548  서울산업진흥원  2021-06-29  경제   \n",
       " \n",
       "                                                   내용  \n",
       " 1  \\n문서 본문\\n\\n    업무개요   직장 내 성희롱 지원체계 사각지대에 있는 서...  ,\n",
       "    원본시스템  작성자(책임자)            관리번호     제공부서         생산일  분류  \\\n",
       " 1  다산콜센터  120다산콜재단  D0000042894548  서울산업진흥원  2021-06-29  경제   \n",
       " \n",
       "                                                   내용  \n",
       " 1  \\n문서 본문\\n\\n▣ 반려동물 무료상담실_\"무엇이든 물어보시개?\" 운영 안내   ...  ,\n",
       "    원본시스템  작성자(책임자)            관리번호     제공부서         생산일  분류  \\\n",
       " 1  다산콜센터  120다산콜재단  D0000042894548  서울산업진흥원  2021-06-29  경제   \n",
       " \n",
       "                                                   내용  \n",
       " 1  \\n문서 본문\\n\\n서울시와 서울시육아종합지원센터는 140여 명의 우리동네 보육반장...  ,\n",
       "    원본시스템  작성자(책임자)            관리번호     제공부서         생산일  분류  \\\n",
       " 1  다산콜센터  120다산콜재단  D0000042894548  서울산업진흥원  2021-06-29  경제   \n",
       " \n",
       "                                                   내용  \n",
       " 1  \\n문서 본문\\n\\r\\n\\t\\t\\t\\t\\t\\t\\t○ 사회서비스 분야에서 공공부문의 ...  ,\n",
       "    원본시스템  작성자(책임자)            관리번호     제공부서         생산일  분류  \\\n",
       " 1  다산콜센터  120다산콜재단  D0000042894548  서울산업진흥원  2021-06-29  경제   \n",
       " \n",
       "                                                   내용  \n",
       " 1  \\n문서 본문\\n\\r\\n\\t\\t\\t\\t\\t\\t\\t업무개요\\n\\n '빈차를 보고 택시...  ,\n",
       "    원본시스템  작성자(책임자)            관리번호     제공부서         생산일  분류  \\\n",
       " 1  다산콜센터  120다산콜재단  D0000042894548  서울산업진흥원  2021-06-29  경제   \n",
       " \n",
       "                                                   내용  \n",
       " 1  \\n문서 본문\\n\\n     업무개요   보건복지부와 서울시택시운송사업조합의 민관협...  ]"
      ]
     },
     "execution_count": 39,
     "metadata": {},
     "output_type": "execute_result"
    }
   ],
   "source": [
    "view.tolist()"
   ]
  },
  {
   "cell_type": "markdown",
   "metadata": {
    "id": "pNHxbWSrynDR"
   },
   "source": [
    "## 하나로 병합하기"
   ]
  },
  {
   "cell_type": "code",
   "execution_count": 70,
   "metadata": {
    "ExecuteTime": {
     "end_time": "2022-05-23T01:37:31.865487Z",
     "start_time": "2022-05-23T01:37:31.840550Z"
    },
    "id": "qlvAy7PqynDR"
   },
   "outputs": [
    {
     "data": {
      "text/html": [
       "<div>\n",
       "<style scoped>\n",
       "    .dataframe tbody tr th:only-of-type {\n",
       "        vertical-align: middle;\n",
       "    }\n",
       "\n",
       "    .dataframe tbody tr th {\n",
       "        vertical-align: top;\n",
       "    }\n",
       "\n",
       "    .dataframe thead th {\n",
       "        text-align: right;\n",
       "    }\n",
       "</style>\n",
       "<table border=\"1\" class=\"dataframe\">\n",
       "  <thead>\n",
       "    <tr style=\"text-align: right;\">\n",
       "      <th></th>\n",
       "      <th>원본시스템</th>\n",
       "      <th>작성자(책임자)</th>\n",
       "      <th>관리번호</th>\n",
       "      <th>제공부서</th>\n",
       "      <th>생산일</th>\n",
       "      <th>분류</th>\n",
       "      <th>내용</th>\n",
       "      <th>내용번호</th>\n",
       "    </tr>\n",
       "  </thead>\n",
       "  <tbody>\n",
       "    <tr>\n",
       "      <th>1</th>\n",
       "      <td>다산콜센터</td>\n",
       "      <td>120다산콜재단</td>\n",
       "      <td>D0000042894548</td>\n",
       "      <td>서울산업진흥원</td>\n",
       "      <td>2021-06-29</td>\n",
       "      <td>경제</td>\n",
       "      <td>\\n문서 본문\\n\\n      업무개요   다자녀가정 아이들의 안전한 실내 활동과 ...</td>\n",
       "      <td>25670204</td>\n",
       "    </tr>\n",
       "    <tr>\n",
       "      <th>1</th>\n",
       "      <td>다산콜센터</td>\n",
       "      <td>120다산콜재단</td>\n",
       "      <td>D0000042894548</td>\n",
       "      <td>서울산업진흥원</td>\n",
       "      <td>2021-06-29</td>\n",
       "      <td>경제</td>\n",
       "      <td>\\n문서 본문\\n\\n 서울의 감성을 담은 다양하고 새로운 경험을 제공하기 위해 만들...</td>\n",
       "      <td>23194045</td>\n",
       "    </tr>\n",
       "    <tr>\n",
       "      <th>1</th>\n",
       "      <td>다산콜센터</td>\n",
       "      <td>120다산콜재단</td>\n",
       "      <td>D0000042894548</td>\n",
       "      <td>서울산업진흥원</td>\n",
       "      <td>2021-06-29</td>\n",
       "      <td>경제</td>\n",
       "      <td>\\n문서 본문\\n\\n    업무개요  교통약자인 임산부와 영아가정 주민이 병원 진료...</td>\n",
       "      <td>22904492</td>\n",
       "    </tr>\n",
       "    <tr>\n",
       "      <th>1</th>\n",
       "      <td>다산콜센터</td>\n",
       "      <td>120다산콜재단</td>\n",
       "      <td>D0000042894548</td>\n",
       "      <td>서울산업진흥원</td>\n",
       "      <td>2021-06-29</td>\n",
       "      <td>경제</td>\n",
       "      <td>\\n문서 본문\\n\\n ▣ 마포뇌병변장애인 비전센터 운영     구분  내용    목...</td>\n",
       "      <td>22477798</td>\n",
       "    </tr>\n",
       "    <tr>\n",
       "      <th>1</th>\n",
       "      <td>다산콜센터</td>\n",
       "      <td>120다산콜재단</td>\n",
       "      <td>D0000042894548</td>\n",
       "      <td>서울산업진흥원</td>\n",
       "      <td>2021-06-29</td>\n",
       "      <td>경제</td>\n",
       "      <td>\\n문서 본문\\n\\n    업무개요   직장 내 성희롱 지원체계 사각지대에 있는 서...</td>\n",
       "      <td>21212235</td>\n",
       "    </tr>\n",
       "  </tbody>\n",
       "</table>\n",
       "</div>"
      ],
      "text/plain": [
       "   원본시스템  작성자(책임자)            관리번호     제공부서         생산일  분류  \\\n",
       "1  다산콜센터  120다산콜재단  D0000042894548  서울산업진흥원  2021-06-29  경제   \n",
       "1  다산콜센터  120다산콜재단  D0000042894548  서울산업진흥원  2021-06-29  경제   \n",
       "1  다산콜센터  120다산콜재단  D0000042894548  서울산업진흥원  2021-06-29  경제   \n",
       "1  다산콜센터  120다산콜재단  D0000042894548  서울산업진흥원  2021-06-29  경제   \n",
       "1  다산콜센터  120다산콜재단  D0000042894548  서울산업진흥원  2021-06-29  경제   \n",
       "\n",
       "                                                  내용      내용번호  \n",
       "1  \\n문서 본문\\n\\n      업무개요   다자녀가정 아이들의 안전한 실내 활동과 ...  25670204  \n",
       "1  \\n문서 본문\\n\\n 서울의 감성을 담은 다양하고 새로운 경험을 제공하기 위해 만들...  23194045  \n",
       "1  \\n문서 본문\\n\\n    업무개요  교통약자인 임산부와 영아가정 주민이 병원 진료...  22904492  \n",
       "1  \\n문서 본문\\n\\n ▣ 마포뇌병변장애인 비전센터 운영     구분  내용    목...  22477798  \n",
       "1  \\n문서 본문\\n\\n    업무개요   직장 내 성희롱 지원체계 사각지대에 있는 서...  21212235  "
      ]
     },
     "execution_count": 70,
     "metadata": {},
     "output_type": "execute_result"
    }
   ],
   "source": [
    "# 수집한 내용을 tolist() 를 통해 리스트로 변환 후 concat 으로 병합합니다.\n",
    "# df_view\n",
    "df_view = pd.concat(view.tolist())\n",
    "df_view.head()"
   ]
  },
  {
   "cell_type": "code",
   "execution_count": 81,
   "metadata": {
    "ExecuteTime": {
     "end_time": "2022-05-23T02:05:19.644103Z",
     "start_time": "2022-05-23T02:05:19.601250Z"
    },
    "id": "ObcuAGQgynDR",
    "outputId": "40b17cee-0744-4bf1-bef0-4a9413f7511d"
   },
   "outputs": [
    {
     "data": {
      "text/html": [
       "<div>\n",
       "<style scoped>\n",
       "    .dataframe tbody tr th:only-of-type {\n",
       "        vertical-align: middle;\n",
       "    }\n",
       "\n",
       "    .dataframe tbody tr th {\n",
       "        vertical-align: top;\n",
       "    }\n",
       "\n",
       "    .dataframe thead th {\n",
       "        text-align: right;\n",
       "    }\n",
       "</style>\n",
       "<table border=\"1\" class=\"dataframe\">\n",
       "  <thead>\n",
       "    <tr style=\"text-align: right;\">\n",
       "      <th></th>\n",
       "      <th>번호</th>\n",
       "      <th>제목</th>\n",
       "      <th>생산일_x</th>\n",
       "      <th>조회수</th>\n",
       "      <th>내용번호</th>\n",
       "      <th>원본시스템</th>\n",
       "      <th>작성자(책임자)</th>\n",
       "      <th>관리번호</th>\n",
       "      <th>제공부서</th>\n",
       "      <th>생산일_y</th>\n",
       "      <th>분류</th>\n",
       "      <th>내용</th>\n",
       "    </tr>\n",
       "  </thead>\n",
       "  <tbody>\n",
       "    <tr>\n",
       "      <th>0</th>\n",
       "      <td>2470</td>\n",
       "      <td>다자녀가정 실내 바닥매트 지원</td>\n",
       "      <td>2021-08-17</td>\n",
       "      <td>223</td>\n",
       "      <td>25670204</td>\n",
       "      <td>다산콜센터</td>\n",
       "      <td>120다산콜재단</td>\n",
       "      <td>D0000042894548</td>\n",
       "      <td>서울산업진흥원</td>\n",
       "      <td>2021-06-29</td>\n",
       "      <td>경제</td>\n",
       "      <td>\\n문서 본문\\n\\n      업무개요   다자녀가정 아이들의 안전한 실내 활동과 ...</td>\n",
       "    </tr>\n",
       "    <tr>\n",
       "      <th>1</th>\n",
       "      <td>2469</td>\n",
       "      <td>[서울산업진흥원] 서울메이드란?</td>\n",
       "      <td>2021-06-29</td>\n",
       "      <td>1576</td>\n",
       "      <td>23194045</td>\n",
       "      <td>다산콜센터</td>\n",
       "      <td>120다산콜재단</td>\n",
       "      <td>D0000042894548</td>\n",
       "      <td>서울산업진흥원</td>\n",
       "      <td>2021-06-29</td>\n",
       "      <td>경제</td>\n",
       "      <td>\\n문서 본문\\n\\n 서울의 감성을 담은 다양하고 새로운 경험을 제공하기 위해 만들...</td>\n",
       "    </tr>\n",
       "    <tr>\n",
       "      <th>2</th>\n",
       "      <td>2468</td>\n",
       "      <td>광진맘택시 운영(임산부,영아 양육가정 전용 택시)</td>\n",
       "      <td>2021-05-13</td>\n",
       "      <td>751</td>\n",
       "      <td>22904492</td>\n",
       "      <td>다산콜센터</td>\n",
       "      <td>120다산콜재단</td>\n",
       "      <td>D0000042894548</td>\n",
       "      <td>서울산업진흥원</td>\n",
       "      <td>2021-06-29</td>\n",
       "      <td>경제</td>\n",
       "      <td>\\n문서 본문\\n\\n    업무개요  교통약자인 임산부와 영아가정 주민이 병원 진료...</td>\n",
       "    </tr>\n",
       "    <tr>\n",
       "      <th>3</th>\n",
       "      <td>2467</td>\n",
       "      <td>마포 뇌병변장애인 비전센터</td>\n",
       "      <td>2021-03-12</td>\n",
       "      <td>869</td>\n",
       "      <td>22477798</td>\n",
       "      <td>다산콜센터</td>\n",
       "      <td>120다산콜재단</td>\n",
       "      <td>D0000042894548</td>\n",
       "      <td>서울산업진흥원</td>\n",
       "      <td>2021-06-29</td>\n",
       "      <td>경제</td>\n",
       "      <td>\\n문서 본문\\n\\n ▣ 마포뇌병변장애인 비전센터 운영     구분  내용    목...</td>\n",
       "    </tr>\n",
       "    <tr>\n",
       "      <th>4</th>\n",
       "      <td>2466</td>\n",
       "      <td>위드유 서울 직장 성희롱.성폭력 예방센터</td>\n",
       "      <td>2020-09-16</td>\n",
       "      <td>1184</td>\n",
       "      <td>21212235</td>\n",
       "      <td>다산콜센터</td>\n",
       "      <td>120다산콜재단</td>\n",
       "      <td>D0000042894548</td>\n",
       "      <td>서울산업진흥원</td>\n",
       "      <td>2021-06-29</td>\n",
       "      <td>경제</td>\n",
       "      <td>\\n문서 본문\\n\\n    업무개요   직장 내 성희롱 지원체계 사각지대에 있는 서...</td>\n",
       "    </tr>\n",
       "    <tr>\n",
       "      <th>5</th>\n",
       "      <td>2465</td>\n",
       "      <td>[성동구] 반려동물 \"무료상담실\" 운영 안내</td>\n",
       "      <td>2020-08-31</td>\n",
       "      <td>911</td>\n",
       "      <td>21095911</td>\n",
       "      <td>다산콜센터</td>\n",
       "      <td>120다산콜재단</td>\n",
       "      <td>D0000042894548</td>\n",
       "      <td>서울산업진흥원</td>\n",
       "      <td>2021-06-29</td>\n",
       "      <td>경제</td>\n",
       "      <td>\\n문서 본문\\n\\n▣ 반려동물 무료상담실_\"무엇이든 물어보시개?\" 운영 안내   ...</td>\n",
       "    </tr>\n",
       "    <tr>\n",
       "      <th>6</th>\n",
       "      <td>2464</td>\n",
       "      <td>서울시 '우리동네꼼꼼육아정보' 책자</td>\n",
       "      <td>2019-10-23</td>\n",
       "      <td>1576</td>\n",
       "      <td>18955676</td>\n",
       "      <td>다산콜센터</td>\n",
       "      <td>120다산콜재단</td>\n",
       "      <td>D0000042894548</td>\n",
       "      <td>서울산업진흥원</td>\n",
       "      <td>2021-06-29</td>\n",
       "      <td>경제</td>\n",
       "      <td>\\n문서 본문\\n\\n서울시와 서울시육아종합지원센터는 140여 명의 우리동네 보육반장...</td>\n",
       "    </tr>\n",
       "    <tr>\n",
       "      <th>7</th>\n",
       "      <td>2463</td>\n",
       "      <td>서울시 사회서비스원은 무엇을 하는 곳인가요?</td>\n",
       "      <td>2019-07-22</td>\n",
       "      <td>1653</td>\n",
       "      <td>18300944</td>\n",
       "      <td>다산콜센터</td>\n",
       "      <td>120다산콜재단</td>\n",
       "      <td>D0000042894548</td>\n",
       "      <td>서울산업진흥원</td>\n",
       "      <td>2021-06-29</td>\n",
       "      <td>경제</td>\n",
       "      <td>\\n문서 본문\\n\\r\\n\\t\\t\\t\\t\\t\\t\\t○ 사회서비스 분야에서 공공부문의 ...</td>\n",
       "    </tr>\n",
       "    <tr>\n",
       "      <th>8</th>\n",
       "      <td>2462</td>\n",
       "      <td>[종료사업] S-Taxi 앱 (에스택시, 서울택시승차앱) 시범운영</td>\n",
       "      <td>2019-06-03</td>\n",
       "      <td>1638</td>\n",
       "      <td>17949033</td>\n",
       "      <td>다산콜센터</td>\n",
       "      <td>120다산콜재단</td>\n",
       "      <td>D0000042894548</td>\n",
       "      <td>서울산업진흥원</td>\n",
       "      <td>2021-06-29</td>\n",
       "      <td>경제</td>\n",
       "      <td>\\n문서 본문\\n\\r\\n\\t\\t\\t\\t\\t\\t\\t업무개요\\n\\n '빈차를 보고 택시...</td>\n",
       "    </tr>\n",
       "    <tr>\n",
       "      <th>9</th>\n",
       "      <td>2461</td>\n",
       "      <td>장기요양 이동지원서비스(모두타 돌봄택시)</td>\n",
       "      <td>2019-05-27</td>\n",
       "      <td>2149</td>\n",
       "      <td>17896364</td>\n",
       "      <td>다산콜센터</td>\n",
       "      <td>120다산콜재단</td>\n",
       "      <td>D0000042894548</td>\n",
       "      <td>서울산업진흥원</td>\n",
       "      <td>2021-06-29</td>\n",
       "      <td>경제</td>\n",
       "      <td>\\n문서 본문\\n\\n     업무개요   보건복지부와 서울시택시운송사업조합의 민관협...</td>\n",
       "    </tr>\n",
       "  </tbody>\n",
       "</table>\n",
       "</div>"
      ],
      "text/plain": [
       "     번호                                    제목       생산일_x   조회수      내용번호  \\\n",
       "0  2470                      다자녀가정 실내 바닥매트 지원  2021-08-17   223  25670204   \n",
       "1  2469                     [서울산업진흥원] 서울메이드란?  2021-06-29  1576  23194045   \n",
       "2  2468           광진맘택시 운영(임산부,영아 양육가정 전용 택시)  2021-05-13   751  22904492   \n",
       "3  2467                        마포 뇌병변장애인 비전센터  2021-03-12   869  22477798   \n",
       "4  2466                위드유 서울 직장 성희롱.성폭력 예방센터  2020-09-16  1184  21212235   \n",
       "5  2465              [성동구] 반려동물 \"무료상담실\" 운영 안내  2020-08-31   911  21095911   \n",
       "6  2464                   서울시 '우리동네꼼꼼육아정보' 책자  2019-10-23  1576  18955676   \n",
       "7  2463              서울시 사회서비스원은 무엇을 하는 곳인가요?  2019-07-22  1653  18300944   \n",
       "8  2462  [종료사업] S-Taxi 앱 (에스택시, 서울택시승차앱) 시범운영  2019-06-03  1638  17949033   \n",
       "9  2461                장기요양 이동지원서비스(모두타 돌봄택시)  2019-05-27  2149  17896364   \n",
       "\n",
       "   원본시스템  작성자(책임자)            관리번호     제공부서       생산일_y  분류  \\\n",
       "0  다산콜센터  120다산콜재단  D0000042894548  서울산업진흥원  2021-06-29  경제   \n",
       "1  다산콜센터  120다산콜재단  D0000042894548  서울산업진흥원  2021-06-29  경제   \n",
       "2  다산콜센터  120다산콜재단  D0000042894548  서울산업진흥원  2021-06-29  경제   \n",
       "3  다산콜센터  120다산콜재단  D0000042894548  서울산업진흥원  2021-06-29  경제   \n",
       "4  다산콜센터  120다산콜재단  D0000042894548  서울산업진흥원  2021-06-29  경제   \n",
       "5  다산콜센터  120다산콜재단  D0000042894548  서울산업진흥원  2021-06-29  경제   \n",
       "6  다산콜센터  120다산콜재단  D0000042894548  서울산업진흥원  2021-06-29  경제   \n",
       "7  다산콜센터  120다산콜재단  D0000042894548  서울산업진흥원  2021-06-29  경제   \n",
       "8  다산콜센터  120다산콜재단  D0000042894548  서울산업진흥원  2021-06-29  경제   \n",
       "9  다산콜센터  120다산콜재단  D0000042894548  서울산업진흥원  2021-06-29  경제   \n",
       "\n",
       "                                                  내용  \n",
       "0  \\n문서 본문\\n\\n      업무개요   다자녀가정 아이들의 안전한 실내 활동과 ...  \n",
       "1  \\n문서 본문\\n\\n 서울의 감성을 담은 다양하고 새로운 경험을 제공하기 위해 만들...  \n",
       "2  \\n문서 본문\\n\\n    업무개요  교통약자인 임산부와 영아가정 주민이 병원 진료...  \n",
       "3  \\n문서 본문\\n\\n ▣ 마포뇌병변장애인 비전센터 운영     구분  내용    목...  \n",
       "4  \\n문서 본문\\n\\n    업무개요   직장 내 성희롱 지원체계 사각지대에 있는 서...  \n",
       "5  \\n문서 본문\\n\\n▣ 반려동물 무료상담실_\"무엇이든 물어보시개?\" 운영 안내   ...  \n",
       "6  \\n문서 본문\\n\\n서울시와 서울시육아종합지원센터는 140여 명의 우리동네 보육반장...  \n",
       "7  \\n문서 본문\\n\\r\\n\\t\\t\\t\\t\\t\\t\\t○ 사회서비스 분야에서 공공부문의 ...  \n",
       "8  \\n문서 본문\\n\\r\\n\\t\\t\\t\\t\\t\\t\\t업무개요\\n\\n '빈차를 보고 택시...  \n",
       "9  \\n문서 본문\\n\\n     업무개요   보건복지부와 서울시택시운송사업조합의 민관협...  "
      ]
     },
     "execution_count": 81,
     "metadata": {},
     "output_type": "execute_result"
    }
   ],
   "source": [
    "# 기존 데이터와 병합하여 내용이 함께 수집된 것을 확인합니다.\n",
    "# df_detail\n",
    "# del df[\"내용\"]\n",
    "df_detail = df.merge(df_view, how = \"left\", on = \"내용번호\")\n",
    "df_detail"
   ]
  },
  {
   "cell_type": "markdown",
   "metadata": {
    "id": "-PRVRFl8ynDS"
   },
   "source": [
    "## 사용할 컬럼만 남기기"
   ]
  },
  {
   "cell_type": "code",
   "execution_count": 74,
   "metadata": {
    "ExecuteTime": {
     "end_time": "2022-05-23T01:41:09.586575Z",
     "start_time": "2022-05-23T01:41:09.554662Z"
    },
    "id": "Izm1ToHnynDS"
   },
   "outputs": [
    {
     "data": {
      "text/html": [
       "<div>\n",
       "<style scoped>\n",
       "    .dataframe tbody tr th:only-of-type {\n",
       "        vertical-align: middle;\n",
       "    }\n",
       "\n",
       "    .dataframe tbody tr th {\n",
       "        vertical-align: top;\n",
       "    }\n",
       "\n",
       "    .dataframe thead th {\n",
       "        text-align: right;\n",
       "    }\n",
       "</style>\n",
       "<table border=\"1\" class=\"dataframe\">\n",
       "  <thead>\n",
       "    <tr style=\"text-align: right;\">\n",
       "      <th></th>\n",
       "      <th>번호</th>\n",
       "      <th>분류</th>\n",
       "      <th>제목</th>\n",
       "      <th>내용</th>\n",
       "      <th>내용번호</th>\n",
       "    </tr>\n",
       "  </thead>\n",
       "  <tbody>\n",
       "    <tr>\n",
       "      <th>0</th>\n",
       "      <td>2470</td>\n",
       "      <td>경제</td>\n",
       "      <td>다자녀가정 실내 바닥매트 지원</td>\n",
       "      <td>\\n문서 본문\\n\\n      업무개요   다자녀가정 아이들의 안전한 실내 활동과 ...</td>\n",
       "      <td>25670204</td>\n",
       "    </tr>\n",
       "    <tr>\n",
       "      <th>1</th>\n",
       "      <td>2469</td>\n",
       "      <td>경제</td>\n",
       "      <td>[서울산업진흥원] 서울메이드란?</td>\n",
       "      <td>\\n문서 본문\\n\\n 서울의 감성을 담은 다양하고 새로운 경험을 제공하기 위해 만들...</td>\n",
       "      <td>23194045</td>\n",
       "    </tr>\n",
       "    <tr>\n",
       "      <th>2</th>\n",
       "      <td>2468</td>\n",
       "      <td>경제</td>\n",
       "      <td>광진맘택시 운영(임산부,영아 양육가정 전용 택시)</td>\n",
       "      <td>\\n문서 본문\\n\\n    업무개요  교통약자인 임산부와 영아가정 주민이 병원 진료...</td>\n",
       "      <td>22904492</td>\n",
       "    </tr>\n",
       "    <tr>\n",
       "      <th>3</th>\n",
       "      <td>2467</td>\n",
       "      <td>경제</td>\n",
       "      <td>마포 뇌병변장애인 비전센터</td>\n",
       "      <td>\\n문서 본문\\n\\n ▣ 마포뇌병변장애인 비전센터 운영     구분  내용    목...</td>\n",
       "      <td>22477798</td>\n",
       "    </tr>\n",
       "    <tr>\n",
       "      <th>4</th>\n",
       "      <td>2466</td>\n",
       "      <td>경제</td>\n",
       "      <td>위드유 서울 직장 성희롱.성폭력 예방센터</td>\n",
       "      <td>\\n문서 본문\\n\\n    업무개요   직장 내 성희롱 지원체계 사각지대에 있는 서...</td>\n",
       "      <td>21212235</td>\n",
       "    </tr>\n",
       "    <tr>\n",
       "      <th>5</th>\n",
       "      <td>2465</td>\n",
       "      <td>경제</td>\n",
       "      <td>[성동구] 반려동물 \"무료상담실\" 운영 안내</td>\n",
       "      <td>\\n문서 본문\\n\\n▣ 반려동물 무료상담실_\"무엇이든 물어보시개?\" 운영 안내   ...</td>\n",
       "      <td>21095911</td>\n",
       "    </tr>\n",
       "    <tr>\n",
       "      <th>6</th>\n",
       "      <td>2464</td>\n",
       "      <td>경제</td>\n",
       "      <td>서울시 '우리동네꼼꼼육아정보' 책자</td>\n",
       "      <td>\\n문서 본문\\n\\n서울시와 서울시육아종합지원센터는 140여 명의 우리동네 보육반장...</td>\n",
       "      <td>18955676</td>\n",
       "    </tr>\n",
       "    <tr>\n",
       "      <th>7</th>\n",
       "      <td>2463</td>\n",
       "      <td>경제</td>\n",
       "      <td>서울시 사회서비스원은 무엇을 하는 곳인가요?</td>\n",
       "      <td>\\n문서 본문\\n\\r\\n\\t\\t\\t\\t\\t\\t\\t○ 사회서비스 분야에서 공공부문의 ...</td>\n",
       "      <td>18300944</td>\n",
       "    </tr>\n",
       "    <tr>\n",
       "      <th>8</th>\n",
       "      <td>2462</td>\n",
       "      <td>경제</td>\n",
       "      <td>[종료사업] S-Taxi 앱 (에스택시, 서울택시승차앱) 시범운영</td>\n",
       "      <td>\\n문서 본문\\n\\r\\n\\t\\t\\t\\t\\t\\t\\t업무개요\\n\\n '빈차를 보고 택시...</td>\n",
       "      <td>17949033</td>\n",
       "    </tr>\n",
       "    <tr>\n",
       "      <th>9</th>\n",
       "      <td>2461</td>\n",
       "      <td>경제</td>\n",
       "      <td>장기요양 이동지원서비스(모두타 돌봄택시)</td>\n",
       "      <td>\\n문서 본문\\n\\n     업무개요   보건복지부와 서울시택시운송사업조합의 민관협...</td>\n",
       "      <td>17896364</td>\n",
       "    </tr>\n",
       "  </tbody>\n",
       "</table>\n",
       "</div>"
      ],
      "text/plain": [
       "     번호  분류                                    제목  \\\n",
       "0  2470  경제                      다자녀가정 실내 바닥매트 지원   \n",
       "1  2469  경제                     [서울산업진흥원] 서울메이드란?   \n",
       "2  2468  경제           광진맘택시 운영(임산부,영아 양육가정 전용 택시)   \n",
       "3  2467  경제                        마포 뇌병변장애인 비전센터   \n",
       "4  2466  경제                위드유 서울 직장 성희롱.성폭력 예방센터   \n",
       "5  2465  경제              [성동구] 반려동물 \"무료상담실\" 운영 안내   \n",
       "6  2464  경제                   서울시 '우리동네꼼꼼육아정보' 책자   \n",
       "7  2463  경제              서울시 사회서비스원은 무엇을 하는 곳인가요?   \n",
       "8  2462  경제  [종료사업] S-Taxi 앱 (에스택시, 서울택시승차앱) 시범운영   \n",
       "9  2461  경제                장기요양 이동지원서비스(모두타 돌봄택시)   \n",
       "\n",
       "                                                  내용      내용번호  \n",
       "0  \\n문서 본문\\n\\n      업무개요   다자녀가정 아이들의 안전한 실내 활동과 ...  25670204  \n",
       "1  \\n문서 본문\\n\\n 서울의 감성을 담은 다양하고 새로운 경험을 제공하기 위해 만들...  23194045  \n",
       "2  \\n문서 본문\\n\\n    업무개요  교통약자인 임산부와 영아가정 주민이 병원 진료...  22904492  \n",
       "3  \\n문서 본문\\n\\n ▣ 마포뇌병변장애인 비전센터 운영     구분  내용    목...  22477798  \n",
       "4  \\n문서 본문\\n\\n    업무개요   직장 내 성희롱 지원체계 사각지대에 있는 서...  21212235  \n",
       "5  \\n문서 본문\\n\\n▣ 반려동물 무료상담실_\"무엇이든 물어보시개?\" 운영 안내   ...  21095911  \n",
       "6  \\n문서 본문\\n\\n서울시와 서울시육아종합지원센터는 140여 명의 우리동네 보육반장...  18955676  \n",
       "7  \\n문서 본문\\n\\r\\n\\t\\t\\t\\t\\t\\t\\t○ 사회서비스 분야에서 공공부문의 ...  18300944  \n",
       "8  \\n문서 본문\\n\\r\\n\\t\\t\\t\\t\\t\\t\\t업무개요\\n\\n '빈차를 보고 택시...  17949033  \n",
       "9  \\n문서 본문\\n\\n     업무개요   보건복지부와 서울시택시운송사업조합의 민관협...  17896364  "
      ]
     },
     "execution_count": 74,
     "metadata": {},
     "output_type": "execute_result"
    }
   ],
   "source": [
    "# 제목 뒤에 문서가 보이도록 컬럼의 순서를 조정합니다.\n",
    "# 사용할 컬럼만 인덱싱 합니다.\n",
    "# 다음의 순서가 되게 합니다. '번호', '분류', '제목', '내용', '내용번호'\n",
    "df_detail = df_detail.loc[:,['번호', '분류', '제목', '내용', '내용번호']]\n",
    "df_detail"
   ]
  },
  {
   "cell_type": "markdown",
   "metadata": {
    "id": "EwgVrIF1ynDT"
   },
   "source": [
    "## 파일로 저장하고 확인하기\n",
    "\n",
    "<img src=\"https://pandas.pydata.org/docs/_images/02_io_readwrite.svg\">"
   ]
  },
  {
   "cell_type": "code",
   "execution_count": 77,
   "metadata": {
    "ExecuteTime": {
     "end_time": "2022-05-23T01:42:43.764939Z",
     "start_time": "2022-05-23T01:42:43.755964Z"
    },
    "id": "n_HQfR2jynDT"
   },
   "outputs": [],
   "source": [
    "# 저장할 파일명을 \"seoul-120-sample.csv\" 로 설정해 줍니다.\n",
    "file_name = \"seoul-120-sample.csv\""
   ]
  },
  {
   "cell_type": "code",
   "execution_count": 78,
   "metadata": {
    "ExecuteTime": {
     "end_time": "2022-05-23T01:42:44.656612Z",
     "start_time": "2022-05-23T01:42:44.637631Z"
    },
    "id": "o0BZSVXkynDT"
   },
   "outputs": [],
   "source": [
    "# csv 파일로 저장합니다.\n",
    "df.to_csv(file_name, index = False)"
   ]
  },
  {
   "cell_type": "code",
   "execution_count": 79,
   "metadata": {
    "ExecuteTime": {
     "end_time": "2022-05-23T01:42:57.859848Z",
     "start_time": "2022-05-23T01:42:57.834947Z"
    },
    "id": "I8N98oVvynDU",
    "outputId": "cc926511-d0ed-4516-88ef-c1ba2780cbdc"
   },
   "outputs": [
    {
     "data": {
      "text/html": [
       "<div>\n",
       "<style scoped>\n",
       "    .dataframe tbody tr th:only-of-type {\n",
       "        vertical-align: middle;\n",
       "    }\n",
       "\n",
       "    .dataframe tbody tr th {\n",
       "        vertical-align: top;\n",
       "    }\n",
       "\n",
       "    .dataframe thead th {\n",
       "        text-align: right;\n",
       "    }\n",
       "</style>\n",
       "<table border=\"1\" class=\"dataframe\">\n",
       "  <thead>\n",
       "    <tr style=\"text-align: right;\">\n",
       "      <th></th>\n",
       "      <th>번호</th>\n",
       "      <th>제목</th>\n",
       "      <th>생산일</th>\n",
       "      <th>조회수</th>\n",
       "      <th>내용번호</th>\n",
       "    </tr>\n",
       "  </thead>\n",
       "  <tbody>\n",
       "    <tr>\n",
       "      <th>0</th>\n",
       "      <td>2470</td>\n",
       "      <td>다자녀가정 실내 바닥매트 지원</td>\n",
       "      <td>2021-08-17</td>\n",
       "      <td>223</td>\n",
       "      <td>25670204</td>\n",
       "    </tr>\n",
       "    <tr>\n",
       "      <th>1</th>\n",
       "      <td>2469</td>\n",
       "      <td>[서울산업진흥원] 서울메이드란?</td>\n",
       "      <td>2021-06-29</td>\n",
       "      <td>1576</td>\n",
       "      <td>23194045</td>\n",
       "    </tr>\n",
       "    <tr>\n",
       "      <th>2</th>\n",
       "      <td>2468</td>\n",
       "      <td>광진맘택시 운영(임산부,영아 양육가정 전용 택시)</td>\n",
       "      <td>2021-05-13</td>\n",
       "      <td>751</td>\n",
       "      <td>22904492</td>\n",
       "    </tr>\n",
       "    <tr>\n",
       "      <th>3</th>\n",
       "      <td>2467</td>\n",
       "      <td>마포 뇌병변장애인 비전센터</td>\n",
       "      <td>2021-03-12</td>\n",
       "      <td>869</td>\n",
       "      <td>22477798</td>\n",
       "    </tr>\n",
       "    <tr>\n",
       "      <th>4</th>\n",
       "      <td>2466</td>\n",
       "      <td>위드유 서울 직장 성희롱.성폭력 예방센터</td>\n",
       "      <td>2020-09-16</td>\n",
       "      <td>1184</td>\n",
       "      <td>21212235</td>\n",
       "    </tr>\n",
       "    <tr>\n",
       "      <th>5</th>\n",
       "      <td>2465</td>\n",
       "      <td>[성동구] 반려동물 \"무료상담실\" 운영 안내</td>\n",
       "      <td>2020-08-31</td>\n",
       "      <td>911</td>\n",
       "      <td>21095911</td>\n",
       "    </tr>\n",
       "    <tr>\n",
       "      <th>6</th>\n",
       "      <td>2464</td>\n",
       "      <td>서울시 '우리동네꼼꼼육아정보' 책자</td>\n",
       "      <td>2019-10-23</td>\n",
       "      <td>1576</td>\n",
       "      <td>18955676</td>\n",
       "    </tr>\n",
       "    <tr>\n",
       "      <th>7</th>\n",
       "      <td>2463</td>\n",
       "      <td>서울시 사회서비스원은 무엇을 하는 곳인가요?</td>\n",
       "      <td>2019-07-22</td>\n",
       "      <td>1653</td>\n",
       "      <td>18300944</td>\n",
       "    </tr>\n",
       "    <tr>\n",
       "      <th>8</th>\n",
       "      <td>2462</td>\n",
       "      <td>[종료사업] S-Taxi 앱 (에스택시, 서울택시승차앱) 시범운영</td>\n",
       "      <td>2019-06-03</td>\n",
       "      <td>1638</td>\n",
       "      <td>17949033</td>\n",
       "    </tr>\n",
       "    <tr>\n",
       "      <th>9</th>\n",
       "      <td>2461</td>\n",
       "      <td>장기요양 이동지원서비스(모두타 돌봄택시)</td>\n",
       "      <td>2019-05-27</td>\n",
       "      <td>2149</td>\n",
       "      <td>17896364</td>\n",
       "    </tr>\n",
       "  </tbody>\n",
       "</table>\n",
       "</div>"
      ],
      "text/plain": [
       "     번호                                    제목         생산일   조회수      내용번호\n",
       "0  2470                      다자녀가정 실내 바닥매트 지원  2021-08-17   223  25670204\n",
       "1  2469                     [서울산업진흥원] 서울메이드란?  2021-06-29  1576  23194045\n",
       "2  2468           광진맘택시 운영(임산부,영아 양육가정 전용 택시)  2021-05-13   751  22904492\n",
       "3  2467                        마포 뇌병변장애인 비전센터  2021-03-12   869  22477798\n",
       "4  2466                위드유 서울 직장 성희롱.성폭력 예방센터  2020-09-16  1184  21212235\n",
       "5  2465              [성동구] 반려동물 \"무료상담실\" 운영 안내  2020-08-31   911  21095911\n",
       "6  2464                   서울시 '우리동네꼼꼼육아정보' 책자  2019-10-23  1576  18955676\n",
       "7  2463              서울시 사회서비스원은 무엇을 하는 곳인가요?  2019-07-22  1653  18300944\n",
       "8  2462  [종료사업] S-Taxi 앱 (에스택시, 서울택시승차앱) 시범운영  2019-06-03  1638  17949033\n",
       "9  2461                장기요양 이동지원서비스(모두타 돌봄택시)  2019-05-27  2149  17896364"
      ]
     },
     "execution_count": 79,
     "metadata": {},
     "output_type": "execute_result"
    }
   ],
   "source": [
    "# 저장이 잘 되었는지 csv 파일로 읽어옵니다.\n",
    "pd.read_csv(file_name)"
   ]
  },
  {
   "cell_type": "code",
   "execution_count": null,
   "metadata": {
    "id": "m8zC76UnynDU"
   },
   "outputs": [],
   "source": []
  },
  {
   "cell_type": "code",
   "execution_count": null,
   "metadata": {
    "id": "PKlcJsNaynDU"
   },
   "outputs": [],
   "source": []
  }
 ],
 "metadata": {
  "colab": {
   "name": "2. seoul-120-view-scrapping.ipynb",
   "provenance": []
  },
  "kernelspec": {
   "display_name": "Python 3 (ipykernel)",
   "language": "python",
   "name": "python3"
  },
  "language_info": {
   "codemirror_mode": {
    "name": "ipython",
    "version": 3
   },
   "file_extension": ".py",
   "mimetype": "text/x-python",
   "name": "python",
   "nbconvert_exporter": "python",
   "pygments_lexer": "ipython3",
   "version": "3.9.7"
  },
  "toc": {
   "base_numbering": 1,
   "nav_menu": {},
   "number_sections": true,
   "sideBar": true,
   "skip_h1_title": false,
   "title_cell": "Table of Contents",
   "title_sidebar": "Contents",
   "toc_cell": false,
   "toc_position": {},
   "toc_section_display": true,
   "toc_window_display": false
  },
  "varInspector": {
   "cols": {
    "lenName": 16,
    "lenType": 16,
    "lenVar": 40
   },
   "kernels_config": {
    "python": {
     "delete_cmd_postfix": "",
     "delete_cmd_prefix": "del ",
     "library": "var_list.py",
     "varRefreshCmd": "print(var_dic_list())"
    },
    "r": {
     "delete_cmd_postfix": ") ",
     "delete_cmd_prefix": "rm(",
     "library": "var_list.r",
     "varRefreshCmd": "cat(var_dic_list()) "
    }
   },
   "types_to_exclude": [
    "module",
    "function",
    "builtin_function_or_method",
    "instance",
    "_Feature"
   ],
   "window_display": false
  }
 },
 "nbformat": 4,
 "nbformat_minor": 1
}
