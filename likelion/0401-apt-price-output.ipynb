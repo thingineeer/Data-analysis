{
 "cells": [
  {
   "cell_type": "markdown",
   "metadata": {
    "colab_type": "text",
    "id": "KjUsJlrmJZUh"
   },
   "source": [
    "# 전국 신규 민간 아파트 분양가격 동향\n",
    "\n",
    "2013년부터 최근까지 부동산 가격 변동 추세가 아파트 분양가에도 반영될까요? 공공데이터 포털에 있는 데이터를 Pandas 의 melt, concat, pivot, transpose 와 같은 reshape 기능을 활용해 분석해 봅니다. 그리고 groupby, pivot_table, info, describe, value_counts 등을 통한 데이터 요약과 분석을 해봅니다. 이를 통해 전혀 다른 형태의 두 데이터를 가져와 정제하고 병합하는 과정을 다루는 방법을 알게 됩니다. 전처리 한 결과에 대해 수치형, 범주형 데이터의 차이를 이해하고 다양한 그래프로 시각화를 할 수 있게 됩니다.\n",
    "\n",
    "\n",
    "## 다루는 내용\n",
    "* 공공데이터를 활용해 전혀 다른 두 개의 데이터를 가져와서 전처리 하고 병합하기\n",
    "* 수치형 데이터와 범주형 데이터를 바라보는 시각을 기르기\n",
    "* 데이터의 형식에 따른 다양한 시각화 방법 이해하기\n",
    "\n",
    "## 실습\n",
    "* 공공데이터 다운로드 후 주피터 노트북으로 로드하기\n",
    "* 판다스를 통해 데이터를 요약하고 분석하기\n",
    "* 데이터 전처리와 병합하기\n",
    "* 수치형 데이터와 범주형 데이터 다루기\n",
    "* 막대그래프(bar plot), 선그래프(line plot), 산포도(scatter plot), 상관관계(lm plot), 히트맵, 상자수염그림, swarm plot, 도수분포표, 히스토그램 실습하기\n",
    "\n",
    "## 데이터셋\n",
    "* 다운로드 위치 : https://www.data.go.kr/data/15061057/fileData.do\n",
    "\n",
    "### 전국 평균 분양가격(2013년 9월부터 2015년 8월까지)\n",
    "* 전국 공동주택의 3.3제곱미터당 평균분양가격 데이터를 제공\n",
    "\n",
    "###  주택도시보증공사_전국 평균 분양가격(2015년~)\n",
    "* 전국 공동주택의 연도별, 월별, 전용면적별 제곱미터당 평균분양가격 데이터를 제공\n",
    "* 지역별 평균값은 단순 산술평균값이 아닌 가중평균값임"
   ]
  },
  {
   "cell_type": "code",
   "execution_count": 1,
   "metadata": {
    "colab": {},
    "colab_type": "code",
    "id": "zpY51yLhJZUj"
   },
   "outputs": [],
   "source": [
    "# 파이썬에서 쓸 수 있는 엑셀과도 유사한 판다스 라이브러리를 불러옵니다.\n",
    "# 한글폰트 사용을 위해 matplotlib의 pyplot을 plt라는 별칭으로 불러옵니다.\n",
    "# 수치계산을 위해 numpy를 불러옵니다.\n",
    "import pandas as pd\n",
    "import numpy as np\n",
    "import seaborn as sns\n",
    "import matplotlib.pyplot as plt"
   ]
  },
  {
   "cell_type": "markdown",
   "metadata": {},
   "source": [
    "### 데이터시각화를 위한 폰트설정"
   ]
  },
  {
   "cell_type": "code",
   "execution_count": 2,
   "metadata": {},
   "outputs": [],
   "source": [
    "# 윈도우 : \"Malgun Gothic\"\n",
    "# 맥 : \"AppleGothic\"\n",
    "def get_font_family():\n",
    "    \"\"\"\n",
    "    시스템 환경에 따른 기본 폰트명을 반환하는 함수\n",
    "    \"\"\"\n",
    "    import platform\n",
    "    system_name = platform.system()\n",
    "\n",
    "    if system_name == \"Darwin\" :\n",
    "        font_family = \"AppleGothic\"\n",
    "    elif system_name == \"Windows\":\n",
    "        font_family = \"Malgun Gothic\"\n",
    "    else:\n",
    "        # Linux(colab)\n",
    "        !apt-get install fonts-nanum -qq  > /dev/null\n",
    "        !fc-cache -fv\n",
    "\n",
    "        import matplotlib as mpl\n",
    "        mpl.font_manager._rebuild()\n",
    "        findfont = mpl.font_manager.fontManager.findfont\n",
    "        mpl.font_manager.findfont = findfont\n",
    "        mpl.backends.backend_agg.findfont = findfont\n",
    "        \n",
    "        font_family = \"NanumBarunGothic\"\n",
    "    return font_family\n",
    "\n",
    "# 폰트설정\n",
    "plt.rc(\"font\", family=get_font_family())\n",
    "# 마이너스폰트 설정\n",
    "plt.rc(\"axes\", unicode_minus=False)"
   ]
  },
  {
   "cell_type": "code",
   "execution_count": 3,
   "metadata": {},
   "outputs": [
    {
     "data": {
      "text/plain": [
       "<AxesSubplot:title={'center':'한글'}>"
      ]
     },
     "execution_count": 3,
     "metadata": {},
     "output_type": "execute_result"
    },
    {
     "data": {
      "image/png": "[encoded data removed]",
      "text/plain": [
       "<Figure size 432x288 with 1 Axes>"
      ]
     },
     "metadata": {
      "needs_background": "light"
     },
     "output_type": "display_data"
    }
   ],
   "source": [
    "pd.Series([1, 3, 5, -7, 9]).plot(title=\"한글\")"
   ]
  },
  {
   "cell_type": "markdown",
   "metadata": {
    "colab_type": "text",
    "id": "bWq3K5gGJZUo"
   },
   "source": [
    "## 데이터 로드\n",
    "### 최근 파일 로드\n",
    "공공데이터 포털에서 \"주택도시보증공사_전국 평균 분양가격\"파일을 다운로드 받아 불러옵니다.\n",
    "이 때, 인코딩을 설정을 해주어야 한글이 깨지지 않습니다.\n",
    "보통 엑셀로 저장된 한글의 인코딩은 cp949 혹은 euc-kr로 되어 있습니다.\n",
    "df_last 라는 변수에 최근 분양가 파일을 다운로드 받아 로드합니다.\n",
    "\n",
    "* 한글인코딩 : [‘설믜를 설믜라 못 부르는’ 김설믜씨 “제 이름을 지켜주세요” : 사회일반 : 사회 : 뉴스 : 한겨레](http://www.hani.co.kr/arti/society/society_general/864914.html)\n",
    "\n",
    "데이터를 로드한 뒤 shape를 통해 행과 열의 갯수를 출력합니다."
   ]
  },
  {
   "cell_type": "code",
   "execution_count": 118,
   "metadata": {},
   "outputs": [
    {
     "data": {
      "text/plain": [
       "['data/주택도시보증공사_전국 신규 민간아파트 분양가격 동향_20210930.csv',\n",
       " 'data/전국 평균 분양가격(2013년 9월부터 2015년 8월까지).csv',\n",
       " 'data/seoul-covid19-2021-12-26.csv',\n",
       " 'data/seoul-covid19-2021-12-18.csv']"
      ]
     },
     "execution_count": 118,
     "metadata": {},
     "output_type": "execute_result"
    }
   ],
   "source": [
    "import glob\n",
    "glob.glob(\"data/*.csv\")"
   ]
  },
  {
   "cell_type": "code",
   "execution_count": 5,
   "metadata": {
    "colab": {},
    "colab_type": "code",
    "id": "QhUa-oftJZUp"
   },
   "outputs": [
    {
     "data": {
      "text/plain": [
       "(6120, 5)"
      ]
     },
     "execution_count": 5,
     "metadata": {},
     "output_type": "execute_result"
    }
   ],
   "source": [
    "# 최근 분양가 파일을 로드해서 df_last 라는 변수에 담습니다.\n",
    "# 파일로드시 OSError가 발생한다면, engine=\"python\"을 추가해 보세요.\n",
    "# 윈도우에서 파일탐색기의 경로를 복사해서 붙여넣기 했는데도 파일을 불러올 수 없다면\n",
    "# 아마도 경로에 있는 ₩ 역슬래시 표시를 못 읽어왔을 가능성이 큽니다. \n",
    "# r\"경로명\" 으로 적어주세요.\n",
    "# r\"경로명\"으로 적게 되면 경로를 문자 그대로(raw) 읽으라는 의미입니다.\n",
    "\n",
    "df_last = pd.read_csv(r'data/주택도시보증공사_전국 신규 민간아파트 분양가격 동향_20210930.csv', encoding=\"cp949\")\n",
    "df_last.shape"
   ]
  },
  {
   "cell_type": "code",
   "execution_count": 6,
   "metadata": {
    "colab": {},
    "colab_type": "code",
    "id": "luD_xdGcJZUr",
    "scrolled": true
   },
   "outputs": [
    {
     "data": {
      "text/html": [
       "<div>\n",
       "<style scoped>\n",
       "    .dataframe tbody tr th:only-of-type {\n",
       "        vertical-align: middle;\n",
       "    }\n",
       "\n",
       "    .dataframe tbody tr th {\n",
       "        vertical-align: top;\n",
       "    }\n",
       "\n",
       "    .dataframe thead th {\n",
       "        text-align: right;\n",
       "    }\n",
       "</style>\n",
       "<table border=\"1\" class=\"dataframe\">\n",
       "  <thead>\n",
       "    <tr style=\"text-align: right;\">\n",
       "      <th></th>\n",
       "      <th>지역명</th>\n",
       "      <th>규모구분</th>\n",
       "      <th>연도</th>\n",
       "      <th>월</th>\n",
       "      <th>분양가격</th>\n",
       "    </tr>\n",
       "  </thead>\n",
       "  <tbody>\n",
       "    <tr>\n",
       "      <th>0</th>\n",
       "      <td>서울</td>\n",
       "      <td>모든면적</td>\n",
       "      <td>2015</td>\n",
       "      <td>10</td>\n",
       "      <td>5841</td>\n",
       "    </tr>\n",
       "    <tr>\n",
       "      <th>1</th>\n",
       "      <td>서울</td>\n",
       "      <td>전용면적 60제곱미터이하</td>\n",
       "      <td>2015</td>\n",
       "      <td>10</td>\n",
       "      <td>5652</td>\n",
       "    </tr>\n",
       "  </tbody>\n",
       "</table>\n",
       "</div>"
      ],
      "text/plain": [
       "  지역명           규모구분    연도   월  분양가격\n",
       "0  서울           모든면적  2015  10  5841\n",
       "1  서울  전용면적 60제곱미터이하  2015  10  5652"
      ]
     },
     "execution_count": 6,
     "metadata": {},
     "output_type": "execute_result"
    }
   ],
   "source": [
    "# head 로 파일을 미리보기 합니다.\n",
    "# 메소드 뒤에 ?를 하면 자기호출 이라는 기능을 통해 메소드의 docstring을 출력합니다.\n",
    "# 메소드의 ()괄호 안에서 Shift + Tab키를 눌러도 같은 문서를 열어볼 수 있습니다.\n",
    "# Shift + Tab + Tab 을 하게 되면 팝업창을 키울 수 있습니다.\n",
    "df_last.head(2)"
   ]
  },
  {
   "cell_type": "code",
   "execution_count": 7,
   "metadata": {
    "colab": {},
    "colab_type": "code",
    "id": "odvB6ab7JZUu"
   },
   "outputs": [
    {
     "data": {
      "text/html": [
       "<div>\n",
       "<style scoped>\n",
       "    .dataframe tbody tr th:only-of-type {\n",
       "        vertical-align: middle;\n",
       "    }\n",
       "\n",
       "    .dataframe tbody tr th {\n",
       "        vertical-align: top;\n",
       "    }\n",
       "\n",
       "    .dataframe thead th {\n",
       "        text-align: right;\n",
       "    }\n",
       "</style>\n",
       "<table border=\"1\" class=\"dataframe\">\n",
       "  <thead>\n",
       "    <tr style=\"text-align: right;\">\n",
       "      <th></th>\n",
       "      <th>지역명</th>\n",
       "      <th>규모구분</th>\n",
       "      <th>연도</th>\n",
       "      <th>월</th>\n",
       "      <th>분양가격</th>\n",
       "    </tr>\n",
       "  </thead>\n",
       "  <tbody>\n",
       "    <tr>\n",
       "      <th>6118</th>\n",
       "      <td>제주</td>\n",
       "      <td>전용면적 85제곱미터초과 102제곱미터이하</td>\n",
       "      <td>2021</td>\n",
       "      <td>9</td>\n",
       "      <td>NaN</td>\n",
       "    </tr>\n",
       "    <tr>\n",
       "      <th>6119</th>\n",
       "      <td>제주</td>\n",
       "      <td>전용면적 102제곱미터초과</td>\n",
       "      <td>2021</td>\n",
       "      <td>9</td>\n",
       "      <td>7727</td>\n",
       "    </tr>\n",
       "  </tbody>\n",
       "</table>\n",
       "</div>"
      ],
      "text/plain": [
       "     지역명                     규모구분    연도  월  분양가격\n",
       "6118  제주  전용면적 85제곱미터초과 102제곱미터이하  2021  9   NaN\n",
       "6119  제주           전용면적 102제곱미터초과  2021  9  7727"
      ]
     },
     "execution_count": 7,
     "metadata": {},
     "output_type": "execute_result"
    }
   ],
   "source": [
    "# tail 로도 미리보기를 합니다.\n",
    "df_last.tail(2)"
   ]
  },
  {
   "cell_type": "markdown",
   "metadata": {
    "colab_type": "text",
    "id": "ruVmuOlXJZUw"
   },
   "source": [
    "### 2013년 9월부터 2015년 8월까지\n",
    "전국 평균 분양가격(2013년 9월부터 2015년 8월까지) 파일을 불러옵니다.\n",
    "df_first 라는 변수에 담고 shape로 행과 열의 갯수를 출력합니다."
   ]
  },
  {
   "cell_type": "code",
   "execution_count": 8,
   "metadata": {},
   "outputs": [
    {
     "data": {
      "text/plain": [
       "['data/주택도시보증공사_전국 신규 민간아파트 분양가격 동향_20210930.csv',\n",
       " 'data/전국 평균 분양가격(2013년 9월부터 2015년 8월까지).csv',\n",
       " 'data/seoul-covid19-2021-12-26.csv',\n",
       " 'data/seoul-covid19-2021-12-18.csv']"
      ]
     },
     "execution_count": 8,
     "metadata": {},
     "output_type": "execute_result"
    }
   ],
   "source": [
    "# 해당되는 폴더 혹은 경로의 파일 목록을 출력해 줍니다.\n",
    "import glob\n",
    "glob.glob(\"data/*\")"
   ]
  },
  {
   "cell_type": "code",
   "execution_count": 9,
   "metadata": {
    "colab": {},
    "colab_type": "code",
    "id": "vI9ANsK7JZUx",
    "scrolled": true
   },
   "outputs": [
    {
     "data": {
      "text/plain": [
       "(17, 22)"
      ]
     },
     "execution_count": 9,
     "metadata": {},
     "output_type": "execute_result"
    }
   ],
   "source": [
    "# df_first 에 담고 shape로 행과 열의 수를 출력해 봅니다.\n",
    "df_first = pd.read_csv('data/전국 평균 분양가격(2013년 9월부터 2015년 8월까지).csv', encoding=\"cp949\")\n",
    "df_first.shape"
   ]
  },
  {
   "cell_type": "code",
   "execution_count": 10,
   "metadata": {
    "colab": {},
    "colab_type": "code",
    "id": "NrnsHAX9JZUz"
   },
   "outputs": [
    {
     "data": {
      "text/html": [
       "<div>\n",
       "<style scoped>\n",
       "    .dataframe tbody tr th:only-of-type {\n",
       "        vertical-align: middle;\n",
       "    }\n",
       "\n",
       "    .dataframe tbody tr th {\n",
       "        vertical-align: top;\n",
       "    }\n",
       "\n",
       "    .dataframe thead th {\n",
       "        text-align: right;\n",
       "    }\n",
       "</style>\n",
       "<table border=\"1\" class=\"dataframe\">\n",
       "  <thead>\n",
       "    <tr style=\"text-align: right;\">\n",
       "      <th></th>\n",
       "      <th>지역</th>\n",
       "      <th>2013년12월</th>\n",
       "      <th>2014년1월</th>\n",
       "      <th>2014년2월</th>\n",
       "      <th>2014년3월</th>\n",
       "      <th>2014년4월</th>\n",
       "      <th>2014년5월</th>\n",
       "      <th>2014년6월</th>\n",
       "      <th>2014년7월</th>\n",
       "      <th>2014년8월</th>\n",
       "      <th>...</th>\n",
       "      <th>2014년11월</th>\n",
       "      <th>2014년12월</th>\n",
       "      <th>2015년1월</th>\n",
       "      <th>2015년2월</th>\n",
       "      <th>2015년3월</th>\n",
       "      <th>2015년4월</th>\n",
       "      <th>2015년5월</th>\n",
       "      <th>2015년6월</th>\n",
       "      <th>2015년7월</th>\n",
       "      <th>2015년8월</th>\n",
       "    </tr>\n",
       "  </thead>\n",
       "  <tbody>\n",
       "    <tr>\n",
       "      <th>0</th>\n",
       "      <td>서울</td>\n",
       "      <td>18189</td>\n",
       "      <td>17925</td>\n",
       "      <td>17925</td>\n",
       "      <td>18016</td>\n",
       "      <td>18098</td>\n",
       "      <td>19446</td>\n",
       "      <td>18867</td>\n",
       "      <td>18742</td>\n",
       "      <td>19274</td>\n",
       "      <td>...</td>\n",
       "      <td>20242</td>\n",
       "      <td>20269</td>\n",
       "      <td>20670</td>\n",
       "      <td>20670</td>\n",
       "      <td>19415</td>\n",
       "      <td>18842</td>\n",
       "      <td>18367</td>\n",
       "      <td>18374</td>\n",
       "      <td>18152</td>\n",
       "      <td>18443</td>\n",
       "    </tr>\n",
       "    <tr>\n",
       "      <th>1</th>\n",
       "      <td>부산</td>\n",
       "      <td>8111</td>\n",
       "      <td>8111</td>\n",
       "      <td>9078</td>\n",
       "      <td>8965</td>\n",
       "      <td>9402</td>\n",
       "      <td>9501</td>\n",
       "      <td>9453</td>\n",
       "      <td>9457</td>\n",
       "      <td>9411</td>\n",
       "      <td>...</td>\n",
       "      <td>9208</td>\n",
       "      <td>9208</td>\n",
       "      <td>9204</td>\n",
       "      <td>9235</td>\n",
       "      <td>9279</td>\n",
       "      <td>9327</td>\n",
       "      <td>9345</td>\n",
       "      <td>9515</td>\n",
       "      <td>9559</td>\n",
       "      <td>9581</td>\n",
       "    </tr>\n",
       "  </tbody>\n",
       "</table>\n",
       "<p>2 rows × 22 columns</p>\n",
       "</div>"
      ],
      "text/plain": [
       "   지역  2013년12월  2014년1월  2014년2월  2014년3월  2014년4월  2014년5월  2014년6월  \\\n",
       "0  서울     18189    17925    17925    18016    18098    19446    18867   \n",
       "1  부산      8111     8111     9078     8965     9402     9501     9453   \n",
       "\n",
       "   2014년7월  2014년8월  ...  2014년11월  2014년12월  2015년1월  2015년2월  2015년3월  \\\n",
       "0    18742    19274  ...     20242     20269    20670    20670    19415   \n",
       "1     9457     9411  ...      9208      9208     9204     9235     9279   \n",
       "\n",
       "   2015년4월  2015년5월  2015년6월  2015년7월  2015년8월  \n",
       "0    18842    18367    18374    18152    18443  \n",
       "1     9327     9345     9515     9559     9581  \n",
       "\n",
       "[2 rows x 22 columns]"
      ]
     },
     "execution_count": 10,
     "metadata": {},
     "output_type": "execute_result"
    }
   ],
   "source": [
    "# df_first 변수에 담긴 데이터프레임을 head로 미리보기 합니다.\n",
    "df_first.head(2)"
   ]
  },
  {
   "cell_type": "code",
   "execution_count": 11,
   "metadata": {
    "colab": {},
    "colab_type": "code",
    "id": "7uLubVT-JZU1"
   },
   "outputs": [
    {
     "data": {
      "text/html": [
       "<div>\n",
       "<style scoped>\n",
       "    .dataframe tbody tr th:only-of-type {\n",
       "        vertical-align: middle;\n",
       "    }\n",
       "\n",
       "    .dataframe tbody tr th {\n",
       "        vertical-align: top;\n",
       "    }\n",
       "\n",
       "    .dataframe thead th {\n",
       "        text-align: right;\n",
       "    }\n",
       "</style>\n",
       "<table border=\"1\" class=\"dataframe\">\n",
       "  <thead>\n",
       "    <tr style=\"text-align: right;\">\n",
       "      <th></th>\n",
       "      <th>지역</th>\n",
       "      <th>2013년12월</th>\n",
       "      <th>2014년1월</th>\n",
       "      <th>2014년2월</th>\n",
       "      <th>2014년3월</th>\n",
       "      <th>2014년4월</th>\n",
       "      <th>2014년5월</th>\n",
       "      <th>2014년6월</th>\n",
       "      <th>2014년7월</th>\n",
       "      <th>2014년8월</th>\n",
       "      <th>...</th>\n",
       "      <th>2014년11월</th>\n",
       "      <th>2014년12월</th>\n",
       "      <th>2015년1월</th>\n",
       "      <th>2015년2월</th>\n",
       "      <th>2015년3월</th>\n",
       "      <th>2015년4월</th>\n",
       "      <th>2015년5월</th>\n",
       "      <th>2015년6월</th>\n",
       "      <th>2015년7월</th>\n",
       "      <th>2015년8월</th>\n",
       "    </tr>\n",
       "  </thead>\n",
       "  <tbody>\n",
       "    <tr>\n",
       "      <th>15</th>\n",
       "      <td>경남</td>\n",
       "      <td>6473</td>\n",
       "      <td>6485</td>\n",
       "      <td>6502</td>\n",
       "      <td>6610</td>\n",
       "      <td>6599</td>\n",
       "      <td>6610</td>\n",
       "      <td>6615</td>\n",
       "      <td>6613</td>\n",
       "      <td>6606</td>\n",
       "      <td>...</td>\n",
       "      <td>7125</td>\n",
       "      <td>7332</td>\n",
       "      <td>7592</td>\n",
       "      <td>7588</td>\n",
       "      <td>7668</td>\n",
       "      <td>7683</td>\n",
       "      <td>7717</td>\n",
       "      <td>7715</td>\n",
       "      <td>7723</td>\n",
       "      <td>7665</td>\n",
       "    </tr>\n",
       "    <tr>\n",
       "      <th>16</th>\n",
       "      <td>제주</td>\n",
       "      <td>7674</td>\n",
       "      <td>7900</td>\n",
       "      <td>7900</td>\n",
       "      <td>7900</td>\n",
       "      <td>7900</td>\n",
       "      <td>7900</td>\n",
       "      <td>7914</td>\n",
       "      <td>7914</td>\n",
       "      <td>7914</td>\n",
       "      <td>...</td>\n",
       "      <td>7724</td>\n",
       "      <td>7739</td>\n",
       "      <td>7739</td>\n",
       "      <td>7739</td>\n",
       "      <td>7826</td>\n",
       "      <td>7285</td>\n",
       "      <td>7285</td>\n",
       "      <td>7343</td>\n",
       "      <td>7343</td>\n",
       "      <td>7343</td>\n",
       "    </tr>\n",
       "  </tbody>\n",
       "</table>\n",
       "<p>2 rows × 22 columns</p>\n",
       "</div>"
      ],
      "text/plain": [
       "    지역  2013년12월  2014년1월  2014년2월  2014년3월  2014년4월  2014년5월  2014년6월  \\\n",
       "15  경남      6473     6485     6502     6610     6599     6610     6615   \n",
       "16  제주      7674     7900     7900     7900     7900     7900     7914   \n",
       "\n",
       "    2014년7월  2014년8월  ...  2014년11월  2014년12월  2015년1월  2015년2월  2015년3월  \\\n",
       "15     6613     6606  ...      7125      7332     7592     7588     7668   \n",
       "16     7914     7914  ...      7724      7739     7739     7739     7826   \n",
       "\n",
       "    2015년4월  2015년5월  2015년6월  2015년7월  2015년8월  \n",
       "15     7683     7717     7715     7723     7665  \n",
       "16     7285     7285     7343     7343     7343  \n",
       "\n",
       "[2 rows x 22 columns]"
      ]
     },
     "execution_count": 11,
     "metadata": {},
     "output_type": "execute_result"
    }
   ],
   "source": [
    "# df_first 변수에 담긴 데이터프레임을 tail로 미리보기 합니다.\n",
    "df_first.tail(2)"
   ]
  },
  {
   "cell_type": "markdown",
   "metadata": {
    "colab_type": "text",
    "id": "sRgcY7H7JZU3"
   },
   "source": [
    "### 데이터 요약하기"
   ]
  },
  {
   "cell_type": "code",
   "execution_count": 12,
   "metadata": {
    "colab": {},
    "colab_type": "code",
    "id": "rG_jMT8CJZU3"
   },
   "outputs": [
    {
     "name": "stdout",
     "output_type": "stream",
     "text": [
      "<class 'pandas.core.frame.DataFrame'>\n",
      "RangeIndex: 6120 entries, 0 to 6119\n",
      "Data columns (total 5 columns):\n",
      " #   Column  Non-Null Count  Dtype \n",
      "---  ------  --------------  ----- \n",
      " 0   지역명     6120 non-null   object\n",
      " 1   규모구분    6120 non-null   object\n",
      " 2   연도      6120 non-null   int64 \n",
      " 3   월       6120 non-null   int64 \n",
      " 4   분양가격    5641 non-null   object\n",
      "dtypes: int64(2), object(3)\n",
      "memory usage: 239.2+ KB\n"
     ]
    }
   ],
   "source": [
    "# info 로 요약합니다.\n",
    "df_last.info()"
   ]
  },
  {
   "cell_type": "code",
   "execution_count": 13,
   "metadata": {},
   "outputs": [
    {
     "name": "stdout",
     "output_type": "stream",
     "text": [
      "<class 'pandas.core.frame.DataFrame'>\n",
      "RangeIndex: 17 entries, 0 to 16\n",
      "Data columns (total 22 columns):\n",
      " #   Column    Non-Null Count  Dtype \n",
      "---  ------    --------------  ----- \n",
      " 0   지역        17 non-null     object\n",
      " 1   2013년12월  17 non-null     int64 \n",
      " 2   2014년1월   17 non-null     int64 \n",
      " 3   2014년2월   17 non-null     int64 \n",
      " 4   2014년3월   17 non-null     int64 \n",
      " 5   2014년4월   17 non-null     int64 \n",
      " 6   2014년5월   17 non-null     int64 \n",
      " 7   2014년6월   17 non-null     int64 \n",
      " 8   2014년7월   17 non-null     int64 \n",
      " 9   2014년8월   17 non-null     int64 \n",
      " 10  2014년9월   17 non-null     int64 \n",
      " 11  2014년10월  17 non-null     int64 \n",
      " 12  2014년11월  17 non-null     int64 \n",
      " 13  2014년12월  17 non-null     int64 \n",
      " 14  2015년1월   17 non-null     int64 \n",
      " 15  2015년2월   17 non-null     int64 \n",
      " 16  2015년3월   17 non-null     int64 \n",
      " 17  2015년4월   17 non-null     int64 \n",
      " 18  2015년5월   17 non-null     int64 \n",
      " 19  2015년6월   17 non-null     int64 \n",
      " 20  2015년7월   17 non-null     int64 \n",
      " 21  2015년8월   17 non-null     int64 \n",
      "dtypes: int64(21), object(1)\n",
      "memory usage: 3.0+ KB\n"
     ]
    }
   ],
   "source": [
    "df_first.info()"
   ]
  },
  {
   "cell_type": "markdown",
   "metadata": {
    "colab_type": "text",
    "id": "0MekOAekJZU5"
   },
   "source": [
    "### 결측치 보기"
   ]
  },
  {
   "cell_type": "markdown",
   "metadata": {
    "colab_type": "text",
    "id": "yRMZ_rLdJZU6"
   },
   "source": [
    "isnull 혹은 isna 를 통해 데이터가 비어있는지를 확인할 수 있습니다.\n",
    "결측치는 True로 표시되는데, True == 1 이기 때문에 이 값을 다 더해주면 결측치의 수가 됩니다."
   ]
  },
  {
   "cell_type": "code",
   "execution_count": 14,
   "metadata": {},
   "outputs": [
    {
     "data": {
      "text/plain": [
       "True"
      ]
     },
     "execution_count": 14,
     "metadata": {},
     "output_type": "execute_result"
    }
   ],
   "source": [
    "True == 1"
   ]
  },
  {
   "cell_type": "code",
   "execution_count": 15,
   "metadata": {},
   "outputs": [
    {
     "data": {
      "text/html": [
       "<div>\n",
       "<style scoped>\n",
       "    .dataframe tbody tr th:only-of-type {\n",
       "        vertical-align: middle;\n",
       "    }\n",
       "\n",
       "    .dataframe tbody tr th {\n",
       "        vertical-align: top;\n",
       "    }\n",
       "\n",
       "    .dataframe thead th {\n",
       "        text-align: right;\n",
       "    }\n",
       "</style>\n",
       "<table border=\"1\" class=\"dataframe\">\n",
       "  <thead>\n",
       "    <tr style=\"text-align: right;\">\n",
       "      <th></th>\n",
       "      <th>지역명</th>\n",
       "      <th>규모구분</th>\n",
       "      <th>연도</th>\n",
       "      <th>월</th>\n",
       "      <th>분양가격</th>\n",
       "    </tr>\n",
       "  </thead>\n",
       "  <tbody>\n",
       "    <tr>\n",
       "      <th>0</th>\n",
       "      <td>False</td>\n",
       "      <td>False</td>\n",
       "      <td>False</td>\n",
       "      <td>False</td>\n",
       "      <td>False</td>\n",
       "    </tr>\n",
       "    <tr>\n",
       "      <th>1</th>\n",
       "      <td>False</td>\n",
       "      <td>False</td>\n",
       "      <td>False</td>\n",
       "      <td>False</td>\n",
       "      <td>False</td>\n",
       "    </tr>\n",
       "    <tr>\n",
       "      <th>2</th>\n",
       "      <td>False</td>\n",
       "      <td>False</td>\n",
       "      <td>False</td>\n",
       "      <td>False</td>\n",
       "      <td>False</td>\n",
       "    </tr>\n",
       "    <tr>\n",
       "      <th>3</th>\n",
       "      <td>False</td>\n",
       "      <td>False</td>\n",
       "      <td>False</td>\n",
       "      <td>False</td>\n",
       "      <td>False</td>\n",
       "    </tr>\n",
       "    <tr>\n",
       "      <th>4</th>\n",
       "      <td>False</td>\n",
       "      <td>False</td>\n",
       "      <td>False</td>\n",
       "      <td>False</td>\n",
       "      <td>False</td>\n",
       "    </tr>\n",
       "    <tr>\n",
       "      <th>...</th>\n",
       "      <td>...</td>\n",
       "      <td>...</td>\n",
       "      <td>...</td>\n",
       "      <td>...</td>\n",
       "      <td>...</td>\n",
       "    </tr>\n",
       "    <tr>\n",
       "      <th>6115</th>\n",
       "      <td>False</td>\n",
       "      <td>False</td>\n",
       "      <td>False</td>\n",
       "      <td>False</td>\n",
       "      <td>False</td>\n",
       "    </tr>\n",
       "    <tr>\n",
       "      <th>6116</th>\n",
       "      <td>False</td>\n",
       "      <td>False</td>\n",
       "      <td>False</td>\n",
       "      <td>False</td>\n",
       "      <td>True</td>\n",
       "    </tr>\n",
       "    <tr>\n",
       "      <th>6117</th>\n",
       "      <td>False</td>\n",
       "      <td>False</td>\n",
       "      <td>False</td>\n",
       "      <td>False</td>\n",
       "      <td>False</td>\n",
       "    </tr>\n",
       "    <tr>\n",
       "      <th>6118</th>\n",
       "      <td>False</td>\n",
       "      <td>False</td>\n",
       "      <td>False</td>\n",
       "      <td>False</td>\n",
       "      <td>True</td>\n",
       "    </tr>\n",
       "    <tr>\n",
       "      <th>6119</th>\n",
       "      <td>False</td>\n",
       "      <td>False</td>\n",
       "      <td>False</td>\n",
       "      <td>False</td>\n",
       "      <td>False</td>\n",
       "    </tr>\n",
       "  </tbody>\n",
       "</table>\n",
       "<p>6120 rows × 5 columns</p>\n",
       "</div>"
      ],
      "text/plain": [
       "        지역명   규모구분     연도      월   분양가격\n",
       "0     False  False  False  False  False\n",
       "1     False  False  False  False  False\n",
       "2     False  False  False  False  False\n",
       "3     False  False  False  False  False\n",
       "4     False  False  False  False  False\n",
       "...     ...    ...    ...    ...    ...\n",
       "6115  False  False  False  False  False\n",
       "6116  False  False  False  False   True\n",
       "6117  False  False  False  False  False\n",
       "6118  False  False  False  False   True\n",
       "6119  False  False  False  False  False\n",
       "\n",
       "[6120 rows x 5 columns]"
      ]
     },
     "execution_count": 15,
     "metadata": {},
     "output_type": "execute_result"
    }
   ],
   "source": [
    "# isnull 을 통해 결측치를 봅니다.\n",
    "df_last.isnull()"
   ]
  },
  {
   "cell_type": "code",
   "execution_count": 16,
   "metadata": {
    "colab": {},
    "colab_type": "code",
    "id": "CqaWXfocJZU7"
   },
   "outputs": [
    {
     "data": {
      "text/plain": [
       "지역명       0\n",
       "규모구분      0\n",
       "연도        0\n",
       "월         0\n",
       "분양가격    479\n",
       "dtype: int64"
      ]
     },
     "execution_count": 16,
     "metadata": {},
     "output_type": "execute_result"
    }
   ],
   "source": [
    "# isnull 을 통해 결측치를 구합니다.\n",
    "df_last.isnull().sum()"
   ]
  },
  {
   "cell_type": "code",
   "execution_count": 120,
   "metadata": {
    "colab": {},
    "colab_type": "code",
    "id": "jIf6_IFvJZU8"
   },
   "outputs": [
    {
     "data": {
      "text/plain": [
       "지역명         0\n",
       "연도          0\n",
       "월           0\n",
       "평당분양가격    495\n",
       "전용면적        0\n",
       "dtype: int64"
      ]
     },
     "execution_count": 120,
     "metadata": {},
     "output_type": "execute_result"
    }
   ],
   "source": [
    "# isna 를 통해 결측치를 구합니다.\n",
    "df_last.isna().sum()"
   ]
  },
  {
   "cell_type": "code",
   "execution_count": 121,
   "metadata": {},
   "outputs": [
    {
     "data": {
      "text/plain": [
       "지역명       0.000000\n",
       "연도        0.000000\n",
       "월         0.000000\n",
       "평당분양가격    0.080882\n",
       "전용면적      0.000000\n",
       "dtype: float64"
      ]
     },
     "execution_count": 121,
     "metadata": {},
     "output_type": "execute_result"
    }
   ],
   "source": [
    "df_last.isna().mean()"
   ]
  },
  {
   "cell_type": "code",
   "execution_count": 18,
   "metadata": {},
   "outputs": [
    {
     "data": {
      "text/plain": [
       "<AxesSubplot:>"
      ]
     },
     "execution_count": 18,
     "metadata": {},
     "output_type": "execute_result"
    },
    {
     "data": {
      "image/png": "[encoded data removed]",
      "text/plain": [
       "<Figure size 432x288 with 2 Axes>"
      ]
     },
     "metadata": {
      "needs_background": "light"
     },
     "output_type": "display_data"
    }
   ],
   "source": [
    "sns.heatmap(df_last.isnull(), cmap=\"gray\")"
   ]
  },
  {
   "cell_type": "markdown",
   "metadata": {
    "colab_type": "text",
    "id": "9PNqs0q4JZU_"
   },
   "source": [
    "### 데이터 타입 변경\n",
    "분양가격이 object(문자) 타입으로 되어 있습니다. 문자열 타입을 계산할 수 없기 때문에 수치 데이터로 변경해 줍니다. 결측치가 섞여 있을 때 변환이 제대로 되지 않습니다. 그래서 pd.to_numeric 을 통해 데이터의 타입을 변경합니다."
   ]
  },
  {
   "cell_type": "code",
   "execution_count": 28,
   "metadata": {
    "colab": {},
    "colab_type": "code",
    "id": "YdqsOWagJZVA"
   },
   "outputs": [
    {
     "data": {
      "text/plain": [
       "6115    8356.0\n",
       "6116       NaN\n",
       "6117    8410.0\n",
       "6118       NaN\n",
       "6119    7727.0\n",
       "Name: 분양가격, dtype: float64"
      ]
     },
     "execution_count": 28,
     "metadata": {},
     "output_type": "execute_result"
    }
   ],
   "source": [
    "df_last[\"분양가격\"] = pd.to_numeric(df_last[\"분양가격\"], errors='coerce')\n",
    "df_last[\"분양가격\"].tail()"
   ]
  },
  {
   "cell_type": "markdown",
   "metadata": {
    "colab_type": "text",
    "id": "kdeItDwvJZVE"
   },
   "source": [
    "### 평당분양가격 구하기\n",
    "공공데이터포털에 올라와 있는 2013년부터의 데이터는 평당분양가격 기준으로 되어 있습니다.\n",
    "분양가격을 평당기준으로 보기위해 3.3을 곱해서 \"평당분양가격\" 컬럼을 만들어 추가해 줍니다."
   ]
  },
  {
   "cell_type": "code",
   "execution_count": 30,
   "metadata": {
    "colab": {},
    "colab_type": "code",
    "id": "y0dqodhEJZVE"
   },
   "outputs": [],
   "source": [
    "df_last[\"평당분양가격\"] = df_last[\"분양가격\"] * 3.3"
   ]
  },
  {
   "cell_type": "markdown",
   "metadata": {
    "colab_type": "text",
    "id": "O0PFKeVrJZVG"
   },
   "source": [
    "### 분양가격 요약하기"
   ]
  },
  {
   "cell_type": "code",
   "execution_count": 47,
   "metadata": {},
   "outputs": [
    {
     "data": {
      "text/plain": [
       "0    1.0\n",
       "1    3.0\n",
       "2    5.0\n",
       "3    7.0\n",
       "4    NaN\n",
       "5    9.0\n",
       "dtype: float64"
      ]
     },
     "execution_count": 47,
     "metadata": {},
     "output_type": "execute_result"
    }
   ],
   "source": [
    "pd.Series([1, 3, 5, 7.0, \"\", 9]).replace(\"\", np.nan).astype(float)"
   ]
  },
  {
   "cell_type": "code",
   "execution_count": 41,
   "metadata": {
    "colab": {},
    "colab_type": "code",
    "id": "dUFsWpx1JZVH"
   },
   "outputs": [
    {
     "name": "stdout",
     "output_type": "stream",
     "text": [
      "<class 'pandas.core.frame.DataFrame'>\n",
      "RangeIndex: 6120 entries, 0 to 6119\n",
      "Data columns (total 6 columns):\n",
      " #   Column  Non-Null Count  Dtype  \n",
      "---  ------  --------------  -----  \n",
      " 0   지역명     6120 non-null   object \n",
      " 1   규모구분    6120 non-null   object \n",
      " 2   연도      6120 non-null   int64  \n",
      " 3   월       6120 non-null   int64  \n",
      " 4   분양가격    5625 non-null   float64\n",
      " 5   평당분양가격  5625 non-null   float64\n",
      "dtypes: float64(2), int64(2), object(2)\n",
      "memory usage: 287.0+ KB\n"
     ]
    }
   ],
   "source": [
    "# info를 통해 분양가격을 봅니다.\n",
    "df_last.info()"
   ]
  },
  {
   "cell_type": "code",
   "execution_count": 34,
   "metadata": {
    "colab": {},
    "colab_type": "code",
    "id": "V77bOjLIJZVJ"
   },
   "outputs": [
    {
     "data": {
      "text/plain": [
       "3459.3178666666668"
      ]
     },
     "execution_count": 34,
     "metadata": {},
     "output_type": "execute_result"
    }
   ],
   "source": [
    "df_last[\"분양가격\"].mean()"
   ]
  },
  {
   "cell_type": "code",
   "execution_count": 33,
   "metadata": {
    "colab": {},
    "colab_type": "code",
    "id": "LqwqYcy0JZVL"
   },
   "outputs": [
    {
     "data": {
      "text/plain": [
       "count     5625.000000\n",
       "mean      3459.317867\n",
       "std       1411.776054\n",
       "min       1868.000000\n",
       "25%       2574.000000\n",
       "50%       3067.000000\n",
       "75%       3922.000000\n",
       "max      13835.000000\n",
       "Name: 분양가격, dtype: float64"
      ]
     },
     "execution_count": 33,
     "metadata": {},
     "output_type": "execute_result"
    }
   ],
   "source": [
    "# 수치데이터로 변경된 분양가격 컬럼을 요약합니다.\n",
    "\n",
    "df_last[\"분양가격\"].describe()"
   ]
  },
  {
   "cell_type": "markdown",
   "metadata": {
    "colab_type": "text",
    "id": "AReZC_8JJZVO"
   },
   "source": [
    "### 규모구분을 전용면적 컬럼으로 변경\n",
    "규모구분 컬럼은 전용면적에 대한 내용이 있습니다. 전용면적이라는 문구가 공통적으로 들어가고 규모구분보다는 전용면적이 좀 더 직관적이기 때문에 전용면적이라는 컬럼을 새로 만들어주고 기존 규모구분의 값에서 전용면적, 초과, 이하 등의 문구를 빼고 간결하게 만들어 봅니다.\n",
    "\n",
    "이 때 str 의 replace 기능을 사용해서 예를들면 \"전용면적 60㎡초과 85㎡이하\"라면 \"60㎡~85㎡\" 로 변경해 줍니다.\n",
    "\n",
    "* pandas 의 string-handling 기능을 좀 더 보고 싶다면 :\n",
    "https://pandas.pydata.org/pandas-docs/stable/reference/series.html#string-handling"
   ]
  },
  {
   "cell_type": "code",
   "execution_count": 49,
   "metadata": {},
   "outputs": [
    {
     "data": {
      "text/plain": [
       "array(['모든면적', '전용면적 60제곱미터이하', '전용면적 60제곱미터초과 85제곱미터이하',\n",
       "       '전용면적 85제곱미터초과 102제곱미터이하', '전용면적 102제곱미터초과'], dtype=object)"
      ]
     },
     "execution_count": 49,
     "metadata": {},
     "output_type": "execute_result"
    }
   ],
   "source": [
    "# 규모구분의 unique 값 보기\n",
    "\n",
    "df_last[\"규모구분\"].unique()"
   ]
  },
  {
   "cell_type": "code",
   "execution_count": 61,
   "metadata": {},
   "outputs": [
    {
     "data": {
      "text/html": [
       "<div>\n",
       "<style scoped>\n",
       "    .dataframe tbody tr th:only-of-type {\n",
       "        vertical-align: middle;\n",
       "    }\n",
       "\n",
       "    .dataframe tbody tr th {\n",
       "        vertical-align: top;\n",
       "    }\n",
       "\n",
       "    .dataframe thead th {\n",
       "        text-align: right;\n",
       "    }\n",
       "</style>\n",
       "<table border=\"1\" class=\"dataframe\">\n",
       "  <thead>\n",
       "    <tr style=\"text-align: right;\">\n",
       "      <th></th>\n",
       "      <th>규모구분</th>\n",
       "      <th>전용면적</th>\n",
       "    </tr>\n",
       "  </thead>\n",
       "  <tbody>\n",
       "    <tr>\n",
       "      <th>0</th>\n",
       "      <td>모든면적</td>\n",
       "      <td>모든면적</td>\n",
       "    </tr>\n",
       "    <tr>\n",
       "      <th>1</th>\n",
       "      <td>전용면적 60제곱미터이하</td>\n",
       "      <td>60</td>\n",
       "    </tr>\n",
       "    <tr>\n",
       "      <th>2</th>\n",
       "      <td>전용면적 60제곱미터초과 85제곱미터이하</td>\n",
       "      <td>60~85</td>\n",
       "    </tr>\n",
       "    <tr>\n",
       "      <th>3</th>\n",
       "      <td>전용면적 85제곱미터초과 102제곱미터이하</td>\n",
       "      <td>85~102</td>\n",
       "    </tr>\n",
       "    <tr>\n",
       "      <th>4</th>\n",
       "      <td>전용면적 102제곱미터초과</td>\n",
       "      <td>102~</td>\n",
       "    </tr>\n",
       "  </tbody>\n",
       "</table>\n",
       "</div>"
      ],
      "text/plain": [
       "                      규모구분    전용면적\n",
       "0                     모든면적    모든면적\n",
       "1            전용면적 60제곱미터이하      60\n",
       "2   전용면적 60제곱미터초과 85제곱미터이하   60~85\n",
       "3  전용면적 85제곱미터초과 102제곱미터이하  85~102\n",
       "4           전용면적 102제곱미터초과    102~"
      ]
     },
     "execution_count": 61,
     "metadata": {},
     "output_type": "execute_result"
    }
   ],
   "source": [
    "# 규모구분을 전용면적으로 변경하기\n",
    "df_last[\"전용면적\"] = df_last[\"규모구분\"].str.replace(\"전용면적|제곱미터|이하| \", \"\", regex=True)\n",
    "df_last[\"전용면적\"] = df_last[\"전용면적\"].str.replace(\"초과\", \"~\")\n",
    "df_last[[\"규모구분\", \"전용면적\"]].head(5)"
   ]
  },
  {
   "cell_type": "markdown",
   "metadata": {},
   "source": [
    "### 필요없는 컬럼 제거하기\n",
    "drop을 통해 전처리 해준 컬럼을 제거합니다. pandas의 데이터프레임과 관련된 메소드에는 axis 옵션이 필요할 때가 있는데 행과 열중 어떤 기준으로 처리를 할 것인지를 의미합니다. 보통 기본적으로 0으로 되어 있고 행을 기준으로 처리함을 의미합니다. 메모리 사용량이 줄어들었는지 확인합니다."
   ]
  },
  {
   "cell_type": "code",
   "execution_count": 63,
   "metadata": {},
   "outputs": [
    {
     "name": "stdout",
     "output_type": "stream",
     "text": [
      "<class 'pandas.core.frame.DataFrame'>\n",
      "RangeIndex: 6120 entries, 0 to 6119\n",
      "Data columns (total 7 columns):\n",
      " #   Column  Non-Null Count  Dtype  \n",
      "---  ------  --------------  -----  \n",
      " 0   지역명     6120 non-null   object \n",
      " 1   규모구분    6120 non-null   object \n",
      " 2   연도      6120 non-null   int64  \n",
      " 3   월       6120 non-null   int64  \n",
      " 4   분양가격    5625 non-null   float64\n",
      " 5   평당분양가격  5625 non-null   float64\n",
      " 6   전용면적    6120 non-null   object \n",
      "dtypes: float64(2), int64(2), object(3)\n",
      "memory usage: 334.8+ KB\n"
     ]
    }
   ],
   "source": [
    "# info로 정보 보기\n",
    "\n",
    "df_last.info()"
   ]
  },
  {
   "cell_type": "code",
   "execution_count": null,
   "metadata": {},
   "outputs": [],
   "source": [
    "# drop 사용시 axis에 유의 합니다.\n",
    "# axis 0:행, 1:열\n",
    "\n",
    "df_last = df_last.drop(labels=[\"규모구분\", \"분양가격\"], axis=1)"
   ]
  },
  {
   "cell_type": "code",
   "execution_count": 67,
   "metadata": {},
   "outputs": [
    {
     "data": {
      "text/html": [
       "<div>\n",
       "<style scoped>\n",
       "    .dataframe tbody tr th:only-of-type {\n",
       "        vertical-align: middle;\n",
       "    }\n",
       "\n",
       "    .dataframe tbody tr th {\n",
       "        vertical-align: top;\n",
       "    }\n",
       "\n",
       "    .dataframe thead th {\n",
       "        text-align: right;\n",
       "    }\n",
       "</style>\n",
       "<table border=\"1\" class=\"dataframe\">\n",
       "  <thead>\n",
       "    <tr style=\"text-align: right;\">\n",
       "      <th></th>\n",
       "      <th>지역명</th>\n",
       "      <th>연도</th>\n",
       "      <th>월</th>\n",
       "      <th>평당분양가격</th>\n",
       "      <th>전용면적</th>\n",
       "    </tr>\n",
       "  </thead>\n",
       "  <tbody>\n",
       "    <tr>\n",
       "      <th>0</th>\n",
       "      <td>서울</td>\n",
       "      <td>2015</td>\n",
       "      <td>10</td>\n",
       "      <td>19275.3</td>\n",
       "      <td>모든면적</td>\n",
       "    </tr>\n",
       "    <tr>\n",
       "      <th>1</th>\n",
       "      <td>서울</td>\n",
       "      <td>2015</td>\n",
       "      <td>10</td>\n",
       "      <td>18651.6</td>\n",
       "      <td>60</td>\n",
       "    </tr>\n",
       "    <tr>\n",
       "      <th>2</th>\n",
       "      <td>서울</td>\n",
       "      <td>2015</td>\n",
       "      <td>10</td>\n",
       "      <td>19410.6</td>\n",
       "      <td>60~85</td>\n",
       "    </tr>\n",
       "    <tr>\n",
       "      <th>3</th>\n",
       "      <td>서울</td>\n",
       "      <td>2015</td>\n",
       "      <td>10</td>\n",
       "      <td>18879.3</td>\n",
       "      <td>85~102</td>\n",
       "    </tr>\n",
       "    <tr>\n",
       "      <th>4</th>\n",
       "      <td>서울</td>\n",
       "      <td>2015</td>\n",
       "      <td>10</td>\n",
       "      <td>19400.7</td>\n",
       "      <td>102~</td>\n",
       "    </tr>\n",
       "  </tbody>\n",
       "</table>\n",
       "</div>"
      ],
      "text/plain": [
       "  지역명    연도   월   평당분양가격    전용면적\n",
       "0  서울  2015  10  19275.3    모든면적\n",
       "1  서울  2015  10  18651.6      60\n",
       "2  서울  2015  10  19410.6   60~85\n",
       "3  서울  2015  10  18879.3  85~102\n",
       "4  서울  2015  10  19400.7    102~"
      ]
     },
     "execution_count": 67,
     "metadata": {},
     "output_type": "execute_result"
    }
   ],
   "source": [
    "# 제거가 잘 되었는지 확인 합니다.\n",
    "\n",
    "df_last.head()"
   ]
  },
  {
   "cell_type": "code",
   "execution_count": 68,
   "metadata": {},
   "outputs": [
    {
     "name": "stdout",
     "output_type": "stream",
     "text": [
      "<class 'pandas.core.frame.DataFrame'>\n",
      "RangeIndex: 6120 entries, 0 to 6119\n",
      "Data columns (total 5 columns):\n",
      " #   Column  Non-Null Count  Dtype  \n",
      "---  ------  --------------  -----  \n",
      " 0   지역명     6120 non-null   object \n",
      " 1   연도      6120 non-null   int64  \n",
      " 2   월       6120 non-null   int64  \n",
      " 3   평당분양가격  5625 non-null   float64\n",
      " 4   전용면적    6120 non-null   object \n",
      "dtypes: float64(1), int64(2), object(2)\n",
      "memory usage: 239.2+ KB\n"
     ]
    }
   ],
   "source": [
    "# 컬럼 제거를 통해 메모리 사용량이 줄어들었는지 확인합니다.\n",
    "\n",
    "df_last.info()"
   ]
  },
  {
   "cell_type": "markdown",
   "metadata": {
    "colab_type": "text",
    "id": "y6kOVY3CJZVQ"
   },
   "source": [
    "## 최근 데이터 시각화 하기"
   ]
  },
  {
   "cell_type": "markdown",
   "metadata": {
    "colab_type": "text",
    "id": "L-lOJGCAJZWK"
   },
   "source": [
    "### 수치데이터 히스토그램 그리기"
   ]
  },
  {
   "cell_type": "code",
   "execution_count": 74,
   "metadata": {},
   "outputs": [
    {
     "data": {
      "image/png": "[encoded data removed]",
      "text/plain": [
       "<Figure size 864x432 with 4 Axes>"
      ]
     },
     "metadata": {
      "needs_background": "light"
     },
     "output_type": "display_data"
    }
   ],
   "source": [
    "# df_last.hist()\n",
    "\n",
    "_ = df_last.hist(figsize=(12, 6), bins=100)"
   ]
  },
  {
   "cell_type": "code",
   "execution_count": null,
   "metadata": {},
   "outputs": [],
   "source": [
    "df_last[df_last[\"지역명\"].isin([\"서울\", \"경기\", \"인천\"])]"
   ]
  },
  {
   "cell_type": "code",
   "execution_count": 80,
   "metadata": {},
   "outputs": [
    {
     "data": {
      "text/plain": [
       "<seaborn.axisgrid.PairGrid at 0x7fa10139c0d0>"
      ]
     },
     "execution_count": 80,
     "metadata": {},
     "output_type": "execute_result"
    },
    {
     "data": {
      "image/png": "[encoded data removed]",
      "text/plain": [
       "<Figure size 596x540 with 12 Axes>"
      ]
     },
     "metadata": {
      "needs_background": "light"
     },
     "output_type": "display_data"
    }
   ],
   "source": [
    "# pairplot\n",
    "\n",
    "sns.pairplot(data=df_last[df_last[\"지역명\"].isin([\"서울\", \"경기\", \"인천\"])], hue=\"지역명\")"
   ]
  },
  {
   "cell_type": "markdown",
   "metadata": {
    "colab_type": "text",
    "id": "B1Y4qFSKJZWa"
   },
   "source": [
    "## 2015년 8월 이전 데이터 보기"
   ]
  },
  {
   "cell_type": "code",
   "execution_count": 89,
   "metadata": {},
   "outputs": [],
   "source": [
    "# 모든 컬럼이 출력되게 설정합니다.\n",
    "pd.options.display.max_columns = None"
   ]
  },
  {
   "cell_type": "code",
   "execution_count": 91,
   "metadata": {},
   "outputs": [
    {
     "data": {
      "text/html": [
       "<div>\n",
       "<style scoped>\n",
       "    .dataframe tbody tr th:only-of-type {\n",
       "        vertical-align: middle;\n",
       "    }\n",
       "\n",
       "    .dataframe tbody tr th {\n",
       "        vertical-align: top;\n",
       "    }\n",
       "\n",
       "    .dataframe thead th {\n",
       "        text-align: right;\n",
       "    }\n",
       "</style>\n",
       "<table border=\"1\" class=\"dataframe\">\n",
       "  <thead>\n",
       "    <tr style=\"text-align: right;\">\n",
       "      <th></th>\n",
       "      <th>지역</th>\n",
       "      <th>2013년12월</th>\n",
       "      <th>2014년1월</th>\n",
       "      <th>2014년2월</th>\n",
       "      <th>2014년3월</th>\n",
       "      <th>2014년4월</th>\n",
       "      <th>2014년5월</th>\n",
       "      <th>2014년6월</th>\n",
       "      <th>2014년7월</th>\n",
       "      <th>2014년8월</th>\n",
       "      <th>2014년9월</th>\n",
       "      <th>2014년10월</th>\n",
       "      <th>2014년11월</th>\n",
       "      <th>2014년12월</th>\n",
       "      <th>2015년1월</th>\n",
       "      <th>2015년2월</th>\n",
       "      <th>2015년3월</th>\n",
       "      <th>2015년4월</th>\n",
       "      <th>2015년5월</th>\n",
       "      <th>2015년6월</th>\n",
       "      <th>2015년7월</th>\n",
       "      <th>2015년8월</th>\n",
       "    </tr>\n",
       "  </thead>\n",
       "  <tbody>\n",
       "    <tr>\n",
       "      <th>0</th>\n",
       "      <td>서울</td>\n",
       "      <td>18189</td>\n",
       "      <td>17925</td>\n",
       "      <td>17925</td>\n",
       "      <td>18016</td>\n",
       "      <td>18098</td>\n",
       "      <td>19446</td>\n",
       "      <td>18867</td>\n",
       "      <td>18742</td>\n",
       "      <td>19274</td>\n",
       "      <td>19404</td>\n",
       "      <td>19759</td>\n",
       "      <td>20242</td>\n",
       "      <td>20269</td>\n",
       "      <td>20670</td>\n",
       "      <td>20670</td>\n",
       "      <td>19415</td>\n",
       "      <td>18842</td>\n",
       "      <td>18367</td>\n",
       "      <td>18374</td>\n",
       "      <td>18152</td>\n",
       "      <td>18443</td>\n",
       "    </tr>\n",
       "    <tr>\n",
       "      <th>1</th>\n",
       "      <td>부산</td>\n",
       "      <td>8111</td>\n",
       "      <td>8111</td>\n",
       "      <td>9078</td>\n",
       "      <td>8965</td>\n",
       "      <td>9402</td>\n",
       "      <td>9501</td>\n",
       "      <td>9453</td>\n",
       "      <td>9457</td>\n",
       "      <td>9411</td>\n",
       "      <td>9258</td>\n",
       "      <td>9110</td>\n",
       "      <td>9208</td>\n",
       "      <td>9208</td>\n",
       "      <td>9204</td>\n",
       "      <td>9235</td>\n",
       "      <td>9279</td>\n",
       "      <td>9327</td>\n",
       "      <td>9345</td>\n",
       "      <td>9515</td>\n",
       "      <td>9559</td>\n",
       "      <td>9581</td>\n",
       "    </tr>\n",
       "  </tbody>\n",
       "</table>\n",
       "</div>"
      ],
      "text/plain": [
       "   지역  2013년12월  2014년1월  2014년2월  2014년3월  2014년4월  2014년5월  2014년6월  \\\n",
       "0  서울     18189    17925    17925    18016    18098    19446    18867   \n",
       "1  부산      8111     8111     9078     8965     9402     9501     9453   \n",
       "\n",
       "   2014년7월  2014년8월  2014년9월  2014년10월  2014년11월  2014년12월  2015년1월  2015년2월  \\\n",
       "0    18742    19274    19404     19759     20242     20269    20670    20670   \n",
       "1     9457     9411     9258      9110      9208      9208     9204     9235   \n",
       "\n",
       "   2015년3월  2015년4월  2015년5월  2015년6월  2015년7월  2015년8월  \n",
       "0    19415    18842    18367    18374    18152    18443  \n",
       "1     9279     9327     9345     9515     9559     9581  "
      ]
     },
     "execution_count": 91,
     "metadata": {},
     "output_type": "execute_result"
    }
   ],
   "source": [
    "# head 로 미리보기를 합니다.\n",
    "\n",
    "df_first.head(2)"
   ]
  },
  {
   "cell_type": "code",
   "execution_count": 92,
   "metadata": {
    "colab": {},
    "colab_type": "code",
    "id": "ZsRnpSRJJZWa"
   },
   "outputs": [
    {
     "name": "stdout",
     "output_type": "stream",
     "text": [
      "<class 'pandas.core.frame.DataFrame'>\n",
      "RangeIndex: 17 entries, 0 to 16\n",
      "Data columns (total 22 columns):\n",
      " #   Column    Non-Null Count  Dtype \n",
      "---  ------    --------------  ----- \n",
      " 0   지역        17 non-null     object\n",
      " 1   2013년12월  17 non-null     int64 \n",
      " 2   2014년1월   17 non-null     int64 \n",
      " 3   2014년2월   17 non-null     int64 \n",
      " 4   2014년3월   17 non-null     int64 \n",
      " 5   2014년4월   17 non-null     int64 \n",
      " 6   2014년5월   17 non-null     int64 \n",
      " 7   2014년6월   17 non-null     int64 \n",
      " 8   2014년7월   17 non-null     int64 \n",
      " 9   2014년8월   17 non-null     int64 \n",
      " 10  2014년9월   17 non-null     int64 \n",
      " 11  2014년10월  17 non-null     int64 \n",
      " 12  2014년11월  17 non-null     int64 \n",
      " 13  2014년12월  17 non-null     int64 \n",
      " 14  2015년1월   17 non-null     int64 \n",
      " 15  2015년2월   17 non-null     int64 \n",
      " 16  2015년3월   17 non-null     int64 \n",
      " 17  2015년4월   17 non-null     int64 \n",
      " 18  2015년5월   17 non-null     int64 \n",
      " 19  2015년6월   17 non-null     int64 \n",
      " 20  2015년7월   17 non-null     int64 \n",
      " 21  2015년8월   17 non-null     int64 \n",
      "dtypes: int64(21), object(1)\n",
      "memory usage: 3.0+ KB\n"
     ]
    }
   ],
   "source": [
    "# df_first 변수에 담겨있는 데이터프레임의 정보를 info를 통해 봅니다.\n",
    "\n",
    "df_first.info()"
   ]
  },
  {
   "cell_type": "code",
   "execution_count": 94,
   "metadata": {
    "colab": {},
    "colab_type": "code",
    "id": "BE3i4RslJZWc",
    "scrolled": false
   },
   "outputs": [
    {
     "data": {
      "text/plain": [
       "지역          0\n",
       "2013년12월    0\n",
       "2014년1월     0\n",
       "2014년2월     0\n",
       "2014년3월     0\n",
       "2014년4월     0\n",
       "2014년5월     0\n",
       "2014년6월     0\n",
       "2014년7월     0\n",
       "2014년8월     0\n",
       "2014년9월     0\n",
       "2014년10월    0\n",
       "2014년11월    0\n",
       "2014년12월    0\n",
       "2015년1월     0\n",
       "2015년2월     0\n",
       "2015년3월     0\n",
       "2015년4월     0\n",
       "2015년5월     0\n",
       "2015년6월     0\n",
       "2015년7월     0\n",
       "2015년8월     0\n",
       "dtype: int64"
      ]
     },
     "execution_count": 94,
     "metadata": {},
     "output_type": "execute_result"
    }
   ],
   "source": [
    "# 결측치가 있는지 봅니다.\n",
    "\n",
    "df_first.isnull().sum()"
   ]
  },
  {
   "cell_type": "markdown",
   "metadata": {
    "colab_type": "text",
    "id": "qJPb9qxMJZWi"
   },
   "source": [
    "### melt로 Tidy data 만들기\n",
    "pandas의 melt를 사용하면 데이터의 형태를 변경할 수 있습니다. \n",
    "df_first 변수에 담긴 데이터프레임은 df_last에 담겨있는 데이터프레임의 모습과 다릅니다. \n",
    "같은 형태로 만들어주어야 데이터를 합칠 수 있습니다. \n",
    "데이터를 병합하기 위해 melt를 사용해 열에 있는 데이터를 행으로 녹여봅니다.\n",
    "\n",
    "<img src=\"https://pandas.pydata.org/docs/_images/reshaping_melt.png\" width=\"500\">\n",
    "\n",
    "* https://pandas.pydata.org/docs/user_guide/reshaping.html#reshaping-by-melt\n",
    "* [Tidy Data 란?](https://vita.had.co.nz/papers/tidy-data.pdf)"
   ]
  },
  {
   "cell_type": "code",
   "execution_count": 95,
   "metadata": {},
   "outputs": [
    {
     "data": {
      "text/html": [
       "<div>\n",
       "<style scoped>\n",
       "    .dataframe tbody tr th:only-of-type {\n",
       "        vertical-align: middle;\n",
       "    }\n",
       "\n",
       "    .dataframe tbody tr th {\n",
       "        vertical-align: top;\n",
       "    }\n",
       "\n",
       "    .dataframe thead th {\n",
       "        text-align: right;\n",
       "    }\n",
       "</style>\n",
       "<table border=\"1\" class=\"dataframe\">\n",
       "  <thead>\n",
       "    <tr style=\"text-align: right;\">\n",
       "      <th></th>\n",
       "      <th>지역</th>\n",
       "      <th>2013년12월</th>\n",
       "      <th>2014년1월</th>\n",
       "      <th>2014년2월</th>\n",
       "      <th>2014년3월</th>\n",
       "      <th>2014년4월</th>\n",
       "      <th>2014년5월</th>\n",
       "      <th>2014년6월</th>\n",
       "      <th>2014년7월</th>\n",
       "      <th>2014년8월</th>\n",
       "      <th>2014년9월</th>\n",
       "      <th>2014년10월</th>\n",
       "      <th>2014년11월</th>\n",
       "      <th>2014년12월</th>\n",
       "      <th>2015년1월</th>\n",
       "      <th>2015년2월</th>\n",
       "      <th>2015년3월</th>\n",
       "      <th>2015년4월</th>\n",
       "      <th>2015년5월</th>\n",
       "      <th>2015년6월</th>\n",
       "      <th>2015년7월</th>\n",
       "      <th>2015년8월</th>\n",
       "    </tr>\n",
       "  </thead>\n",
       "  <tbody>\n",
       "    <tr>\n",
       "      <th>0</th>\n",
       "      <td>서울</td>\n",
       "      <td>18189</td>\n",
       "      <td>17925</td>\n",
       "      <td>17925</td>\n",
       "      <td>18016</td>\n",
       "      <td>18098</td>\n",
       "      <td>19446</td>\n",
       "      <td>18867</td>\n",
       "      <td>18742</td>\n",
       "      <td>19274</td>\n",
       "      <td>19404</td>\n",
       "      <td>19759</td>\n",
       "      <td>20242</td>\n",
       "      <td>20269</td>\n",
       "      <td>20670</td>\n",
       "      <td>20670</td>\n",
       "      <td>19415</td>\n",
       "      <td>18842</td>\n",
       "      <td>18367</td>\n",
       "      <td>18374</td>\n",
       "      <td>18152</td>\n",
       "      <td>18443</td>\n",
       "    </tr>\n",
       "    <tr>\n",
       "      <th>1</th>\n",
       "      <td>부산</td>\n",
       "      <td>8111</td>\n",
       "      <td>8111</td>\n",
       "      <td>9078</td>\n",
       "      <td>8965</td>\n",
       "      <td>9402</td>\n",
       "      <td>9501</td>\n",
       "      <td>9453</td>\n",
       "      <td>9457</td>\n",
       "      <td>9411</td>\n",
       "      <td>9258</td>\n",
       "      <td>9110</td>\n",
       "      <td>9208</td>\n",
       "      <td>9208</td>\n",
       "      <td>9204</td>\n",
       "      <td>9235</td>\n",
       "      <td>9279</td>\n",
       "      <td>9327</td>\n",
       "      <td>9345</td>\n",
       "      <td>9515</td>\n",
       "      <td>9559</td>\n",
       "      <td>9581</td>\n",
       "    </tr>\n",
       "  </tbody>\n",
       "</table>\n",
       "</div>"
      ],
      "text/plain": [
       "   지역  2013년12월  2014년1월  2014년2월  2014년3월  2014년4월  2014년5월  2014년6월  \\\n",
       "0  서울     18189    17925    17925    18016    18098    19446    18867   \n",
       "1  부산      8111     8111     9078     8965     9402     9501     9453   \n",
       "\n",
       "   2014년7월  2014년8월  2014년9월  2014년10월  2014년11월  2014년12월  2015년1월  2015년2월  \\\n",
       "0    18742    19274    19404     19759     20242     20269    20670    20670   \n",
       "1     9457     9411     9258      9110      9208      9208     9204     9235   \n",
       "\n",
       "   2015년3월  2015년4월  2015년5월  2015년6월  2015년7월  2015년8월  \n",
       "0    19415    18842    18367    18374    18152    18443  \n",
       "1     9279     9327     9345     9515     9559     9581  "
      ]
     },
     "execution_count": 95,
     "metadata": {},
     "output_type": "execute_result"
    }
   ],
   "source": [
    "# head 로 미리보기 합니다.\n",
    "\n",
    "df_first.head(2)"
   ]
  },
  {
   "cell_type": "code",
   "execution_count": 98,
   "metadata": {
    "colab": {},
    "colab_type": "code",
    "id": "XFlALkt_JZWi"
   },
   "outputs": [
    {
     "data": {
      "text/html": [
       "<div>\n",
       "<style scoped>\n",
       "    .dataframe tbody tr th:only-of-type {\n",
       "        vertical-align: middle;\n",
       "    }\n",
       "\n",
       "    .dataframe tbody tr th {\n",
       "        vertical-align: top;\n",
       "    }\n",
       "\n",
       "    .dataframe thead th {\n",
       "        text-align: right;\n",
       "    }\n",
       "</style>\n",
       "<table border=\"1\" class=\"dataframe\">\n",
       "  <thead>\n",
       "    <tr style=\"text-align: right;\">\n",
       "      <th></th>\n",
       "      <th>지역</th>\n",
       "      <th>variable</th>\n",
       "      <th>value</th>\n",
       "    </tr>\n",
       "  </thead>\n",
       "  <tbody>\n",
       "    <tr>\n",
       "      <th>0</th>\n",
       "      <td>서울</td>\n",
       "      <td>2013년12월</td>\n",
       "      <td>18189</td>\n",
       "    </tr>\n",
       "    <tr>\n",
       "      <th>1</th>\n",
       "      <td>부산</td>\n",
       "      <td>2013년12월</td>\n",
       "      <td>8111</td>\n",
       "    </tr>\n",
       "  </tbody>\n",
       "</table>\n",
       "</div>"
      ],
      "text/plain": [
       "   지역  variable  value\n",
       "0  서울  2013년12월  18189\n",
       "1  부산  2013년12월   8111"
      ]
     },
     "execution_count": 98,
     "metadata": {},
     "output_type": "execute_result"
    }
   ],
   "source": [
    "# pd.melt 를 사용하며, 녹인 데이터는 df_first_melt 변수에 담습니다. \n",
    "\n",
    "\n",
    "df_first_melt = pd.melt(df_first, id_vars=[\"지역\"])\n",
    "df_first_melt.head(2)"
   ]
  },
  {
   "cell_type": "code",
   "execution_count": 100,
   "metadata": {
    "colab": {},
    "colab_type": "code",
    "id": "cw_cUHIBJZWm"
   },
   "outputs": [
    {
     "data": {
      "text/html": [
       "<div>\n",
       "<style scoped>\n",
       "    .dataframe tbody tr th:only-of-type {\n",
       "        vertical-align: middle;\n",
       "    }\n",
       "\n",
       "    .dataframe tbody tr th {\n",
       "        vertical-align: top;\n",
       "    }\n",
       "\n",
       "    .dataframe thead th {\n",
       "        text-align: right;\n",
       "    }\n",
       "</style>\n",
       "<table border=\"1\" class=\"dataframe\">\n",
       "  <thead>\n",
       "    <tr style=\"text-align: right;\">\n",
       "      <th></th>\n",
       "      <th>지역명</th>\n",
       "      <th>기간</th>\n",
       "      <th>평당분양가격</th>\n",
       "    </tr>\n",
       "  </thead>\n",
       "  <tbody>\n",
       "    <tr>\n",
       "      <th>0</th>\n",
       "      <td>서울</td>\n",
       "      <td>2013년12월</td>\n",
       "      <td>18189</td>\n",
       "    </tr>\n",
       "    <tr>\n",
       "      <th>1</th>\n",
       "      <td>부산</td>\n",
       "      <td>2013년12월</td>\n",
       "      <td>8111</td>\n",
       "    </tr>\n",
       "  </tbody>\n",
       "</table>\n",
       "</div>"
      ],
      "text/plain": [
       "  지역명        기간  평당분양가격\n",
       "0  서울  2013년12월   18189\n",
       "1  부산  2013년12월    8111"
      ]
     },
     "execution_count": 100,
     "metadata": {},
     "output_type": "execute_result"
    }
   ],
   "source": [
    "# df_first_melt 변수에 담겨진 컬럼의 이름을 \n",
    "# [\"지역명\", \"기간\", \"평당분양가격\"] 으로 변경합니다.\n",
    "\n",
    "df_first_melt.columns = [\"지역명\", \"기간\", \"평당분양가격\"]\n",
    "df_first_melt.head(2)"
   ]
  },
  {
   "cell_type": "markdown",
   "metadata": {},
   "source": [
    "### 연도와 월을 분리하기\n",
    "* pandas 의 string-handling 사용하기 : https://pandas.pydata.org/pandas-docs/stable/reference/series.html#string-handling"
   ]
  },
  {
   "cell_type": "code",
   "execution_count": 101,
   "metadata": {},
   "outputs": [
    {
     "data": {
      "text/html": [
       "<div>\n",
       "<style scoped>\n",
       "    .dataframe tbody tr th:only-of-type {\n",
       "        vertical-align: middle;\n",
       "    }\n",
       "\n",
       "    .dataframe tbody tr th {\n",
       "        vertical-align: top;\n",
       "    }\n",
       "\n",
       "    .dataframe thead th {\n",
       "        text-align: right;\n",
       "    }\n",
       "</style>\n",
       "<table border=\"1\" class=\"dataframe\">\n",
       "  <thead>\n",
       "    <tr style=\"text-align: right;\">\n",
       "      <th></th>\n",
       "      <th>지역명</th>\n",
       "      <th>연도</th>\n",
       "      <th>월</th>\n",
       "      <th>평당분양가격</th>\n",
       "      <th>전용면적</th>\n",
       "    </tr>\n",
       "  </thead>\n",
       "  <tbody>\n",
       "    <tr>\n",
       "      <th>0</th>\n",
       "      <td>서울</td>\n",
       "      <td>2015</td>\n",
       "      <td>10</td>\n",
       "      <td>19275.3</td>\n",
       "      <td>모든면적</td>\n",
       "    </tr>\n",
       "  </tbody>\n",
       "</table>\n",
       "</div>"
      ],
      "text/plain": [
       "  지역명    연도   월   평당분양가격  전용면적\n",
       "0  서울  2015  10  19275.3  모든면적"
      ]
     },
     "execution_count": 101,
     "metadata": {},
     "output_type": "execute_result"
    }
   ],
   "source": [
    "df_last.head(1)"
   ]
  },
  {
   "cell_type": "code",
   "execution_count": 102,
   "metadata": {
    "colab": {},
    "colab_type": "code",
    "id": "PxzM-lNZJZWo"
   },
   "outputs": [
    {
     "data": {
      "text/plain": [
       "'2013년12월'"
      ]
     },
     "execution_count": 102,
     "metadata": {},
     "output_type": "execute_result"
    }
   ],
   "source": [
    "date = \"2013년12월\"\n",
    "date"
   ]
  },
  {
   "cell_type": "code",
   "execution_count": 108,
   "metadata": {
    "colab": {},
    "colab_type": "code",
    "id": "FvVearAvJZWq"
   },
   "outputs": [
    {
     "data": {
      "text/plain": [
       "['2013', '12월']"
      ]
     },
     "execution_count": 108,
     "metadata": {},
     "output_type": "execute_result"
    }
   ],
   "source": [
    "# split 을 통해 \"년\"을 기준으로 텍스트를 분리해 봅니다.\n",
    "\n",
    "date.split(\"년\")"
   ]
  },
  {
   "cell_type": "code",
   "execution_count": 109,
   "metadata": {
    "colab": {},
    "colab_type": "code",
    "id": "XN7UQjf2JZWr"
   },
   "outputs": [
    {
     "data": {
      "text/plain": [
       "'2013'"
      ]
     },
     "execution_count": 109,
     "metadata": {},
     "output_type": "execute_result"
    }
   ],
   "source": [
    "# 리스트의 인덱싱을 사용해서 연도만 가져옵니다.\n",
    "\n",
    "date.split(\"년\")[0]"
   ]
  },
  {
   "cell_type": "code",
   "execution_count": 110,
   "metadata": {},
   "outputs": [
    {
     "data": {
      "text/plain": [
       "2013"
      ]
     },
     "execution_count": 110,
     "metadata": {},
     "output_type": "execute_result"
    }
   ],
   "source": [
    "int(date.split(\"년\")[0])"
   ]
  },
  {
   "cell_type": "code",
   "execution_count": 127,
   "metadata": {
    "colab": {},
    "colab_type": "code",
    "id": "IerNx9rJJZWt"
   },
   "outputs": [
    {
     "data": {
      "text/plain": [
       "12"
      ]
     },
     "execution_count": 127,
     "metadata": {},
     "output_type": "execute_result"
    }
   ],
   "source": [
    "# 리스트의 인덱싱과 replace를 사용해서 월을 제거합니다.\n",
    "\n",
    "int(date.split(\"년\")[-1].replace(\"월\", \"\"))"
   ]
  },
  {
   "cell_type": "code",
   "execution_count": 128,
   "metadata": {
    "colab": {},
    "colab_type": "code",
    "id": "FzrhsBYVJZWu"
   },
   "outputs": [],
   "source": [
    "# parse_year라는 함수를 만듭니다.\n",
    "# 연도만 반환하도록 하며, 반환하는 데이터는 int 타입이 되도록 합니다.\n",
    "\n",
    "def parse_year(date):\n",
    "    return int(date.split(\"년\")[0])"
   ]
  },
  {
   "cell_type": "code",
   "execution_count": 129,
   "metadata": {
    "colab": {},
    "colab_type": "code",
    "id": "_cb07-sTJZWv",
    "scrolled": true
   },
   "outputs": [
    {
     "data": {
      "text/plain": [
       "2013"
      ]
     },
     "execution_count": 129,
     "metadata": {},
     "output_type": "execute_result"
    }
   ],
   "source": [
    "# 제대로 분리가 되었는지 parse_year 함수를 확인합니다.\n",
    "\n",
    "parse_year(date)"
   ]
  },
  {
   "cell_type": "code",
   "execution_count": 124,
   "metadata": {
    "colab": {},
    "colab_type": "code",
    "id": "5ZZV-wMCJZWx"
   },
   "outputs": [],
   "source": [
    "# parse_month 라는 함수를 만듭니다.\n",
    "# 월만 반환하도록 하며, 반환하는 데이터는 int 타입이 되도록 합니다.\n",
    "\n",
    "def parse_month(date):\n",
    "    return int(date.split(\"년\")[-1].replace(\"월\", \"\"))"
   ]
  },
  {
   "cell_type": "code",
   "execution_count": 125,
   "metadata": {
    "colab": {},
    "colab_type": "code",
    "id": "9Vg3xrfMJZWy"
   },
   "outputs": [
    {
     "data": {
      "text/plain": [
       "12"
      ]
     },
     "execution_count": 125,
     "metadata": {},
     "output_type": "execute_result"
    }
   ],
   "source": [
    "# 제대로 분리가 되었는지 parse_month 함수를 확인합니다.\n",
    "parse_month(date)"
   ]
  },
  {
   "cell_type": "code",
   "execution_count": 131,
   "metadata": {},
   "outputs": [
    {
     "data": {
      "text/html": [
       "<div>\n",
       "<style scoped>\n",
       "    .dataframe tbody tr th:only-of-type {\n",
       "        vertical-align: middle;\n",
       "    }\n",
       "\n",
       "    .dataframe tbody tr th {\n",
       "        vertical-align: top;\n",
       "    }\n",
       "\n",
       "    .dataframe thead th {\n",
       "        text-align: right;\n",
       "    }\n",
       "</style>\n",
       "<table border=\"1\" class=\"dataframe\">\n",
       "  <thead>\n",
       "    <tr style=\"text-align: right;\">\n",
       "      <th></th>\n",
       "      <th>지역명</th>\n",
       "      <th>연도</th>\n",
       "      <th>월</th>\n",
       "      <th>평당분양가격</th>\n",
       "      <th>전용면적</th>\n",
       "    </tr>\n",
       "  </thead>\n",
       "  <tbody>\n",
       "    <tr>\n",
       "      <th>0</th>\n",
       "      <td>서울</td>\n",
       "      <td>2015</td>\n",
       "      <td>10</td>\n",
       "      <td>19275.3</td>\n",
       "      <td>모든면적</td>\n",
       "    </tr>\n",
       "  </tbody>\n",
       "</table>\n",
       "</div>"
      ],
      "text/plain": [
       "  지역명    연도   월   평당분양가격  전용면적\n",
       "0  서울  2015  10  19275.3  모든면적"
      ]
     },
     "execution_count": 131,
     "metadata": {},
     "output_type": "execute_result"
    }
   ],
   "source": [
    "df_last.head(1)"
   ]
  },
  {
   "cell_type": "code",
   "execution_count": 132,
   "metadata": {
    "colab": {},
    "colab_type": "code",
    "id": "-1kqUVUiJZW2"
   },
   "outputs": [],
   "source": [
    "# df_first_melt 변수에 담긴 데이터프레임에서 \n",
    "# apply를 활용해 연도만 추출해서 새로운 컬럼에 담습니다.\n",
    "\n",
    "df_first_melt[\"연도\"] = df_first_melt[\"기간\"].apply(parse_year)"
   ]
  },
  {
   "cell_type": "code",
   "execution_count": null,
   "metadata": {
    "colab": {},
    "colab_type": "code",
    "id": "rITud4g6JZW4"
   },
   "outputs": [],
   "source": [
    "# df_first_melt 변수에 담긴 데이터프레임에서 \n",
    "# apply를 활용해 월만 추출해서 새로운 컬럼에 담습니다.\n",
    "\n",
    "df_first_melt[\"월\"] = df_first_melt[\"기간\"].apply(parse_month)\n",
    "df_first_melt.head()"
   ]
  },
  {
   "cell_type": "code",
   "execution_count": 146,
   "metadata": {},
   "outputs": [],
   "source": [
    "df_first_melt[\"연도\"] = df_first_melt[\"기간\"].str.split(\n",
    "    \"년\", expand=True)[0].astype(int)"
   ]
  },
  {
   "cell_type": "code",
   "execution_count": 145,
   "metadata": {},
   "outputs": [
    {
     "data": {
      "text/plain": [
       "0      12\n",
       "1      12\n",
       "2      12\n",
       "3      12\n",
       "4      12\n",
       "       ..\n",
       "352     8\n",
       "353     8\n",
       "354     8\n",
       "355     8\n",
       "356     8\n",
       "Name: 1, Length: 357, dtype: int64"
      ]
     },
     "execution_count": 145,
     "metadata": {},
     "output_type": "execute_result"
    }
   ],
   "source": [
    "df_first_melt[\"월\"] = df_first_melt[\"기간\"].str.split(\n",
    "    \"년\", expand=True)[1].str.replace(\"월\", \"\").astype(int)"
   ]
  },
  {
   "cell_type": "code",
   "execution_count": 148,
   "metadata": {},
   "outputs": [
    {
     "data": {
      "text/plain": [
       "['지역명', '연도', '월', '평당분양가격', '전용면적']"
      ]
     },
     "execution_count": 148,
     "metadata": {},
     "output_type": "execute_result"
    }
   ],
   "source": [
    "# 컬럼명을 리스트로 만들때 버전에 따라 tolist() 로 동작하기도 합니다.\n",
    "# to_list() 가 동작하지 않는다면 tolist() 로 해보세요.\n",
    "df_last.columns.tolist()"
   ]
  },
  {
   "cell_type": "code",
   "execution_count": 150,
   "metadata": {
    "colab": {},
    "colab_type": "code",
    "id": "01xmyXCZJZW5"
   },
   "outputs": [
    {
     "data": {
      "text/plain": [
       "['지역명', '기간', '평당분양가격', '연도', '월']"
      ]
     },
     "execution_count": 150,
     "metadata": {},
     "output_type": "execute_result"
    }
   ],
   "source": [
    "# df_last와 병합을 하기 위해서는 컬럼의 이름이 같아야 합니다.\n",
    "# sample을 활용해서 데이터를 미리보기 합니다.\n",
    "\n",
    "df_first_melt.columns.tolist()"
   ]
  },
  {
   "cell_type": "code",
   "execution_count": 151,
   "metadata": {},
   "outputs": [
    {
     "data": {
      "text/plain": [
       "['지역명', '연도', '월', '평당분양가격']"
      ]
     },
     "execution_count": 151,
     "metadata": {},
     "output_type": "execute_result"
    }
   ],
   "source": [
    "cols = ['지역명', '연도', '월', '평당분양가격']\n",
    "cols"
   ]
  },
  {
   "cell_type": "code",
   "execution_count": 158,
   "metadata": {
    "colab": {},
    "colab_type": "code",
    "id": "g1ZjE8N2JZW8"
   },
   "outputs": [
    {
     "data": {
      "text/html": [
       "<div>\n",
       "<style scoped>\n",
       "    .dataframe tbody tr th:only-of-type {\n",
       "        vertical-align: middle;\n",
       "    }\n",
       "\n",
       "    .dataframe tbody tr th {\n",
       "        vertical-align: top;\n",
       "    }\n",
       "\n",
       "    .dataframe thead th {\n",
       "        text-align: right;\n",
       "    }\n",
       "</style>\n",
       "<table border=\"1\" class=\"dataframe\">\n",
       "  <thead>\n",
       "    <tr style=\"text-align: right;\">\n",
       "      <th></th>\n",
       "      <th>지역명</th>\n",
       "      <th>연도</th>\n",
       "      <th>월</th>\n",
       "      <th>평당분양가격</th>\n",
       "    </tr>\n",
       "  </thead>\n",
       "  <tbody>\n",
       "    <tr>\n",
       "      <th>0</th>\n",
       "      <td>서울</td>\n",
       "      <td>2015</td>\n",
       "      <td>10</td>\n",
       "      <td>19275.3</td>\n",
       "    </tr>\n",
       "    <tr>\n",
       "      <th>5</th>\n",
       "      <td>인천</td>\n",
       "      <td>2015</td>\n",
       "      <td>10</td>\n",
       "      <td>10437.9</td>\n",
       "    </tr>\n",
       "    <tr>\n",
       "      <th>10</th>\n",
       "      <td>경기</td>\n",
       "      <td>2015</td>\n",
       "      <td>10</td>\n",
       "      <td>10355.4</td>\n",
       "    </tr>\n",
       "    <tr>\n",
       "      <th>15</th>\n",
       "      <td>부산</td>\n",
       "      <td>2015</td>\n",
       "      <td>10</td>\n",
       "      <td>10269.6</td>\n",
       "    </tr>\n",
       "    <tr>\n",
       "      <th>20</th>\n",
       "      <td>대구</td>\n",
       "      <td>2015</td>\n",
       "      <td>10</td>\n",
       "      <td>8850.6</td>\n",
       "    </tr>\n",
       "  </tbody>\n",
       "</table>\n",
       "</div>"
      ],
      "text/plain": [
       "   지역명    연도   월   평당분양가격\n",
       "0   서울  2015  10  19275.3\n",
       "5   인천  2015  10  10437.9\n",
       "10  경기  2015  10  10355.4\n",
       "15  부산  2015  10  10269.6\n",
       "20  대구  2015  10   8850.6"
      ]
     },
     "execution_count": 158,
     "metadata": {},
     "output_type": "execute_result"
    }
   ],
   "source": [
    "# 최근 데이터가 담긴 df_last 에는 전용면적이 있습니다. \n",
    "# 이전 데이터에는 전용면적이 없기 때문에 \"전체\"만 사용하도록 합니다.\n",
    "# loc를 사용해서 전체에 해당하는 면적만 copy로 복사해서 df_last_prepare 변수에 담습니다.\n",
    "\n",
    "df_last_prepare = df_last.loc[df_last[\"전용면적\"] == \"모든면적\", cols].copy()\n",
    "df_last_prepare.head()"
   ]
  },
  {
   "cell_type": "code",
   "execution_count": 162,
   "metadata": {
    "colab": {},
    "colab_type": "code",
    "id": "4CwygvPsJZW9"
   },
   "outputs": [
    {
     "data": {
      "text/html": [
       "<div>\n",
       "<style scoped>\n",
       "    .dataframe tbody tr th:only-of-type {\n",
       "        vertical-align: middle;\n",
       "    }\n",
       "\n",
       "    .dataframe tbody tr th {\n",
       "        vertical-align: top;\n",
       "    }\n",
       "\n",
       "    .dataframe thead th {\n",
       "        text-align: right;\n",
       "    }\n",
       "</style>\n",
       "<table border=\"1\" class=\"dataframe\">\n",
       "  <thead>\n",
       "    <tr style=\"text-align: right;\">\n",
       "      <th></th>\n",
       "      <th>지역명</th>\n",
       "      <th>연도</th>\n",
       "      <th>월</th>\n",
       "      <th>평당분양가격</th>\n",
       "    </tr>\n",
       "  </thead>\n",
       "  <tbody>\n",
       "    <tr>\n",
       "      <th>0</th>\n",
       "      <td>서울</td>\n",
       "      <td>2013</td>\n",
       "      <td>12</td>\n",
       "      <td>18189</td>\n",
       "    </tr>\n",
       "    <tr>\n",
       "      <th>1</th>\n",
       "      <td>부산</td>\n",
       "      <td>2013</td>\n",
       "      <td>12</td>\n",
       "      <td>8111</td>\n",
       "    </tr>\n",
       "    <tr>\n",
       "      <th>2</th>\n",
       "      <td>대구</td>\n",
       "      <td>2013</td>\n",
       "      <td>12</td>\n",
       "      <td>8080</td>\n",
       "    </tr>\n",
       "    <tr>\n",
       "      <th>3</th>\n",
       "      <td>인천</td>\n",
       "      <td>2013</td>\n",
       "      <td>12</td>\n",
       "      <td>10204</td>\n",
       "    </tr>\n",
       "    <tr>\n",
       "      <th>4</th>\n",
       "      <td>광주</td>\n",
       "      <td>2013</td>\n",
       "      <td>12</td>\n",
       "      <td>6098</td>\n",
       "    </tr>\n",
       "  </tbody>\n",
       "</table>\n",
       "</div>"
      ],
      "text/plain": [
       "  지역명    연도   월  평당분양가격\n",
       "0  서울  2013  12   18189\n",
       "1  부산  2013  12    8111\n",
       "2  대구  2013  12    8080\n",
       "3  인천  2013  12   10204\n",
       "4  광주  2013  12    6098"
      ]
     },
     "execution_count": 162,
     "metadata": {},
     "output_type": "execute_result"
    }
   ],
   "source": [
    "# df_first_melt에서 공통된 컬럼만 가져온 뒤\n",
    "# copy로 복사해서 df_first_prepare 변수에 담습니다.\n",
    "\n",
    "df_first_prepare = df_first_melt.loc[:, cols].copy()\n",
    "df_first_prepare.head()"
   ]
  },
  {
   "cell_type": "markdown",
   "metadata": {
    "colab_type": "text",
    "id": "1D9an7yBJZW-"
   },
   "source": [
    "### concat 으로 데이터 합치기\n",
    "<img src=\"https://pandas.pydata.org/pandas-docs/stable/_images/merging_concat_basic.png\">\n",
    "\n",
    "* https://pandas.pydata.org/pandas-docs/stable/reference/api/pandas.concat.html"
   ]
  },
  {
   "cell_type": "code",
   "execution_count": 165,
   "metadata": {
    "colab": {},
    "colab_type": "code",
    "id": "zzt1XHxrJZW_"
   },
   "outputs": [],
   "source": [
    "# df_first_prepare 와 df_last_prepare 를 합쳐줍니다.\n",
    "df = pd.concat([df_first_prepare, df_last_prepare])"
   ]
  },
  {
   "cell_type": "code",
   "execution_count": null,
   "metadata": {
    "colab": {},
    "colab_type": "code",
    "id": "O4YP4QDkJZXC"
   },
   "outputs": [],
   "source": [
    "# 제대로 합쳐졌는지 미리보기를 합니다.\n",
    "\n",
    "df"
   ]
  },
  {
   "cell_type": "code",
   "execution_count": 168,
   "metadata": {
    "colab": {},
    "colab_type": "code",
    "id": "Qn5Cyfp2JZXE"
   },
   "outputs": [
    {
     "data": {
      "text/plain": [
       "2013     17\n",
       "2014    204\n",
       "2015    187\n",
       "2016    204\n",
       "2017    204\n",
       "2018    204\n",
       "2019    204\n",
       "2020    204\n",
       "2021    153\n",
       "Name: 연도, dtype: int64"
      ]
     },
     "execution_count": 168,
     "metadata": {},
     "output_type": "execute_result"
    }
   ],
   "source": [
    "# 연도별로 데이터가 몇개씩 있는지 value_counts를 통해 세어봅니다.\n",
    "\n",
    "df[\"연도\"].value_counts().sort_index()"
   ]
  },
  {
   "cell_type": "markdown",
   "metadata": {
    "colab_type": "text",
    "id": "qhS9AqdkJZVT"
   },
   "source": [
    "## groupby 로 데이터 집계하기\n",
    "groupby 를 통해 데이터를 그룹화해서 연산을 해봅니다."
   ]
  },
  {
   "cell_type": "code",
   "execution_count": 177,
   "metadata": {
    "colab": {},
    "colab_type": "code",
    "id": "c_lCPSzLJZVO"
   },
   "outputs": [
    {
     "data": {
      "text/plain": [
       "<AxesSubplot:xlabel='지역명'>"
      ]
     },
     "execution_count": 177,
     "metadata": {},
     "output_type": "execute_result"
    },
    {
     "data": {
      "image/png": "[encoded data removed]",
      "text/plain": [
       "<Figure size 432x288 with 1 Axes>"
      ]
     },
     "metadata": {
      "needs_background": "light"
     },
     "output_type": "display_data"
    }
   ],
   "source": [
    "# 지역명으로 분양가격의 평균을 구하고 막대그래프(bar)로 시각화 합니다.\n",
    "# df.groupby([\"인덱스로 사용할 컬럼명\"])[\"계산할 컬럼 값\"].연산()\n",
    "\n",
    "df.groupby(by=[\"지역명\"])[\"평당분양가격\"].mean(\n",
    ").sort_values(ascending=False).plot(kind=\"bar\")"
   ]
  },
  {
   "cell_type": "code",
   "execution_count": 187,
   "metadata": {},
   "outputs": [
    {
     "data": {
      "text/html": [
       "<div>\n",
       "<style scoped>\n",
       "    .dataframe tbody tr th:only-of-type {\n",
       "        vertical-align: middle;\n",
       "    }\n",
       "\n",
       "    .dataframe tbody tr th {\n",
       "        vertical-align: top;\n",
       "    }\n",
       "\n",
       "    .dataframe thead th {\n",
       "        text-align: right;\n",
       "    }\n",
       "</style>\n",
       "<table border=\"1\" class=\"dataframe\">\n",
       "  <thead>\n",
       "    <tr style=\"text-align: right;\">\n",
       "      <th>지역명</th>\n",
       "      <th>강원</th>\n",
       "      <th>경기</th>\n",
       "      <th>경남</th>\n",
       "      <th>경북</th>\n",
       "      <th>광주</th>\n",
       "      <th>대구</th>\n",
       "      <th>대전</th>\n",
       "      <th>부산</th>\n",
       "      <th>서울</th>\n",
       "      <th>세종</th>\n",
       "      <th>울산</th>\n",
       "      <th>인천</th>\n",
       "      <th>전남</th>\n",
       "      <th>전북</th>\n",
       "      <th>제주</th>\n",
       "      <th>충남</th>\n",
       "      <th>충북</th>\n",
       "    </tr>\n",
       "    <tr>\n",
       "      <th>연도</th>\n",
       "      <th></th>\n",
       "      <th></th>\n",
       "      <th></th>\n",
       "      <th></th>\n",
       "      <th></th>\n",
       "      <th></th>\n",
       "      <th></th>\n",
       "      <th></th>\n",
       "      <th></th>\n",
       "      <th></th>\n",
       "      <th></th>\n",
       "      <th></th>\n",
       "      <th></th>\n",
       "      <th></th>\n",
       "      <th></th>\n",
       "      <th></th>\n",
       "      <th></th>\n",
       "    </tr>\n",
       "  </thead>\n",
       "  <tbody>\n",
       "    <tr>\n",
       "      <th>2013</th>\n",
       "      <td>6230.000000</td>\n",
       "      <td>10855.000000</td>\n",
       "      <td>6473.000000</td>\n",
       "      <td>6168.000000</td>\n",
       "      <td>6098.000000</td>\n",
       "      <td>8080.000000</td>\n",
       "      <td>8321.000000</td>\n",
       "      <td>8111.000000</td>\n",
       "      <td>18189.000000</td>\n",
       "      <td>7601.000000</td>\n",
       "      <td>8090.000000</td>\n",
       "      <td>10204.000000</td>\n",
       "      <td>5678.000000</td>\n",
       "      <td>6282.000000</td>\n",
       "      <td>7674.000000</td>\n",
       "      <td>6365.000000</td>\n",
       "      <td>6589.000000</td>\n",
       "    </tr>\n",
       "    <tr>\n",
       "      <th>2014</th>\n",
       "      <td>6332.500000</td>\n",
       "      <td>10509.083333</td>\n",
       "      <td>6728.750000</td>\n",
       "      <td>6536.500000</td>\n",
       "      <td>7587.833333</td>\n",
       "      <td>8286.083333</td>\n",
       "      <td>8240.333333</td>\n",
       "      <td>9180.166667</td>\n",
       "      <td>18997.250000</td>\n",
       "      <td>8085.333333</td>\n",
       "      <td>8361.666667</td>\n",
       "      <td>10074.833333</td>\n",
       "      <td>5718.916667</td>\n",
       "      <td>6362.333333</td>\n",
       "      <td>7855.166667</td>\n",
       "      <td>6681.583333</td>\n",
       "      <td>6620.000000</td>\n",
       "    </tr>\n",
       "    <tr>\n",
       "      <th>2015</th>\n",
       "      <td>6831.154545</td>\n",
       "      <td>10489.109091</td>\n",
       "      <td>7646.163636</td>\n",
       "      <td>7035.063636</td>\n",
       "      <td>7956.090909</td>\n",
       "      <td>8706.718182</td>\n",
       "      <td>8104.509091</td>\n",
       "      <td>9633.272727</td>\n",
       "      <td>19282.600000</td>\n",
       "      <td>8641.227273</td>\n",
       "      <td>9273.336364</td>\n",
       "      <td>10276.845455</td>\n",
       "      <td>6109.263636</td>\n",
       "      <td>6623.290909</td>\n",
       "      <td>7465.327273</td>\n",
       "      <td>7024.490909</td>\n",
       "      <td>6699.572727</td>\n",
       "    </tr>\n",
       "    <tr>\n",
       "      <th>2016</th>\n",
       "      <td>7011.125000</td>\n",
       "      <td>11220.000000</td>\n",
       "      <td>7847.950000</td>\n",
       "      <td>7360.650000</td>\n",
       "      <td>8898.725000</td>\n",
       "      <td>10310.025000</td>\n",
       "      <td>8501.625000</td>\n",
       "      <td>10429.925000</td>\n",
       "      <td>20663.500000</td>\n",
       "      <td>8860.500000</td>\n",
       "      <td>10208.550000</td>\n",
       "      <td>10532.500000</td>\n",
       "      <td>6488.625000</td>\n",
       "      <td>6417.950000</td>\n",
       "      <td>9129.175000</td>\n",
       "      <td>7330.675000</td>\n",
       "      <td>6770.225000</td>\n",
       "    </tr>\n",
       "    <tr>\n",
       "      <th>2017</th>\n",
       "      <td>7170.625000</td>\n",
       "      <td>11840.675000</td>\n",
       "      <td>8163.925000</td>\n",
       "      <td>7802.575000</td>\n",
       "      <td>9471.000000</td>\n",
       "      <td>11507.100000</td>\n",
       "      <td>9056.025000</td>\n",
       "      <td>11663.575000</td>\n",
       "      <td>21425.250000</td>\n",
       "      <td>9133.025000</td>\n",
       "      <td>11327.525000</td>\n",
       "      <td>10749.475000</td>\n",
       "      <td>7245.700000</td>\n",
       "      <td>7074.650000</td>\n",
       "      <td>10907.325000</td>\n",
       "      <td>7455.800000</td>\n",
       "      <td>6770.225000</td>\n",
       "    </tr>\n",
       "    <tr>\n",
       "      <th>2018</th>\n",
       "      <td>7680.750000</td>\n",
       "      <td>13185.975000</td>\n",
       "      <td>9019.450000</td>\n",
       "      <td>8505.200000</td>\n",
       "      <td>9855.725000</td>\n",
       "      <td>12075.800000</td>\n",
       "      <td>10180.225000</td>\n",
       "      <td>12997.875000</td>\n",
       "      <td>22889.350000</td>\n",
       "      <td>10354.850000</td>\n",
       "      <td>10241.400000</td>\n",
       "      <td>11273.900000</td>\n",
       "      <td>7789.100000</td>\n",
       "      <td>7625.750000</td>\n",
       "      <td>11890.725000</td>\n",
       "      <td>8012.675000</td>\n",
       "      <td>7874.075000</td>\n",
       "    </tr>\n",
       "    <tr>\n",
       "      <th>2019</th>\n",
       "      <td>8141.650000</td>\n",
       "      <td>14468.850000</td>\n",
       "      <td>9870.850000</td>\n",
       "      <td>8856.650000</td>\n",
       "      <td>11822.800000</td>\n",
       "      <td>13852.025000</td>\n",
       "      <td>11777.700000</td>\n",
       "      <td>13116.400000</td>\n",
       "      <td>26131.050000</td>\n",
       "      <td>11078.925000</td>\n",
       "      <td>10022.100000</td>\n",
       "      <td>12634.875000</td>\n",
       "      <td>7902.400000</td>\n",
       "      <td>8196.650000</td>\n",
       "      <td>12137.950000</td>\n",
       "      <td>8606.950000</td>\n",
       "      <td>7574.600000</td>\n",
       "    </tr>\n",
       "    <tr>\n",
       "      <th>2020</th>\n",
       "      <td>9331.300000</td>\n",
       "      <td>14383.325000</td>\n",
       "      <td>10160.700000</td>\n",
       "      <td>9544.975000</td>\n",
       "      <td>12500.125000</td>\n",
       "      <td>15145.075000</td>\n",
       "      <td>11094.050000</td>\n",
       "      <td>13247.575000</td>\n",
       "      <td>26910.125000</td>\n",
       "      <td>11355.300000</td>\n",
       "      <td>12202.850000</td>\n",
       "      <td>14674.000000</td>\n",
       "      <td>8696.875000</td>\n",
       "      <td>8317.100000</td>\n",
       "      <td>14540.900000</td>\n",
       "      <td>8856.100000</td>\n",
       "      <td>7959.600000</td>\n",
       "    </tr>\n",
       "    <tr>\n",
       "      <th>2021</th>\n",
       "      <td>9651.766667</td>\n",
       "      <td>14093.933333</td>\n",
       "      <td>10386.566667</td>\n",
       "      <td>10261.533333</td>\n",
       "      <td>13937.733333</td>\n",
       "      <td>15487.266667</td>\n",
       "      <td>11761.200000</td>\n",
       "      <td>14352.066667</td>\n",
       "      <td>29301.433333</td>\n",
       "      <td>12540.000000</td>\n",
       "      <td>14272.500000</td>\n",
       "      <td>15103.733333</td>\n",
       "      <td>9966.366667</td>\n",
       "      <td>8784.600000</td>\n",
       "      <td>23790.800000</td>\n",
       "      <td>9264.566667</td>\n",
       "      <td>8634.633333</td>\n",
       "    </tr>\n",
       "  </tbody>\n",
       "</table>\n",
       "</div>"
      ],
      "text/plain": [
       "지역명            강원            경기            경남            경북            광주  \\\n",
       "연도                                                                          \n",
       "2013  6230.000000  10855.000000   6473.000000   6168.000000   6098.000000   \n",
       "2014  6332.500000  10509.083333   6728.750000   6536.500000   7587.833333   \n",
       "2015  6831.154545  10489.109091   7646.163636   7035.063636   7956.090909   \n",
       "2016  7011.125000  11220.000000   7847.950000   7360.650000   8898.725000   \n",
       "2017  7170.625000  11840.675000   8163.925000   7802.575000   9471.000000   \n",
       "2018  7680.750000  13185.975000   9019.450000   8505.200000   9855.725000   \n",
       "2019  8141.650000  14468.850000   9870.850000   8856.650000  11822.800000   \n",
       "2020  9331.300000  14383.325000  10160.700000   9544.975000  12500.125000   \n",
       "2021  9651.766667  14093.933333  10386.566667  10261.533333  13937.733333   \n",
       "\n",
       "지역명             대구            대전            부산            서울            세종  \\\n",
       "연도                                                                           \n",
       "2013   8080.000000   8321.000000   8111.000000  18189.000000   7601.000000   \n",
       "2014   8286.083333   8240.333333   9180.166667  18997.250000   8085.333333   \n",
       "2015   8706.718182   8104.509091   9633.272727  19282.600000   8641.227273   \n",
       "2016  10310.025000   8501.625000  10429.925000  20663.500000   8860.500000   \n",
       "2017  11507.100000   9056.025000  11663.575000  21425.250000   9133.025000   \n",
       "2018  12075.800000  10180.225000  12997.875000  22889.350000  10354.850000   \n",
       "2019  13852.025000  11777.700000  13116.400000  26131.050000  11078.925000   \n",
       "2020  15145.075000  11094.050000  13247.575000  26910.125000  11355.300000   \n",
       "2021  15487.266667  11761.200000  14352.066667  29301.433333  12540.000000   \n",
       "\n",
       "지역명             울산            인천           전남           전북            제주  \\\n",
       "연도                                                                         \n",
       "2013   8090.000000  10204.000000  5678.000000  6282.000000   7674.000000   \n",
       "2014   8361.666667  10074.833333  5718.916667  6362.333333   7855.166667   \n",
       "2015   9273.336364  10276.845455  6109.263636  6623.290909   7465.327273   \n",
       "2016  10208.550000  10532.500000  6488.625000  6417.950000   9129.175000   \n",
       "2017  11327.525000  10749.475000  7245.700000  7074.650000  10907.325000   \n",
       "2018  10241.400000  11273.900000  7789.100000  7625.750000  11890.725000   \n",
       "2019  10022.100000  12634.875000  7902.400000  8196.650000  12137.950000   \n",
       "2020  12202.850000  14674.000000  8696.875000  8317.100000  14540.900000   \n",
       "2021  14272.500000  15103.733333  9966.366667  8784.600000  23790.800000   \n",
       "\n",
       "지역명            충남           충북  \n",
       "연도                              \n",
       "2013  6365.000000  6589.000000  \n",
       "2014  6681.583333  6620.000000  \n",
       "2015  7024.490909  6699.572727  \n",
       "2016  7330.675000  6770.225000  \n",
       "2017  7455.800000  6770.225000  \n",
       "2018  8012.675000  7874.075000  \n",
       "2019  8606.950000  7574.600000  \n",
       "2020  8856.100000  7959.600000  \n",
       "2021  9264.566667  8634.633333  "
      ]
     },
     "execution_count": 187,
     "metadata": {},
     "output_type": "execute_result"
    }
   ],
   "source": [
    "# 연도, 지역명으로 평당분양가격의 평균을 구합니다.\n",
    "\n",
    "year_local = df.groupby(by=[\"연도\", \"지역명\"])[\"평당분양가격\"].mean().unstack()\n",
    "year_local"
   ]
  },
  {
   "cell_type": "code",
   "execution_count": 189,
   "metadata": {},
   "outputs": [
    {
     "data": {
      "text/plain": [
       "<AxesSubplot:xlabel='연도'>"
      ]
     },
     "execution_count": 189,
     "metadata": {},
     "output_type": "execute_result"
    },
    {
     "data": {
      "image/png": "[encoded data removed]",
      "text/plain": [
       "<Figure size 432x288 with 1 Axes>"
      ]
     },
     "metadata": {
      "needs_background": "light"
     },
     "output_type": "display_data"
    }
   ],
   "source": [
    "year_local[[\"서울\", \"부산\", \"제주\"]].plot.bar()"
   ]
  },
  {
   "cell_type": "markdown",
   "metadata": {},
   "source": [
    "## pivot table 로 데이터 집계하기\n",
    "* groupby 로 했던 작업을 pivot_table로 똑같이 해봅니다.\n",
    "* https://pandas.pydata.org/docs/user_guide/reshaping.html#reshaping-and-pivot-tables"
   ]
  },
  {
   "cell_type": "code",
   "execution_count": 191,
   "metadata": {},
   "outputs": [
    {
     "data": {
      "text/html": [
       "<div>\n",
       "<style scoped>\n",
       "    .dataframe tbody tr th:only-of-type {\n",
       "        vertical-align: middle;\n",
       "    }\n",
       "\n",
       "    .dataframe tbody tr th {\n",
       "        vertical-align: top;\n",
       "    }\n",
       "\n",
       "    .dataframe thead th {\n",
       "        text-align: right;\n",
       "    }\n",
       "</style>\n",
       "<table border=\"1\" class=\"dataframe\">\n",
       "  <thead>\n",
       "    <tr style=\"text-align: right;\">\n",
       "      <th></th>\n",
       "      <th>평당분양가격</th>\n",
       "    </tr>\n",
       "    <tr>\n",
       "      <th>지역명</th>\n",
       "      <th></th>\n",
       "    </tr>\n",
       "  </thead>\n",
       "  <tbody>\n",
       "    <tr>\n",
       "      <th>강원</th>\n",
       "      <td>7701.655914</td>\n",
       "    </tr>\n",
       "    <tr>\n",
       "      <th>경기</th>\n",
       "      <td>12477.155914</td>\n",
       "    </tr>\n",
       "    <tr>\n",
       "      <th>경남</th>\n",
       "      <td>8661.929032</td>\n",
       "    </tr>\n",
       "    <tr>\n",
       "      <th>경북</th>\n",
       "      <td>8163.291398</td>\n",
       "    </tr>\n",
       "    <tr>\n",
       "      <th>광주</th>\n",
       "      <td>10114.936559</td>\n",
       "    </tr>\n",
       "    <tr>\n",
       "      <th>대구</th>\n",
       "      <td>11799.490323</td>\n",
       "    </tr>\n",
       "    <tr>\n",
       "      <th>대전</th>\n",
       "      <td>9779.794624</td>\n",
       "    </tr>\n",
       "    <tr>\n",
       "      <th>부산</th>\n",
       "      <td>11729.804301</td>\n",
       "    </tr>\n",
       "    <tr>\n",
       "      <th>서울</th>\n",
       "      <td>22991.492473</td>\n",
       "    </tr>\n",
       "    <tr>\n",
       "      <th>세종</th>\n",
       "      <td>9813.768966</td>\n",
       "    </tr>\n",
       "    <tr>\n",
       "      <th>울산</th>\n",
       "      <td>10672.620238</td>\n",
       "    </tr>\n",
       "    <tr>\n",
       "      <th>인천</th>\n",
       "      <td>11811.375269</td>\n",
       "    </tr>\n",
       "    <tr>\n",
       "      <th>전남</th>\n",
       "      <td>7405.124731</td>\n",
       "    </tr>\n",
       "    <tr>\n",
       "      <th>전북</th>\n",
       "      <td>7377.772043</td>\n",
       "    </tr>\n",
       "    <tr>\n",
       "      <th>제주</th>\n",
       "      <td>11843.491398</td>\n",
       "    </tr>\n",
       "    <tr>\n",
       "      <th>충남</th>\n",
       "      <td>7853.127957</td>\n",
       "    </tr>\n",
       "    <tr>\n",
       "      <th>충북</th>\n",
       "      <td>7320.652688</td>\n",
       "    </tr>\n",
       "  </tbody>\n",
       "</table>\n",
       "</div>"
      ],
      "text/plain": [
       "           평당분양가격\n",
       "지역명              \n",
       "강원    7701.655914\n",
       "경기   12477.155914\n",
       "경남    8661.929032\n",
       "경북    8163.291398\n",
       "광주   10114.936559\n",
       "대구   11799.490323\n",
       "대전    9779.794624\n",
       "부산   11729.804301\n",
       "서울   22991.492473\n",
       "세종    9813.768966\n",
       "울산   10672.620238\n",
       "인천   11811.375269\n",
       "전남    7405.124731\n",
       "전북    7377.772043\n",
       "제주   11843.491398\n",
       "충남    7853.127957\n",
       "충북    7320.652688"
      ]
     },
     "execution_count": 191,
     "metadata": {},
     "output_type": "execute_result"
    }
   ],
   "source": [
    "# 지역명을 index 로 평당분양가격 을 values 로 구합니다.\n",
    "\n",
    "df.pivot_table(index=\"지역명\", values=\"평당분양가격\")"
   ]
  },
  {
   "cell_type": "code",
   "execution_count": null,
   "metadata": {},
   "outputs": [],
   "source": [
    "# 연도, 지역명으로 평당분양가격의 평균을 구합니다.\n",
    "# g = df.groupby([\"연도\", \"지역명\"])[\"평당분양가격\"].mean()"
   ]
  },
  {
   "cell_type": "code",
   "execution_count": 204,
   "metadata": {
    "colab": {},
    "colab_type": "code",
    "id": "fmMM40-5JZXG",
    "scrolled": true
   },
   "outputs": [
    {
     "data": {
      "text/html": [
       "<div>\n",
       "<style scoped>\n",
       "    .dataframe tbody tr th:only-of-type {\n",
       "        vertical-align: middle;\n",
       "    }\n",
       "\n",
       "    .dataframe tbody tr th {\n",
       "        vertical-align: top;\n",
       "    }\n",
       "\n",
       "    .dataframe thead th {\n",
       "        text-align: right;\n",
       "    }\n",
       "</style>\n",
       "<table border=\"1\" class=\"dataframe\">\n",
       "  <thead>\n",
       "    <tr style=\"text-align: right;\">\n",
       "      <th>지역명</th>\n",
       "      <th>강원</th>\n",
       "      <th>경기</th>\n",
       "      <th>경남</th>\n",
       "      <th>경북</th>\n",
       "      <th>광주</th>\n",
       "      <th>대구</th>\n",
       "      <th>대전</th>\n",
       "      <th>부산</th>\n",
       "      <th>서울</th>\n",
       "      <th>세종</th>\n",
       "      <th>울산</th>\n",
       "      <th>인천</th>\n",
       "      <th>전남</th>\n",
       "      <th>전북</th>\n",
       "      <th>제주</th>\n",
       "      <th>충남</th>\n",
       "      <th>충북</th>\n",
       "    </tr>\n",
       "    <tr>\n",
       "      <th>연도</th>\n",
       "      <th></th>\n",
       "      <th></th>\n",
       "      <th></th>\n",
       "      <th></th>\n",
       "      <th></th>\n",
       "      <th></th>\n",
       "      <th></th>\n",
       "      <th></th>\n",
       "      <th></th>\n",
       "      <th></th>\n",
       "      <th></th>\n",
       "      <th></th>\n",
       "      <th></th>\n",
       "      <th></th>\n",
       "      <th></th>\n",
       "      <th></th>\n",
       "      <th></th>\n",
       "    </tr>\n",
       "  </thead>\n",
       "  <tbody>\n",
       "    <tr>\n",
       "      <th>2013</th>\n",
       "      <td>6230.0</td>\n",
       "      <td>10855.0</td>\n",
       "      <td>6473.0</td>\n",
       "      <td>6168.0</td>\n",
       "      <td>6098.0</td>\n",
       "      <td>8080.0</td>\n",
       "      <td>8321.0</td>\n",
       "      <td>8111.0</td>\n",
       "      <td>18189.0</td>\n",
       "      <td>7601.0</td>\n",
       "      <td>8090.0</td>\n",
       "      <td>10204.0</td>\n",
       "      <td>5678.0</td>\n",
       "      <td>6282.0</td>\n",
       "      <td>7674.0</td>\n",
       "      <td>6365.0</td>\n",
       "      <td>6589.0</td>\n",
       "    </tr>\n",
       "    <tr>\n",
       "      <th>2014</th>\n",
       "      <td>6332.0</td>\n",
       "      <td>10509.0</td>\n",
       "      <td>6729.0</td>\n",
       "      <td>6536.0</td>\n",
       "      <td>7588.0</td>\n",
       "      <td>8286.0</td>\n",
       "      <td>8240.0</td>\n",
       "      <td>9180.0</td>\n",
       "      <td>18997.0</td>\n",
       "      <td>8085.0</td>\n",
       "      <td>8362.0</td>\n",
       "      <td>10075.0</td>\n",
       "      <td>5719.0</td>\n",
       "      <td>6362.0</td>\n",
       "      <td>7855.0</td>\n",
       "      <td>6682.0</td>\n",
       "      <td>6620.0</td>\n",
       "    </tr>\n",
       "    <tr>\n",
       "      <th>2015</th>\n",
       "      <td>6831.0</td>\n",
       "      <td>10489.0</td>\n",
       "      <td>7646.0</td>\n",
       "      <td>7035.0</td>\n",
       "      <td>7956.0</td>\n",
       "      <td>8707.0</td>\n",
       "      <td>8105.0</td>\n",
       "      <td>9633.0</td>\n",
       "      <td>19283.0</td>\n",
       "      <td>8641.0</td>\n",
       "      <td>9273.0</td>\n",
       "      <td>10277.0</td>\n",
       "      <td>6109.0</td>\n",
       "      <td>6623.0</td>\n",
       "      <td>7465.0</td>\n",
       "      <td>7024.0</td>\n",
       "      <td>6700.0</td>\n",
       "    </tr>\n",
       "    <tr>\n",
       "      <th>2016</th>\n",
       "      <td>7011.0</td>\n",
       "      <td>11220.0</td>\n",
       "      <td>7848.0</td>\n",
       "      <td>7361.0</td>\n",
       "      <td>8899.0</td>\n",
       "      <td>10310.0</td>\n",
       "      <td>8502.0</td>\n",
       "      <td>10430.0</td>\n",
       "      <td>20663.0</td>\n",
       "      <td>8860.0</td>\n",
       "      <td>10209.0</td>\n",
       "      <td>10532.0</td>\n",
       "      <td>6489.0</td>\n",
       "      <td>6418.0</td>\n",
       "      <td>9129.0</td>\n",
       "      <td>7331.0</td>\n",
       "      <td>6770.0</td>\n",
       "    </tr>\n",
       "    <tr>\n",
       "      <th>2017</th>\n",
       "      <td>7171.0</td>\n",
       "      <td>11841.0</td>\n",
       "      <td>8164.0</td>\n",
       "      <td>7803.0</td>\n",
       "      <td>9471.0</td>\n",
       "      <td>11507.0</td>\n",
       "      <td>9056.0</td>\n",
       "      <td>11664.0</td>\n",
       "      <td>21425.0</td>\n",
       "      <td>9133.0</td>\n",
       "      <td>11328.0</td>\n",
       "      <td>10749.0</td>\n",
       "      <td>7246.0</td>\n",
       "      <td>7075.0</td>\n",
       "      <td>10907.0</td>\n",
       "      <td>7456.0</td>\n",
       "      <td>6770.0</td>\n",
       "    </tr>\n",
       "    <tr>\n",
       "      <th>2018</th>\n",
       "      <td>7681.0</td>\n",
       "      <td>13186.0</td>\n",
       "      <td>9019.0</td>\n",
       "      <td>8505.0</td>\n",
       "      <td>9856.0</td>\n",
       "      <td>12076.0</td>\n",
       "      <td>10180.0</td>\n",
       "      <td>12998.0</td>\n",
       "      <td>22889.0</td>\n",
       "      <td>10355.0</td>\n",
       "      <td>10241.0</td>\n",
       "      <td>11274.0</td>\n",
       "      <td>7789.0</td>\n",
       "      <td>7626.0</td>\n",
       "      <td>11891.0</td>\n",
       "      <td>8013.0</td>\n",
       "      <td>7874.0</td>\n",
       "    </tr>\n",
       "    <tr>\n",
       "      <th>2019</th>\n",
       "      <td>8142.0</td>\n",
       "      <td>14469.0</td>\n",
       "      <td>9871.0</td>\n",
       "      <td>8857.0</td>\n",
       "      <td>11823.0</td>\n",
       "      <td>13852.0</td>\n",
       "      <td>11778.0</td>\n",
       "      <td>13116.0</td>\n",
       "      <td>26131.0</td>\n",
       "      <td>11079.0</td>\n",
       "      <td>10022.0</td>\n",
       "      <td>12635.0</td>\n",
       "      <td>7902.0</td>\n",
       "      <td>8197.0</td>\n",
       "      <td>12138.0</td>\n",
       "      <td>8607.0</td>\n",
       "      <td>7575.0</td>\n",
       "    </tr>\n",
       "    <tr>\n",
       "      <th>2020</th>\n",
       "      <td>9331.0</td>\n",
       "      <td>14383.0</td>\n",
       "      <td>10161.0</td>\n",
       "      <td>9545.0</td>\n",
       "      <td>12500.0</td>\n",
       "      <td>15145.0</td>\n",
       "      <td>11094.0</td>\n",
       "      <td>13248.0</td>\n",
       "      <td>26910.0</td>\n",
       "      <td>11355.0</td>\n",
       "      <td>12203.0</td>\n",
       "      <td>14674.0</td>\n",
       "      <td>8697.0</td>\n",
       "      <td>8317.0</td>\n",
       "      <td>14541.0</td>\n",
       "      <td>8856.0</td>\n",
       "      <td>7960.0</td>\n",
       "    </tr>\n",
       "    <tr>\n",
       "      <th>2021</th>\n",
       "      <td>9652.0</td>\n",
       "      <td>14094.0</td>\n",
       "      <td>10387.0</td>\n",
       "      <td>10262.0</td>\n",
       "      <td>13938.0</td>\n",
       "      <td>15487.0</td>\n",
       "      <td>11761.0</td>\n",
       "      <td>14352.0</td>\n",
       "      <td>29301.0</td>\n",
       "      <td>12540.0</td>\n",
       "      <td>14272.0</td>\n",
       "      <td>15104.0</td>\n",
       "      <td>9966.0</td>\n",
       "      <td>8785.0</td>\n",
       "      <td>23791.0</td>\n",
       "      <td>9265.0</td>\n",
       "      <td>8635.0</td>\n",
       "    </tr>\n",
       "  </tbody>\n",
       "</table>\n",
       "</div>"
      ],
      "text/plain": [
       "지역명       강원       경기       경남       경북       광주       대구       대전       부산  \\\n",
       "연도                                                                            \n",
       "2013  6230.0  10855.0   6473.0   6168.0   6098.0   8080.0   8321.0   8111.0   \n",
       "2014  6332.0  10509.0   6729.0   6536.0   7588.0   8286.0   8240.0   9180.0   \n",
       "2015  6831.0  10489.0   7646.0   7035.0   7956.0   8707.0   8105.0   9633.0   \n",
       "2016  7011.0  11220.0   7848.0   7361.0   8899.0  10310.0   8502.0  10430.0   \n",
       "2017  7171.0  11841.0   8164.0   7803.0   9471.0  11507.0   9056.0  11664.0   \n",
       "2018  7681.0  13186.0   9019.0   8505.0   9856.0  12076.0  10180.0  12998.0   \n",
       "2019  8142.0  14469.0   9871.0   8857.0  11823.0  13852.0  11778.0  13116.0   \n",
       "2020  9331.0  14383.0  10161.0   9545.0  12500.0  15145.0  11094.0  13248.0   \n",
       "2021  9652.0  14094.0  10387.0  10262.0  13938.0  15487.0  11761.0  14352.0   \n",
       "\n",
       "지역명        서울       세종       울산       인천      전남      전북       제주      충남  \\\n",
       "연도                                                                          \n",
       "2013  18189.0   7601.0   8090.0  10204.0  5678.0  6282.0   7674.0  6365.0   \n",
       "2014  18997.0   8085.0   8362.0  10075.0  5719.0  6362.0   7855.0  6682.0   \n",
       "2015  19283.0   8641.0   9273.0  10277.0  6109.0  6623.0   7465.0  7024.0   \n",
       "2016  20663.0   8860.0  10209.0  10532.0  6489.0  6418.0   9129.0  7331.0   \n",
       "2017  21425.0   9133.0  11328.0  10749.0  7246.0  7075.0  10907.0  7456.0   \n",
       "2018  22889.0  10355.0  10241.0  11274.0  7789.0  7626.0  11891.0  8013.0   \n",
       "2019  26131.0  11079.0  10022.0  12635.0  7902.0  8197.0  12138.0  8607.0   \n",
       "2020  26910.0  11355.0  12203.0  14674.0  8697.0  8317.0  14541.0  8856.0   \n",
       "2021  29301.0  12540.0  14272.0  15104.0  9966.0  8785.0  23791.0  9265.0   \n",
       "\n",
       "지역명       충북  \n",
       "연도            \n",
       "2013  6589.0  \n",
       "2014  6620.0  \n",
       "2015  6700.0  \n",
       "2016  6770.0  \n",
       "2017  6770.0  \n",
       "2018  7874.0  \n",
       "2019  7575.0  \n",
       "2020  7960.0  \n",
       "2021  8635.0  "
      ]
     },
     "execution_count": 204,
     "metadata": {},
     "output_type": "execute_result"
    }
   ],
   "source": [
    "# 연도를 인덱스로, 지역명을 컬럼으로 평당분양가격을 피봇테이블로 그려봅니다.\n",
    "\n",
    "year_region = df.pivot_table(index=\"연도\", columns=\"지역명\", values=\"평당분양가격\")\n",
    "year_region.round(0)"
   ]
  },
  {
   "cell_type": "code",
   "execution_count": 201,
   "metadata": {
    "colab": {},
    "colab_type": "code",
    "id": "IcMINejpJZXH"
   },
   "outputs": [
    {
     "data": {
      "text/plain": [
       "<AxesSubplot:xlabel='지역명', ylabel='연도'>"
      ]
     },
     "execution_count": 201,
     "metadata": {},
     "output_type": "execute_result"
    },
    {
     "data": {
      "image/png": "[encoded data removed]",
      "text/plain": [
       "<Figure size 1080x432 with 2 Axes>"
      ]
     },
     "metadata": {
      "needs_background": "light"
     },
     "output_type": "display_data"
    }
   ],
   "source": [
    "# 위에서 그린 피봇테이블을 히트맵으로 표현해 봅니다.\n",
    "\n",
    "plt.figure(figsize=(15, 6))\n",
    "sns.heatmap(year_region, cmap=\"Blues\", annot=True, fmt=\",.0f\")"
   ]
  },
  {
   "cell_type": "code",
   "execution_count": 202,
   "metadata": {
    "colab": {},
    "colab_type": "code",
    "id": "fvSgNmt9JZXK"
   },
   "outputs": [
    {
     "data": {
      "text/plain": [
       "<AxesSubplot:xlabel='연도', ylabel='지역명'>"
      ]
     },
     "execution_count": 202,
     "metadata": {},
     "output_type": "execute_result"
    },
    {
     "data": {
      "image/png": "[encoded data removed]",
      "text/plain": [
       "<Figure size 1080x432 with 2 Axes>"
      ]
     },
     "metadata": {
      "needs_background": "light"
     },
     "output_type": "display_data"
    }
   ],
   "source": [
    "# transpose 를 사용하면 행과 열을 바꿔줄 수 있습니다.\n",
    "\n",
    "plt.figure(figsize=(15, 6))\n",
    "sns.heatmap(year_region.T, cmap=\"Blues\", annot=True, fmt=\",.0f\")"
   ]
  },
  {
   "cell_type": "code",
   "execution_count": null,
   "metadata": {
    "colab": {},
    "colab_type": "code",
    "id": "7e3AZk_iJZXM"
   },
   "outputs": [],
   "source": [
    "# 바뀐 행과 열을 히트맵으로 표현해 봅니다.\n",
    "\n"
   ]
  },
  {
   "cell_type": "markdown",
   "metadata": {
    "colab_type": "text",
    "id": "vVBBZGaZJZXO"
   },
   "source": [
    "## 2013년부터 최근 데이터까지 시각화하기\n",
    "### 연도별 평당분양가격 보기"
   ]
  },
  {
   "cell_type": "code",
   "execution_count": 206,
   "metadata": {
    "colab": {},
    "colab_type": "code",
    "id": "iv0eQZCHJZXP"
   },
   "outputs": [
    {
     "data": {
      "text/plain": [
       "<AxesSubplot:xlabel='연도', ylabel='평당분양가격'>"
      ]
     },
     "execution_count": 206,
     "metadata": {},
     "output_type": "execute_result"
    },
    {
     "data": {
      "image/png": "[encoded data removed]",
      "text/plain": [
       "<Figure size 432x288 with 1 Axes>"
      ]
     },
     "metadata": {
      "needs_background": "light"
     },
     "output_type": "display_data"
    }
   ],
   "source": [
    "# barplot 으로 연도별 평당분양가격 그리기\n",
    "sns.barplot(data=df, x=\"연도\", y=\"평당분양가격\", ci=None)"
   ]
  },
  {
   "cell_type": "code",
   "execution_count": 207,
   "metadata": {
    "colab": {},
    "colab_type": "code",
    "id": "2rK7oFJbJZXR"
   },
   "outputs": [
    {
     "data": {
      "text/plain": [
       "<AxesSubplot:xlabel='연도', ylabel='평당분양가격'>"
      ]
     },
     "execution_count": 207,
     "metadata": {},
     "output_type": "execute_result"
    },
    {
     "data": {
      "image/png": "[encoded data removed]",
      "text/plain": [
       "<Figure size 432x288 with 1 Axes>"
      ]
     },
     "metadata": {
      "needs_background": "light"
     },
     "output_type": "display_data"
    }
   ],
   "source": [
    "# pointplot 으로 연도별 평당분양가격 그리기\n",
    "\n",
    "sns.pointplot(data=df, x=\"연도\", y=\"평당분양가격\", ci=None)"
   ]
  },
  {
   "cell_type": "code",
   "execution_count": 210,
   "metadata": {},
   "outputs": [],
   "source": [
    "# sns.lineplot(data=df, x=\"연도\", y=\"평당분양가격\")"
   ]
  },
  {
   "cell_type": "code",
   "execution_count": 211,
   "metadata": {
    "colab": {},
    "colab_type": "code",
    "id": "gkQm5wr_JZXW"
   },
   "outputs": [
    {
     "data": {
      "text/plain": [
       "<AxesSubplot:xlabel='연도', ylabel='평당분양가격'>"
      ]
     },
     "execution_count": 211,
     "metadata": {},
     "output_type": "execute_result"
    },
    {
     "data": {
      "image/png": "[encoded data removed]",
      "text/plain": [
       "<Figure size 432x288 with 1 Axes>"
      ]
     },
     "metadata": {
      "needs_background": "light"
     },
     "output_type": "display_data"
    }
   ],
   "source": [
    "# 연도별 평당분양가격 boxplot 그리기\n",
    "\n",
    "sns.boxplot(data=df, x=\"연도\", y=\"평당분양가격\")"
   ]
  },
  {
   "cell_type": "code",
   "execution_count": 212,
   "metadata": {
    "colab": {},
    "colab_type": "code",
    "id": "6HFolwlNJZXX"
   },
   "outputs": [
    {
     "data": {
      "text/plain": [
       "<AxesSubplot:xlabel='연도', ylabel='평당분양가격'>"
      ]
     },
     "execution_count": 212,
     "metadata": {},
     "output_type": "execute_result"
    },
    {
     "data": {
      "image/png": "[encoded data removed]",
      "text/plain": [
       "<Figure size 432x288 with 1 Axes>"
      ]
     },
     "metadata": {
      "needs_background": "light"
     },
     "output_type": "display_data"
    }
   ],
   "source": [
    "# 연도별 평당분양가격 violinplot 그리기\n",
    "\n",
    "sns.violinplot(data=df, x=\"연도\", y=\"평당분양가격\")"
   ]
  },
  {
   "cell_type": "code",
   "execution_count": 215,
   "metadata": {
    "colab": {},
    "colab_type": "code",
    "id": "uyY0TQlDJZXb"
   },
   "outputs": [
    {
     "data": {
      "text/plain": [
       "<AxesSubplot:xlabel='연도', ylabel='평당분양가격'>"
      ]
     },
     "execution_count": 215,
     "metadata": {},
     "output_type": "execute_result"
    },
    {
     "data": {
      "image/png": "[encoded data removed]",
      "text/plain": [
       "<Figure size 864x288 with 1 Axes>"
      ]
     },
     "metadata": {
      "needs_background": "light"
     },
     "output_type": "display_data"
    }
   ],
   "source": [
    "# 연도별 평당분양가격 swarmplot 그리기\n",
    "plt.figure(figsize=(12, 4))\n",
    "sns.swarmplot(data=df, x=\"연도\", y=\"평당분양가격\", size=2)"
   ]
  },
  {
   "cell_type": "markdown",
   "metadata": {
    "colab_type": "text",
    "id": "HfEF2oEBJZXe"
   },
   "source": [
    "### 지역별 평당분양가격 보기"
   ]
  },
  {
   "cell_type": "code",
   "execution_count": 218,
   "metadata": {
    "colab": {},
    "colab_type": "code",
    "id": "ChZzsxFyJZXe"
   },
   "outputs": [
    {
     "data": {
      "text/plain": [
       "<AxesSubplot:xlabel='지역명', ylabel='평당분양가격'>"
      ]
     },
     "execution_count": 218,
     "metadata": {},
     "output_type": "execute_result"
    },
    {
     "data": {
      "image/png": "[encoded data removed]",
      "text/plain": [
       "<Figure size 864x288 with 1 Axes>"
      ]
     },
     "metadata": {
      "needs_background": "light"
     },
     "output_type": "display_data"
    }
   ],
   "source": [
    "# barplot 으로 지역별 평당분양가격을 그려봅니다.\n",
    "plt.figure(figsize=(12, 4))\n",
    "sns.barplot(data=df, x=\"지역명\", y=\"평당분양가격\", ci=None)"
   ]
  },
  {
   "cell_type": "code",
   "execution_count": 220,
   "metadata": {
    "colab": {},
    "colab_type": "code",
    "id": "CbwY3fWHJZXh"
   },
   "outputs": [
    {
     "data": {
      "text/plain": [
       "<AxesSubplot:xlabel='지역명', ylabel='평당분양가격'>"
      ]
     },
     "execution_count": 220,
     "metadata": {},
     "output_type": "execute_result"
    },
    {
     "data": {
      "image/png": "[encoded data removed]",
      "text/plain": [
       "<Figure size 864x288 with 1 Axes>"
      ]
     },
     "metadata": {
      "needs_background": "light"
     },
     "output_type": "display_data"
    }
   ],
   "source": [
    "# boxplot 으로 지역별 평당분양가격을 그려봅니다.\n",
    "\n",
    "plt.figure(figsize=(12, 4))\n",
    "sns.boxplot(data=df, x=\"지역명\", y=\"평당분양가격\")"
   ]
  },
  {
   "cell_type": "code",
   "execution_count": 221,
   "metadata": {
    "colab": {},
    "colab_type": "code",
    "id": "e_bpkMzXJZXi"
   },
   "outputs": [
    {
     "data": {
      "text/plain": [
       "<AxesSubplot:xlabel='지역명', ylabel='평당분양가격'>"
      ]
     },
     "execution_count": 221,
     "metadata": {},
     "output_type": "execute_result"
    },
    {
     "data": {
      "image/png": "[encoded data removed]",
      "text/plain": [
       "<Figure size 864x288 with 1 Axes>"
      ]
     },
     "metadata": {
      "needs_background": "light"
     },
     "output_type": "display_data"
    }
   ],
   "source": [
    "# violinplot 으로 지역별 평당분양가격을 그려봅니다.\n",
    "plt.figure(figsize=(12, 4))\n",
    "sns.violinplot(data=df, x=\"지역명\", y=\"평당분양가격\")"
   ]
  },
  {
   "cell_type": "code",
   "execution_count": 224,
   "metadata": {
    "colab": {},
    "colab_type": "code",
    "id": "ie5-t4I8JZXj"
   },
   "outputs": [
    {
     "data": {
      "text/plain": [
       "<AxesSubplot:xlabel='지역명', ylabel='평당분양가격'>"
      ]
     },
     "execution_count": 224,
     "metadata": {},
     "output_type": "execute_result"
    },
    {
     "data": {
      "image/png": "[encoded data removed]",
      "text/plain": [
       "<Figure size 864x288 with 1 Axes>"
      ]
     },
     "metadata": {
      "needs_background": "light"
     },
     "output_type": "display_data"
    }
   ],
   "source": [
    "# swarmplot 으로 지역별 평당분양가격을 그려봅니다.\n",
    "\n",
    "plt.figure(figsize=(12, 4))\n",
    "sns.swarmplot(data=df, x=\"지역명\", y=\"평당분양가격\", size=1)"
   ]
  },
  {
   "cell_type": "code",
   "execution_count": null,
   "metadata": {},
   "outputs": [],
   "source": []
  },
  {
   "cell_type": "code",
   "execution_count": null,
   "metadata": {},
   "outputs": [],
   "source": []
  },
  {
   "cell_type": "code",
   "execution_count": null,
   "metadata": {},
   "outputs": [],
   "source": []
  },
  {
   "cell_type": "code",
   "execution_count": null,
   "metadata": {},
   "outputs": [],
   "source": []
  }
 ],
 "metadata": {
  "colab": {
   "collapsed_sections": [
    "9PNqs0q4JZU_",
    "kdeItDwvJZVE",
    "O0PFKeVrJZVG",
    "AReZC_8JJZVO",
    "y6kOVY3CJZVQ",
    "qhS9AqdkJZVT",
    "R5QxvdFJJZVc",
    "D6DhLjbeJZVq",
    "3FVFKFZyJZWF",
    "L-lOJGCAJZWK",
    "B1Y4qFSKJZWa",
    "Fnc_Oj1zJZWo",
    "1D9an7yBJZW-",
    "pbwSpueSJZXF",
    "vVBBZGaZJZXO",
    "HfEF2oEBJZXe"
   ],
   "name": "01-apt-price.ipynb",
   "provenance": []
  },
  "kernelspec": {
   "display_name": "Python 3 (ipykernel)",
   "language": "python",
   "name": "python3"
  },
  "language_info": {
   "codemirror_mode": {
    "name": "ipython",
    "version": 3
   },
   "file_extension": ".py",
   "mimetype": "text/x-python",
   "name": "python",
   "nbconvert_exporter": "python",
   "pygments_lexer": "ipython3",
   "version": "3.9.7"
  },
  "toc": {
   "base_numbering": 1,
   "nav_menu": {},
   "number_sections": true,
   "sideBar": true,
   "skip_h1_title": false,
   "title_cell": "Table of Contents",
   "title_sidebar": "Contents",
   "toc_cell": false,
   "toc_position": {
    "height": "calc(100% - 180px)",
    "left": "10px",
    "top": "150px",
    "width": "204.8px"
   },
   "toc_section_display": true,
   "toc_window_display": false
  },
  "varInspector": {
   "cols": {
    "lenName": 16,
    "lenType": 16,
    "lenVar": 40
   },
   "kernels_config": {
    "python": {
     "delete_cmd_postfix": "",
     "delete_cmd_prefix": "del ",
     "library": "var_list.py",
     "varRefreshCmd": "print(var_dic_list())"
    },
    "r": {
     "delete_cmd_postfix": ") ",
     "delete_cmd_prefix": "rm(",
     "library": "var_list.r",
     "varRefreshCmd": "cat(var_dic_list()) "
    }
   },
   "types_to_exclude": [
    "module",
    "function",
    "builtin_function_or_method",
    "instance",
    "_Feature"
   ],
   "window_display": false
  }
 },
 "nbformat": 4,
 "nbformat_minor": 1
}
