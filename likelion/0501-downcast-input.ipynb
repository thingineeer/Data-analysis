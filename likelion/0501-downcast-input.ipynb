{
 "cells": [
  {
   "cell_type": "markdown",
   "id": "609cf914",
   "metadata": {},
   "source": [
    "## downcast\n",
    "* 메모리 부담 줄이기"
   ]
  },
  {
   "cell_type": "code",
   "execution_count": 1,
   "id": "3be266da",
   "metadata": {
    "ExecuteTime": {
     "end_time": "2022-06-07T14:07:08.223835Z",
     "start_time": "2022-06-07T14:07:02.141749Z"
    }
   },
   "outputs": [],
   "source": [
    "# pandas 를 불러옵니다.\n",
    "import pandas as pd\n"
   ]
  },
  {
   "cell_type": "code",
   "execution_count": 2,
   "id": "0faf209a",
   "metadata": {
    "ExecuteTime": {
     "end_time": "2022-06-07T14:07:08.269686Z",
     "start_time": "2022-06-07T14:07:08.230576Z"
    }
   },
   "outputs": [
    {
     "data": {
      "text/plain": [
       "['data\\\\bike_station.csv',\n",
       " 'data\\\\HP_T60_2020_1.CSV',\n",
       " 'data\\\\HP_T60_2020_2.CSV',\n",
       " 'data\\\\HP_T60_2020_3.CSV',\n",
       " 'data\\\\kosis-cancer-raw.csv',\n",
       " 'data\\\\nhis_drug_sample_2020_3.csv',\n",
       " 'data\\\\seoul-bike-2021',\n",
       " 'data\\\\seoul-covid19-2021-12-18.csv',\n",
       " 'data\\\\seoul-covid19-2021-12-26.csv',\n",
       " 'data\\\\전국 평균 분양가격(2013년 9월부터 2015년 8월까지).csv',\n",
       " 'data\\\\주택도시보증공사_전국 신규 민간아파트 분양가격 동향_20210930.csv']"
      ]
     },
     "execution_count": 2,
     "metadata": {},
     "output_type": "execute_result"
    }
   ],
   "source": [
    "import glob\n",
    "glob.glob('data/*')"
   ]
  },
  {
   "cell_type": "code",
   "execution_count": 3,
   "id": "bd44d53e",
   "metadata": {
    "ExecuteTime": {
     "end_time": "2022-06-07T14:07:09.316836Z",
     "start_time": "2022-06-07T14:07:08.275458Z"
    }
   },
   "outputs": [
    {
     "data": {
      "text/html": [
       "<div>\n",
       "<style scoped>\n",
       "    .dataframe tbody tr th:only-of-type {\n",
       "        vertical-align: middle;\n",
       "    }\n",
       "\n",
       "    .dataframe tbody tr th {\n",
       "        vertical-align: top;\n",
       "    }\n",
       "\n",
       "    .dataframe thead th {\n",
       "        text-align: right;\n",
       "    }\n",
       "</style>\n",
       "<table border=\"1\" class=\"dataframe\">\n",
       "  <thead>\n",
       "    <tr style=\"text-align: right;\">\n",
       "      <th></th>\n",
       "      <th>기준년도</th>\n",
       "      <th>가입자 일련번호</th>\n",
       "      <th>처방내역일련번호</th>\n",
       "      <th>일련번호</th>\n",
       "      <th>성별코드</th>\n",
       "      <th>연령대코드(5세단위)</th>\n",
       "      <th>시도코드</th>\n",
       "      <th>요양개시일자</th>\n",
       "      <th>약품일반성분명코드</th>\n",
       "      <th>1회 투약량</th>\n",
       "      <th>1일투약량</th>\n",
       "      <th>총투여일수</th>\n",
       "      <th>단가</th>\n",
       "      <th>금액</th>\n",
       "      <th>데이터 공개일자</th>\n",
       "    </tr>\n",
       "  </thead>\n",
       "  <tbody>\n",
       "    <tr>\n",
       "      <th>0</th>\n",
       "      <td>2020</td>\n",
       "      <td>666699</td>\n",
       "      <td>1188743</td>\n",
       "      <td>2</td>\n",
       "      <td>2</td>\n",
       "      <td>11</td>\n",
       "      <td>48</td>\n",
       "      <td>2020-08-31</td>\n",
       "      <td>109931ALQ</td>\n",
       "      <td>1.0</td>\n",
       "      <td>2</td>\n",
       "      <td>30</td>\n",
       "      <td>220.0</td>\n",
       "      <td>13200</td>\n",
       "      <td>2021-12-29</td>\n",
       "    </tr>\n",
       "    <tr>\n",
       "      <th>1</th>\n",
       "      <td>2020</td>\n",
       "      <td>666699</td>\n",
       "      <td>1188743</td>\n",
       "      <td>5</td>\n",
       "      <td>2</td>\n",
       "      <td>11</td>\n",
       "      <td>48</td>\n",
       "      <td>2020-08-31</td>\n",
       "      <td>146602ACH</td>\n",
       "      <td>1.0</td>\n",
       "      <td>2</td>\n",
       "      <td>30</td>\n",
       "      <td>184.0</td>\n",
       "      <td>11040</td>\n",
       "      <td>2021-12-29</td>\n",
       "    </tr>\n",
       "    <tr>\n",
       "      <th>2</th>\n",
       "      <td>2020</td>\n",
       "      <td>666699</td>\n",
       "      <td>1188743</td>\n",
       "      <td>3</td>\n",
       "      <td>2</td>\n",
       "      <td>11</td>\n",
       "      <td>48</td>\n",
       "      <td>2020-08-31</td>\n",
       "      <td>367202ATB</td>\n",
       "      <td>1.0</td>\n",
       "      <td>1</td>\n",
       "      <td>30</td>\n",
       "      <td>1078.0</td>\n",
       "      <td>32340</td>\n",
       "      <td>2021-12-29</td>\n",
       "    </tr>\n",
       "    <tr>\n",
       "      <th>3</th>\n",
       "      <td>2020</td>\n",
       "      <td>666699</td>\n",
       "      <td>1188743</td>\n",
       "      <td>1</td>\n",
       "      <td>2</td>\n",
       "      <td>11</td>\n",
       "      <td>48</td>\n",
       "      <td>2020-08-31</td>\n",
       "      <td>222901ATB</td>\n",
       "      <td>1.0</td>\n",
       "      <td>2</td>\n",
       "      <td>30</td>\n",
       "      <td>103.0</td>\n",
       "      <td>6180</td>\n",
       "      <td>2021-12-29</td>\n",
       "    </tr>\n",
       "    <tr>\n",
       "      <th>4</th>\n",
       "      <td>2020</td>\n",
       "      <td>666699</td>\n",
       "      <td>1188743</td>\n",
       "      <td>4</td>\n",
       "      <td>2</td>\n",
       "      <td>11</td>\n",
       "      <td>48</td>\n",
       "      <td>2020-08-31</td>\n",
       "      <td>244301ATB</td>\n",
       "      <td>1.0</td>\n",
       "      <td>2</td>\n",
       "      <td>30</td>\n",
       "      <td>81.0</td>\n",
       "      <td>4860</td>\n",
       "      <td>2021-12-29</td>\n",
       "    </tr>\n",
       "  </tbody>\n",
       "</table>\n",
       "</div>"
      ],
      "text/plain": [
       "   기준년도  가입자 일련번호  처방내역일련번호  일련번호  성별코드  연령대코드(5세단위)  시도코드      요양개시일자  \\\n",
       "0  2020    666699   1188743     2     2           11    48  2020-08-31   \n",
       "1  2020    666699   1188743     5     2           11    48  2020-08-31   \n",
       "2  2020    666699   1188743     3     2           11    48  2020-08-31   \n",
       "3  2020    666699   1188743     1     2           11    48  2020-08-31   \n",
       "4  2020    666699   1188743     4     2           11    48  2020-08-31   \n",
       "\n",
       "   약품일반성분명코드  1회 투약량  1일투약량  총투여일수      단가     금액    데이터 공개일자  \n",
       "0  109931ALQ     1.0      2     30   220.0  13200  2021-12-29  \n",
       "1  146602ACH     1.0      2     30   184.0  11040  2021-12-29  \n",
       "2  367202ATB     1.0      1     30  1078.0  32340  2021-12-29  \n",
       "3  222901ATB     1.0      2     30   103.0   6180  2021-12-29  \n",
       "4  244301ATB     1.0      2     30    81.0   4860  2021-12-29  "
      ]
     },
     "execution_count": 3,
     "metadata": {},
     "output_type": "execute_result"
    }
   ],
   "source": [
    "# data/nhis_drug_sample_2020_3.csv 파일을 로드합니다. \n",
    "df = pd.read_csv('data/nhis_drug_sample_2020_3.csv')\n",
    "df.head()"
   ]
  },
  {
   "cell_type": "code",
   "execution_count": 5,
   "id": "472d94ee",
   "metadata": {
    "ExecuteTime": {
     "end_time": "2022-06-07T14:07:20.044687Z",
     "start_time": "2022-06-07T14:07:19.975775Z"
    }
   },
   "outputs": [
    {
     "name": "stdout",
     "output_type": "stream",
     "text": [
      "<class 'pandas.core.frame.DataFrame'>\n",
      "RangeIndex: 317677 entries, 0 to 317676\n",
      "Data columns (total 15 columns):\n",
      " #   Column       Non-Null Count   Dtype  \n",
      "---  ------       --------------   -----  \n",
      " 0   기준년도         317677 non-null  int64  \n",
      " 1   가입자 일련번호     317677 non-null  int64  \n",
      " 2   처방내역일련번호     317677 non-null  int64  \n",
      " 3   일련번호         317677 non-null  int64  \n",
      " 4   성별코드         317677 non-null  int64  \n",
      " 5   연령대코드(5세단위)  317677 non-null  int64  \n",
      " 6   시도코드         317677 non-null  int64  \n",
      " 7   요양개시일자       317677 non-null  object \n",
      " 8   약품일반성분명코드    317669 non-null  object \n",
      " 9   1회 투약량       317677 non-null  float64\n",
      " 10  1일투약량        317677 non-null  int64  \n",
      " 11  총투여일수        317677 non-null  int64  \n",
      " 12  단가           317677 non-null  float64\n",
      " 13  금액           317677 non-null  int64  \n",
      " 14  데이터 공개일자     317677 non-null  object \n",
      "dtypes: float64(2), int64(10), object(3)\n",
      "memory usage: 36.4+ MB\n"
     ]
    }
   ],
   "source": [
    "# info를 통해 데이터의 요약정보를 봅니다.\n",
    "df.info()"
   ]
  },
  {
   "cell_type": "code",
   "execution_count": 31,
   "id": "bf44126e",
   "metadata": {
    "ExecuteTime": {
     "end_time": "2022-06-07T01:36:22.761889Z",
     "start_time": "2022-06-07T01:36:22.744950Z"
    },
    "scrolled": false
   },
   "outputs": [
    {
     "data": {
      "text/plain": [
       "기준년도             int64\n",
       "가입자 일련번호         int64\n",
       "처방내역일련번호         int64\n",
       "일련번호             int64\n",
       "성별코드             int64\n",
       "연령대코드(5세단위)      int64\n",
       "시도코드             int64\n",
       "요양개시일자          object\n",
       "약품일반성분명코드       object\n",
       "1회 투약량         float64\n",
       "1일투약량            int64\n",
       "총투여일수            int64\n",
       "단가             float64\n",
       "금액               int64\n",
       "데이터 공개일자        object\n",
       "dtype: object"
      ]
     },
     "execution_count": 31,
     "metadata": {},
     "output_type": "execute_result"
    }
   ],
   "source": [
    "# dtypes 를 통해 데이터의 타입만 봅니다.\n",
    "df.dtypes"
   ]
  },
  {
   "cell_type": "markdown",
   "id": "679d7a72",
   "metadata": {},
   "source": [
    "|    | Data type   | Description                                                          |\n",
    "|---:|:------------|:---------------------------------------------------------------------|\n",
    "|  0 | bool        | Boolean (True or False) stored as a byte                             |\n",
    "|  1 | int         | Platform integer (normally either int32 or int64)                    |\n",
    "|  2 | int8        | Byte (-128 to 127)                                                   |\n",
    "|  3 | int16       | Integer (-32768 to 32767)                                            |\n",
    "|  4 | int32       | Integer (-2147483648 to 2147483647)                                  |\n",
    "|  5 | int64       | Integer (9223372036854775808 to 9223372036854775807)                 |\n",
    "|  6 | uint8       | Unsigned integer (0 to 255)                                          |\n",
    "|  7 | uint16      | Unsigned integer (0 to 65535)                                        |\n",
    "|  8 | uint32      | Unsigned integer (0 to 4294967295)                                   |\n",
    "|  9 | uint64      | Unsigned integer (0 to 18446744073709551615)                         |\n",
    "| 10 | float       | Shorthand for float64.                                               |\n",
    "| 11 | float16     | Half precision float: sign bit, 5 bits exponent, 10 bits mantissa    |\n",
    "| 12 | float32     | Single precision float: sign bit, 8 bits exponent, 23 bits mantissa  |\n",
    "| 13 | float64     | Double precision float: sign bit, 11 bits exponent, 52 bits mantissa |\n",
    "| 14 | complex     | Shorthand for complex128.                                            |\n",
    "| 15 | complex64   | Complex number, represented by two 32-bit floats                     |\n",
    "| 16 | complex128  | Complex number, represented by two 64-bit floats                     |"
   ]
  },
  {
   "cell_type": "code",
   "execution_count": 6,
   "id": "607e8ae7",
   "metadata": {
    "ExecuteTime": {
     "end_time": "2022-06-07T14:08:11.348941Z",
     "start_time": "2022-06-07T14:08:11.311043Z"
    }
   },
   "outputs": [],
   "source": [
    "df['성별코드'] = pd.to_numeric(df['성별코드'], downcast = 'unsigned')"
   ]
  },
  {
   "cell_type": "code",
   "execution_count": 7,
   "id": "d6b8a581",
   "metadata": {
    "ExecuteTime": {
     "end_time": "2022-06-07T14:08:16.100732Z",
     "start_time": "2022-06-07T14:08:15.792449Z"
    }
   },
   "outputs": [],
   "source": [
    "# 반복문을 사용해 컬럼 단위로 순회하며 데이터의 용량을 줄입니다.\n",
    "# df[col].dtype.name 으로 데이터 타입명을 가져옵니다.\n",
    "# 각 컬럼의 데이터 타입 이름이 int, float 으로 시작하는지를 봅니다.\n",
    "# bool 일 때는 int8\n",
    "# int 일 때는 unsigned\n",
    "# float 일 때는 float 으로 downcast 합니다.\n",
    "# downcast 는 pd.to_numeric 을 사용합니다.\n",
    "\n",
    "for col in df.columns:\n",
    "    dtype_name = df[col].dtypes.name\n",
    "    if dtype_name.startswith(\"int\"):\n",
    "        df[col] = pd.to_numeric(df[col], downcast = 'unsigned')\n",
    "    elif dtype_name.startswith('float'):\n",
    "        df[col] = pd.to_numeric(df[col], downcast = 'float') # float64 --> float32\n",
    "    elif dtype_name == 'bool':\n",
    "        df[col] = df[col].astype('int8')\n",
    "        \n",
    "# fcols = df.select_dtypes('float').columns\n",
    "# icols = df.select_dtypes('integer').columns\n",
    "# bcols = df.select_dtypes('bool').columns\n",
    "# df[fcols] = df[fcols].apply(pd.to_numeric, downcast='float')\n",
    "# df[icols] = df[icols].apply(pd.to_numeric, downcast='unsigned')\n",
    "# df[bcols] = df[bcols].apply(pd.to_numeric, downcast='int8')\n",
    "\n",
    "# *** 이명진\n",
    "# 아래 있는게 더 나은것 같습니다.\n",
    "# ㅇㅅㅇ\n",
    "\n",
    "\n",
    "        "
   ]
  },
  {
   "cell_type": "code",
   "execution_count": 8,
   "id": "481b8f01",
   "metadata": {
    "ExecuteTime": {
     "end_time": "2022-06-07T14:08:51.986275Z",
     "start_time": "2022-06-07T14:08:51.870406Z"
    },
    "scrolled": true
   },
   "outputs": [
    {
     "name": "stdout",
     "output_type": "stream",
     "text": [
      "<class 'pandas.core.frame.DataFrame'>\n",
      "RangeIndex: 317677 entries, 0 to 317676\n",
      "Data columns (total 15 columns):\n",
      " #   Column       Non-Null Count   Dtype  \n",
      "---  ------       --------------   -----  \n",
      " 0   기준년도         317677 non-null  uint16 \n",
      " 1   가입자 일련번호     317677 non-null  uint32 \n",
      " 2   처방내역일련번호     317677 non-null  uint32 \n",
      " 3   일련번호         317677 non-null  uint8  \n",
      " 4   성별코드         317677 non-null  uint8  \n",
      " 5   연령대코드(5세단위)  317677 non-null  uint8  \n",
      " 6   시도코드         317677 non-null  uint8  \n",
      " 7   요양개시일자       317677 non-null  object \n",
      " 8   약품일반성분명코드    317669 non-null  object \n",
      " 9   1회 투약량       317677 non-null  float32\n",
      " 10  1일투약량        317677 non-null  uint8  \n",
      " 11  총투여일수        317677 non-null  uint16 \n",
      " 12  단가           317677 non-null  float32\n",
      " 13  금액           317677 non-null  uint32 \n",
      " 14  데이터 공개일자     317677 non-null  object \n",
      "dtypes: float32(2), object(3), uint16(2), uint32(3), uint8(5)\n",
      "memory usage: 16.1+ MB\n"
     ]
    }
   ],
   "source": [
    "# 메모리 크기가 줄어든 것을 확인합니다.\n",
    "df.info()"
   ]
  },
  {
   "cell_type": "code",
   "execution_count": 9,
   "id": "71373c41",
   "metadata": {
    "ExecuteTime": {
     "end_time": "2022-06-07T14:09:42.454874Z",
     "start_time": "2022-06-07T14:09:42.446777Z"
    }
   },
   "outputs": [],
   "source": [
    "import numpy as np"
   ]
  },
  {
   "cell_type": "code",
   "execution_count": 10,
   "id": "ed4a3661",
   "metadata": {
    "ExecuteTime": {
     "end_time": "2022-06-07T14:09:44.656858Z",
     "start_time": "2022-06-07T14:09:43.572400Z"
    }
   },
   "outputs": [],
   "source": [
    "df2 = pd.read_csv('data\\\\nhis_drug_sample_2020_3.csv', dtype = {'기준년도':'int16', '가입자 일련번호':np.int16})"
   ]
  },
  {
   "cell_type": "code",
   "execution_count": 11,
   "id": "345301a2",
   "metadata": {
    "ExecuteTime": {
     "end_time": "2022-06-07T14:09:44.897102Z",
     "start_time": "2022-06-07T14:09:44.763315Z"
    }
   },
   "outputs": [
    {
     "name": "stdout",
     "output_type": "stream",
     "text": [
      "<class 'pandas.core.frame.DataFrame'>\n",
      "RangeIndex: 317677 entries, 0 to 317676\n",
      "Data columns (total 15 columns):\n",
      " #   Column       Non-Null Count   Dtype  \n",
      "---  ------       --------------   -----  \n",
      " 0   기준년도         317677 non-null  int16  \n",
      " 1   가입자 일련번호     317677 non-null  int16  \n",
      " 2   처방내역일련번호     317677 non-null  int64  \n",
      " 3   일련번호         317677 non-null  int64  \n",
      " 4   성별코드         317677 non-null  int64  \n",
      " 5   연령대코드(5세단위)  317677 non-null  int64  \n",
      " 6   시도코드         317677 non-null  int64  \n",
      " 7   요양개시일자       317677 non-null  object \n",
      " 8   약품일반성분명코드    317669 non-null  object \n",
      " 9   1회 투약량       317677 non-null  float64\n",
      " 10  1일투약량        317677 non-null  int64  \n",
      " 11  총투여일수        317677 non-null  int64  \n",
      " 12  단가           317677 non-null  float64\n",
      " 13  금액           317677 non-null  int64  \n",
      " 14  데이터 공개일자     317677 non-null  object \n",
      "dtypes: float64(2), int16(2), int64(8), object(3)\n",
      "memory usage: 32.7+ MB\n"
     ]
    }
   ],
   "source": [
    "df2.info()"
   ]
  },
  {
   "cell_type": "code",
   "execution_count": 12,
   "id": "4f571d29",
   "metadata": {
    "ExecuteTime": {
     "end_time": "2022-06-07T14:09:54.458861Z",
     "start_time": "2022-06-07T14:09:54.439827Z"
    }
   },
   "outputs": [
    {
     "data": {
      "text/plain": [
       "(317677, 15)"
      ]
     },
     "execution_count": 12,
     "metadata": {},
     "output_type": "execute_result"
    }
   ],
   "source": [
    "df.shape"
   ]
  },
  {
   "cell_type": "code",
   "execution_count": null,
   "id": "e99df53b",
   "metadata": {},
   "outputs": [],
   "source": [
    "age_dict = {for i in age_list if ':'}"
   ]
  }
 ],
 "metadata": {
  "kernelspec": {
   "display_name": "Python 3 (ipykernel)",
   "language": "python",
   "name": "python3"
  },
  "language_info": {
   "codemirror_mode": {
    "name": "ipython",
    "version": 3
   },
   "file_extension": ".py",
   "mimetype": "text/x-python",
   "name": "python",
   "nbconvert_exporter": "python",
   "pygments_lexer": "ipython3",
   "version": "3.9.7"
  },
  "toc": {
   "base_numbering": 1,
   "nav_menu": {},
   "number_sections": true,
   "sideBar": true,
   "skip_h1_title": false,
   "title_cell": "Table of Contents",
   "title_sidebar": "Contents",
   "toc_cell": false,
   "toc_position": {},
   "toc_section_display": true,
   "toc_window_display": false
  },
  "varInspector": {
   "cols": {
    "lenName": 16,
    "lenType": 16,
    "lenVar": 40
   },
   "kernels_config": {
    "python": {
     "delete_cmd_postfix": "",
     "delete_cmd_prefix": "del ",
     "library": "var_list.py",
     "varRefreshCmd": "print(var_dic_list())"
    },
    "r": {
     "delete_cmd_postfix": ") ",
     "delete_cmd_prefix": "rm(",
     "library": "var_list.r",
     "varRefreshCmd": "cat(var_dic_list()) "
    }
   },
   "types_to_exclude": [
    "module",
    "function",
    "builtin_function_or_method",
    "instance",
    "_Feature"
   ],
   "window_display": false
  }
 },
 "nbformat": 4,
 "nbformat_minor": 5
}
