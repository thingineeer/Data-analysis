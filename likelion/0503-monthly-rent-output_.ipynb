{
 "cells": [
  {
   "cell_type": "markdown",
   "metadata": {},
   "source": [
    "\n",
    "<img src=\"https://rougier.github.io/python-visualization-landscape/landscape-colors.png\">\n",
    "\n",
    "\n",
    "* [santosjorge/cufflinks: Productivity Tools for Plotly + Pandas](https://github.com/santosjorge/cufflinks)\n",
    "* <font color=\"red\">⚠️주의사항⚠️ : 다양한 라이브러리의 추상화된 고수준 인터페이스를 제공하기 있기 때문에 환경에 따라 라이브러리 버전간의 충돌이나 오류가 발생할 수 있습니다.</font> \n",
    "\n",
    "\n",
    "## 데이터셋 출처\n",
    "\n",
    "* [서울시 공공자전거 이용정보(월별)> 데이터셋> 공공데이터 | 서울열린데이터광장](http://data.seoul.go.kr/dataList/OA-15248/F/1/datasetView.do)\n",
    "\n",
    "\n",
    "## 필요한 라이브러리 로드"
   ]
  },
  {
   "cell_type": "code",
   "execution_count": 1,
   "metadata": {
    "ExecuteTime": {
     "end_time": "2022-06-17T13:43:30.968569Z",
     "start_time": "2022-06-17T13:43:24.655406Z"
    }
   },
   "outputs": [],
   "source": [
    "# 데이터 분석을 위한 pandas, 수치계산을 위한 numpy\n",
    "# 시각화를 위한 seaborn, matplotlib.pyplot, plotly.express 을 로드합니다. \n",
    "import pandas as pd\n",
    "import numpy as np\n",
    "import matplotlib.pyplot as plt\n",
    "import seaborn as sns\n",
    "import plotly.express as px"
   ]
  },
  {
   "cell_type": "code",
   "execution_count": 2,
   "metadata": {
    "ExecuteTime": {
     "end_time": "2022-06-17T13:43:32.500415Z",
     "start_time": "2022-06-17T13:43:30.971565Z"
    }
   },
   "outputs": [
    {
     "data": {
      "text/html": [
       "        <script type=\"text/javascript\">\n",
       "        window.PlotlyConfig = {MathJaxConfig: 'local'};\n",
       "        if (window.MathJax) {MathJax.Hub.Config({SVG: {font: \"STIX-Web\"}});}\n",
       "        if (typeof require !== 'undefined') {\n",
       "        require.undef(\"plotly\");\n",
       "        requirejs.config({\n",
       "            paths: {\n",
       "                'plotly': ['https://cdn.plot.ly/plotly-2.9.0.min']\n",
       "            }\n",
       "        });\n",
       "        require(['plotly'], function(Plotly) {\n",
       "            window._Plotly = Plotly;\n",
       "        });\n",
       "        }\n",
       "        </script>\n",
       "        "
      ]
     },
     "metadata": {},
     "output_type": "display_data"
    }
   ],
   "source": [
    "# !pip install cufflinks\n",
    "import cufflinks as cf\n",
    "# 그래프가 주피터 노트북에서 표시되지 않는다면 아래 설정을 사용해 주세요.\n",
    "cf.go_offline(connected = True)"
   ]
  },
  {
   "cell_type": "markdown",
   "metadata": {},
   "source": [
    "## 시각화를 위한 한글폰트 설정"
   ]
  },
  {
   "cell_type": "code",
   "execution_count": 3,
   "metadata": {
    "ExecuteTime": {
     "end_time": "2022-06-17T13:43:32.547090Z",
     "start_time": "2022-06-17T13:43:32.502408Z"
    }
   },
   "outputs": [],
   "source": [
    "def get_font_family():\n",
    "    \"\"\"\n",
    "    시스템 환경에 따른 기본 폰트명을 반환하는 함수\n",
    "    \"\"\"\n",
    "    import platform\n",
    "    system_name = platform.system()\n",
    "\n",
    "    if system_name == \"Darwin\" :\n",
    "        font_family = \"AppleGothic\"\n",
    "    elif system_name == \"Windows\":\n",
    "        font_family = \"Malgun Gothic\"\n",
    "    else:\n",
    "        # Linux(colab)\n",
    "        !apt-get install fonts-nanum -qq  > /dev/null\n",
    "        !fc-cache -fv\n",
    "\n",
    "        import matplotlib as mpl\n",
    "        mpl.font_manager._rebuild()\n",
    "        findfont = mpl.font_manager.fontManager.findfont\n",
    "        mpl.font_manager.findfont = findfont\n",
    "        mpl.backends.backend_agg.findfont = findfont\n",
    "        \n",
    "        font_family = \"NanumBarunGothic\"\n",
    "    return font_family\n",
    "\n",
    "\n",
    "# style 설정은 꼭 폰트설정 위에서 합니다.\n",
    "# style 에 폰트 설정이 들어있으면 한글폰트가 초기화 되어 한글이 깨집니다.\n",
    "plt.style.use(\"seaborn\")\n",
    "# 폰트설정\n",
    "plt.rc(\"font\", family=get_font_family())\n",
    "\n",
    "# 마이너스폰트 설정\n",
    "plt.rc(\"axes\", unicode_minus=False)\n",
    "\n",
    "# 그래프에 retina display 적용\n",
    "%config InlineBackend.figure_format = 'retina'"
   ]
  },
  {
   "cell_type": "code",
   "execution_count": 4,
   "metadata": {
    "ExecuteTime": {
     "end_time": "2022-06-17T13:43:32.951338Z",
     "start_time": "2022-06-17T13:43:32.553078Z"
    }
   },
   "outputs": [
    {
     "data": {
      "text/plain": [
       "<AxesSubplot:title={'center':'한글'}>"
      ]
     },
     "execution_count": 4,
     "metadata": {},
     "output_type": "execute_result"
    },
    {
     "data": {
      "image/png": "[encoded data removed]",
      "text/plain": [
       "<Figure size 720x144 with 1 Axes>"
      ]
     },
     "metadata": {
      "image/png": {
       "height": 156,
       "width": 589
      }
     },
     "output_type": "display_data"
    }
   ],
   "source": [
    "pd.Series([1, 3, 5, -7, 9]).plot(title=\"한글\", figsize=(10, 2))"
   ]
  },
  {
   "cell_type": "markdown",
   "metadata": {},
   "source": [
    "## 데이터셋 불러오기"
   ]
  },
  {
   "cell_type": "code",
   "execution_count": 5,
   "metadata": {
    "ExecuteTime": {
     "end_time": "2022-06-17T13:43:32.966267Z",
     "start_time": "2022-06-17T13:43:32.953302Z"
    }
   },
   "outputs": [
    {
     "data": {
      "text/plain": [
       "['data/seoul-bike-2021\\\\서울특별시 공공자전거 이용정보(월별)_21.01.csv',\n",
       " 'data/seoul-bike-2021\\\\서울특별시 공공자전거 이용정보(월별)_21.02.csv',\n",
       " 'data/seoul-bike-2021\\\\서울특별시 공공자전거 이용정보(월별)_21.03.csv',\n",
       " 'data/seoul-bike-2021\\\\서울특별시 공공자전거 이용정보(월별)_21.04.csv',\n",
       " 'data/seoul-bike-2021\\\\서울특별시 공공자전거 이용정보(월별)_21.05.csv',\n",
       " 'data/seoul-bike-2021\\\\서울특별시 공공자전거 이용정보(월별)_21.06.csv',\n",
       " 'data/seoul-bike-2021\\\\서울특별시 공공자전거 이용정보(월별)_21.07.csv',\n",
       " 'data/seoul-bike-2021\\\\서울특별시 공공자전거 이용정보(월별)_21.08.csv',\n",
       " 'data/seoul-bike-2021\\\\서울특별시 공공자전거 이용정보(월별)_21.09.csv',\n",
       " 'data/seoul-bike-2021\\\\서울특별시 공공자전거 이용정보(월별)_21.10.csv',\n",
       " 'data/seoul-bike-2021\\\\서울특별시 공공자전거 이용정보(월별)_21.11.csv',\n",
       " 'data/seoul-bike-2021\\\\서울특별시 공공자전거 이용정보(월별)_21.12.csv']"
      ]
     },
     "execution_count": 5,
     "metadata": {},
     "output_type": "execute_result"
    }
   ],
   "source": [
    "# ./data/seoul-bike-2021/*.csv\n",
    "# glob 로 목록 출력하기\n",
    "import glob\n",
    "\n",
    "paths = glob.glob(\"data/seoul-bike-2021/*.csv\")\n",
    "paths"
   ]
  },
  {
   "cell_type": "code",
   "execution_count": 6,
   "metadata": {
    "ExecuteTime": {
     "end_time": "2022-06-17T13:43:35.973492Z",
     "start_time": "2022-06-17T13:43:32.969260Z"
    },
    "scrolled": true
   },
   "outputs": [
    {
     "data": {
      "text/plain": [
       "12"
      ]
     },
     "execution_count": 6,
     "metadata": {},
     "output_type": "execute_result"
    }
   ],
   "source": [
    "# columns={\"이동거리(M)\": \"이용거리(M)\", \"이용시간(본)\":\"이용시간(분)\"} 컬럼명 일관되게 변경하기\n",
    "# temp 에 데이터 프레임 담기\n",
    "# temp = []\n",
    "columns={\"이동거리(M)\": \"이용거리(M)\", \"이용시간(본)\":\"이용시간(분)\"} \n",
    "temp = [pd.read_csv(pth, encoding=\"cp949\").rename(columns=columns) for pth in paths]\n",
    "len(temp)"
   ]
  },
  {
   "cell_type": "markdown",
   "metadata": {},
   "source": [
    "## concat으로 전체 파일 하나로 병합하기\n",
    "\n",
    "<img src=\"https://pandas.pydata.org/docs/_images/merging_concat_basic.png\">\n",
    "\n",
    "* [Merge, join, concatenate and compare documentation](https://pandas.pydata.org/docs/user_guide/merging.html#merge-join-concatenate-and-compare)"
   ]
  },
  {
   "cell_type": "code",
   "execution_count": 7,
   "metadata": {
    "ExecuteTime": {
     "end_time": "2022-06-17T13:43:36.210719Z",
     "start_time": "2022-06-17T13:43:35.974493Z"
    }
   },
   "outputs": [
    {
     "data": {
      "text/html": [
       "<div>\n",
       "<style scoped>\n",
       "    .dataframe tbody tr th:only-of-type {\n",
       "        vertical-align: middle;\n",
       "    }\n",
       "\n",
       "    .dataframe tbody tr th {\n",
       "        vertical-align: top;\n",
       "    }\n",
       "\n",
       "    .dataframe thead th {\n",
       "        text-align: right;\n",
       "    }\n",
       "</style>\n",
       "<table border=\"1\" class=\"dataframe\">\n",
       "  <thead>\n",
       "    <tr style=\"text-align: right;\">\n",
       "      <th></th>\n",
       "      <th>대여일자</th>\n",
       "      <th>대여소번호</th>\n",
       "      <th>대여소명</th>\n",
       "      <th>대여구분코드</th>\n",
       "      <th>성별</th>\n",
       "      <th>연령대코드</th>\n",
       "      <th>이용건수</th>\n",
       "      <th>운동량</th>\n",
       "      <th>탄소량</th>\n",
       "      <th>이용거리(M)</th>\n",
       "      <th>이용시간(분)</th>\n",
       "    </tr>\n",
       "  </thead>\n",
       "  <tbody>\n",
       "    <tr>\n",
       "      <th>0</th>\n",
       "      <td>2021-01</td>\n",
       "      <td>3</td>\n",
       "      <td>중랑센터</td>\n",
       "      <td>일일(회원)</td>\n",
       "      <td>M</td>\n",
       "      <td>AGE_003</td>\n",
       "      <td>2</td>\n",
       "      <td>47.68</td>\n",
       "      <td>0.40</td>\n",
       "      <td>1720.00</td>\n",
       "      <td>25</td>\n",
       "    </tr>\n",
       "    <tr>\n",
       "      <th>1</th>\n",
       "      <td>2021-01</td>\n",
       "      <td>3</td>\n",
       "      <td>중랑센터</td>\n",
       "      <td>정기</td>\n",
       "      <td>M</td>\n",
       "      <td>AGE_003</td>\n",
       "      <td>11</td>\n",
       "      <td>578.98</td>\n",
       "      <td>2.87</td>\n",
       "      <td>12390.48</td>\n",
       "      <td>166</td>\n",
       "    </tr>\n",
       "    <tr>\n",
       "      <th>2</th>\n",
       "      <td>2021-01</td>\n",
       "      <td>3</td>\n",
       "      <td>중랑센터</td>\n",
       "      <td>정기</td>\n",
       "      <td>M</td>\n",
       "      <td>AGE_004</td>\n",
       "      <td>1</td>\n",
       "      <td>81.65</td>\n",
       "      <td>0.53</td>\n",
       "      <td>2291.05</td>\n",
       "      <td>13</td>\n",
       "    </tr>\n",
       "    <tr>\n",
       "      <th>3</th>\n",
       "      <td>2021-01</td>\n",
       "      <td>5</td>\n",
       "      <td>상암센터 정비실</td>\n",
       "      <td>일일(회원)</td>\n",
       "      <td>\\N</td>\n",
       "      <td>AGE_004</td>\n",
       "      <td>1</td>\n",
       "      <td>511.95</td>\n",
       "      <td>3.53</td>\n",
       "      <td>15209.58</td>\n",
       "      <td>47</td>\n",
       "    </tr>\n",
       "    <tr>\n",
       "      <th>4</th>\n",
       "      <td>2021-01</td>\n",
       "      <td>5</td>\n",
       "      <td>상암센터 정비실</td>\n",
       "      <td>일일(회원)</td>\n",
       "      <td>M</td>\n",
       "      <td>AGE_004</td>\n",
       "      <td>6</td>\n",
       "      <td>371.10</td>\n",
       "      <td>3.39</td>\n",
       "      <td>14642.60</td>\n",
       "      <td>134</td>\n",
       "    </tr>\n",
       "    <tr>\n",
       "      <th>...</th>\n",
       "      <td>...</td>\n",
       "      <td>...</td>\n",
       "      <td>...</td>\n",
       "      <td>...</td>\n",
       "      <td>...</td>\n",
       "      <td>...</td>\n",
       "      <td>...</td>\n",
       "      <td>...</td>\n",
       "      <td>...</td>\n",
       "      <td>...</td>\n",
       "      <td>...</td>\n",
       "    </tr>\n",
       "    <tr>\n",
       "      <th>102921</th>\n",
       "      <td>2021-12</td>\n",
       "      <td>9999</td>\n",
       "      <td>상담센터</td>\n",
       "      <td>정기</td>\n",
       "      <td>M</td>\n",
       "      <td>AGE_005</td>\n",
       "      <td>2</td>\n",
       "      <td>77.06</td>\n",
       "      <td>0.64</td>\n",
       "      <td>2780.00</td>\n",
       "      <td>31</td>\n",
       "    </tr>\n",
       "    <tr>\n",
       "      <th>102922</th>\n",
       "      <td>2021-12</td>\n",
       "      <td>9999</td>\n",
       "      <td>상담센터</td>\n",
       "      <td>정기</td>\n",
       "      <td>M</td>\n",
       "      <td>AGE_006</td>\n",
       "      <td>1</td>\n",
       "      <td>6.38</td>\n",
       "      <td>0.05</td>\n",
       "      <td>230.10</td>\n",
       "      <td>2</td>\n",
       "    </tr>\n",
       "    <tr>\n",
       "      <th>102923</th>\n",
       "      <td>2021-12</td>\n",
       "      <td>9999</td>\n",
       "      <td>상담센터</td>\n",
       "      <td>정기</td>\n",
       "      <td>M</td>\n",
       "      <td>AGE_008</td>\n",
       "      <td>2</td>\n",
       "      <td>82.11</td>\n",
       "      <td>0.74</td>\n",
       "      <td>3190.00</td>\n",
       "      <td>28</td>\n",
       "    </tr>\n",
       "    <tr>\n",
       "      <th>102924</th>\n",
       "      <td>2021-12</td>\n",
       "      <td>88888</td>\n",
       "      <td>88888.영남배송</td>\n",
       "      <td>정기</td>\n",
       "      <td>M</td>\n",
       "      <td>AGE_006</td>\n",
       "      <td>1</td>\n",
       "      <td>0.00</td>\n",
       "      <td>0.00</td>\n",
       "      <td>0.00</td>\n",
       "      <td>17</td>\n",
       "    </tr>\n",
       "    <tr>\n",
       "      <th>102925</th>\n",
       "      <td>2021-12</td>\n",
       "      <td>99999</td>\n",
       "      <td>99999. 영남단말기정비</td>\n",
       "      <td>정기</td>\n",
       "      <td>\\N</td>\n",
       "      <td>AGE_008</td>\n",
       "      <td>4</td>\n",
       "      <td>0.00</td>\n",
       "      <td>0.00</td>\n",
       "      <td>0.00</td>\n",
       "      <td>5</td>\n",
       "    </tr>\n",
       "  </tbody>\n",
       "</table>\n",
       "<p>1323515 rows × 11 columns</p>\n",
       "</div>"
      ],
      "text/plain": [
       "           대여일자  대여소번호            대여소명  대여구분코드  성별    연령대코드  이용건수     운동량  \\\n",
       "0       2021-01      3            중랑센터  일일(회원)   M  AGE_003     2   47.68   \n",
       "1       2021-01      3            중랑센터      정기   M  AGE_003    11  578.98   \n",
       "2       2021-01      3            중랑센터      정기   M  AGE_004     1   81.65   \n",
       "3       2021-01      5        상암센터 정비실  일일(회원)  \\N  AGE_004     1  511.95   \n",
       "4       2021-01      5        상암센터 정비실  일일(회원)   M  AGE_004     6  371.10   \n",
       "...         ...    ...             ...     ...  ..      ...   ...     ...   \n",
       "102921  2021-12   9999            상담센터      정기   M  AGE_005     2   77.06   \n",
       "102922  2021-12   9999            상담센터      정기   M  AGE_006     1    6.38   \n",
       "102923  2021-12   9999            상담센터      정기   M  AGE_008     2   82.11   \n",
       "102924  2021-12  88888      88888.영남배송      정기   M  AGE_006     1    0.00   \n",
       "102925  2021-12  99999  99999. 영남단말기정비      정기  \\N  AGE_008     4    0.00   \n",
       "\n",
       "         탄소량   이용거리(M)  이용시간(분)  \n",
       "0       0.40   1720.00       25  \n",
       "1       2.87  12390.48      166  \n",
       "2       0.53   2291.05       13  \n",
       "3       3.53  15209.58       47  \n",
       "4       3.39  14642.60      134  \n",
       "...      ...       ...      ...  \n",
       "102921  0.64   2780.00       31  \n",
       "102922  0.05    230.10        2  \n",
       "102923  0.74   3190.00       28  \n",
       "102924  0.00      0.00       17  \n",
       "102925  0.00      0.00        5  \n",
       "\n",
       "[1323515 rows x 11 columns]"
      ]
     },
     "execution_count": 7,
     "metadata": {},
     "output_type": "execute_result"
    }
   ],
   "source": [
    "# concat 으로 하나의 데이터프레임으로 변환하기\n",
    "raw = pd.concat(temp)\n",
    "raw"
   ]
  },
  {
   "cell_type": "markdown",
   "metadata": {},
   "source": [
    "## info 보기"
   ]
  },
  {
   "cell_type": "code",
   "execution_count": 8,
   "metadata": {
    "ExecuteTime": {
     "end_time": "2022-06-17T13:43:36.605753Z",
     "start_time": "2022-06-17T13:43:36.213712Z"
    }
   },
   "outputs": [
    {
     "name": "stdout",
     "output_type": "stream",
     "text": [
      "<class 'pandas.core.frame.DataFrame'>\n",
      "Int64Index: 1323515 entries, 0 to 102925\n",
      "Data columns (total 11 columns):\n",
      " #   Column   Non-Null Count    Dtype  \n",
      "---  ------   --------------    -----  \n",
      " 0   대여일자     1323515 non-null  object \n",
      " 1   대여소번호    1323515 non-null  int64  \n",
      " 2   대여소명     1323515 non-null  object \n",
      " 3   대여구분코드   1323515 non-null  object \n",
      " 4   성별       1151062 non-null  object \n",
      " 5   연령대코드    1323515 non-null  object \n",
      " 6   이용건수     1323515 non-null  int64  \n",
      " 7   운동량      1323515 non-null  object \n",
      " 8   탄소량      1323515 non-null  object \n",
      " 9   이용거리(M)  1323515 non-null  float64\n",
      " 10  이용시간(분)  1323515 non-null  int64  \n",
      "dtypes: float64(1), int64(3), object(7)\n",
      "memory usage: 121.2+ MB\n"
     ]
    }
   ],
   "source": [
    "# info\n",
    "raw.info()"
   ]
  },
  {
   "cell_type": "code",
   "execution_count": 9,
   "metadata": {
    "ExecuteTime": {
     "end_time": "2022-06-17T13:43:36.621711Z",
     "start_time": "2022-06-17T13:43:36.607744Z"
    }
   },
   "outputs": [
    {
     "data": {
      "text/plain": [
       "대여일자        object\n",
       "대여소번호        int64\n",
       "대여소명        object\n",
       "대여구분코드      object\n",
       "성별          object\n",
       "연령대코드       object\n",
       "이용건수         int64\n",
       "운동량         object\n",
       "탄소량         object\n",
       "이용거리(M)    float64\n",
       "이용시간(분)      int64\n",
       "dtype: object"
      ]
     },
     "execution_count": 9,
     "metadata": {},
     "output_type": "execute_result"
    }
   ],
   "source": [
    "# dtypes\n",
    "raw.dtypes"
   ]
  },
  {
   "cell_type": "markdown",
   "metadata": {},
   "source": [
    "## 데이터 타입 변경"
   ]
  },
  {
   "cell_type": "code",
   "execution_count": 10,
   "metadata": {
    "ExecuteTime": {
     "end_time": "2022-06-17T13:43:37.369674Z",
     "start_time": "2022-06-17T13:43:36.624705Z"
    }
   },
   "outputs": [],
   "source": [
    "# 운동량, 탄소량 to_numeric 으로 변경하기\n",
    "raw[\"운동량\"] = pd.to_numeric(raw[\"운동량\"], errors=\"coerce\")\n",
    "raw[\"탄소량\"] = pd.to_numeric(raw[\"탄소량\"], errors=\"coerce\")"
   ]
  },
  {
   "cell_type": "markdown",
   "metadata": {},
   "source": [
    "## 결측치"
   ]
  },
  {
   "cell_type": "code",
   "execution_count": 11,
   "metadata": {
    "ExecuteTime": {
     "end_time": "2022-06-17T13:43:37.624421Z",
     "start_time": "2022-06-17T13:43:37.370714Z"
    }
   },
   "outputs": [
    {
     "data": {
      "text/plain": [
       "대여일자            0\n",
       "대여소번호           0\n",
       "대여소명            0\n",
       "대여구분코드          0\n",
       "성별         172453\n",
       "연령대코드           0\n",
       "이용건수            0\n",
       "운동량          1899\n",
       "탄소량          1899\n",
       "이용거리(M)         0\n",
       "이용시간(분)         0\n",
       "dtype: int64"
      ]
     },
     "execution_count": 11,
     "metadata": {},
     "output_type": "execute_result"
    }
   ],
   "source": [
    "# 결측치 합계\n",
    "raw.isnull().sum()"
   ]
  },
  {
   "cell_type": "code",
   "execution_count": 12,
   "metadata": {
    "ExecuteTime": {
     "end_time": "2022-06-17T13:43:48.826557Z",
     "start_time": "2022-06-17T13:43:37.627176Z"
    }
   },
   "outputs": [
    {
     "data": {
      "text/plain": [
       "<AxesSubplot:>"
      ]
     },
     "execution_count": 12,
     "metadata": {},
     "output_type": "execute_result"
    },
    {
     "data": {
      "image/png": "[encoded data removed]",
      "text/plain": [
       "<Figure size 576x396 with 2 Axes>"
      ]
     },
     "metadata": {
      "image/png": {
       "height": 385,
       "width": 468
      }
     },
     "output_type": "display_data"
    }
   ],
   "source": [
    "# 결측치 시각화\n",
    "sns.heatmap(raw.isnull())"
   ]
  },
  {
   "cell_type": "markdown",
   "metadata": {},
   "source": [
    "## 대여소 정보 불러오기"
   ]
  },
  {
   "cell_type": "code",
   "execution_count": 13,
   "metadata": {
    "ExecuteTime": {
     "end_time": "2022-06-17T13:43:48.873434Z",
     "start_time": "2022-06-17T13:43:48.829521Z"
    }
   },
   "outputs": [
    {
     "data": {
      "text/plain": [
       "(2586, 5)"
      ]
     },
     "execution_count": 13,
     "metadata": {},
     "output_type": "execute_result"
    }
   ],
   "source": [
    "\n",
    "\n",
    "# 대여소 정보 불러오기\n",
    "# data/bike_station.csv\n",
    "# \"대여소번호\", \"자치구\", \"위도\", \"경도\", \"운영방식\" 컬럼만 가져오기\n",
    "df_st = pd.read_csv(\"data/bike_station.csv\")[[\"대여소번호\", \"자치구\", \"위도\", \"경도\", \"운영방식\"]]\n",
    "df_st.shape"
   ]
  },
  {
   "cell_type": "code",
   "execution_count": 14,
   "metadata": {
    "ExecuteTime": {
     "end_time": "2022-06-17T13:43:48.904391Z",
     "start_time": "2022-06-17T13:43:48.875399Z"
    }
   },
   "outputs": [
    {
     "data": {
      "text/html": [
       "<div>\n",
       "<style scoped>\n",
       "    .dataframe tbody tr th:only-of-type {\n",
       "        vertical-align: middle;\n",
       "    }\n",
       "\n",
       "    .dataframe tbody tr th {\n",
       "        vertical-align: top;\n",
       "    }\n",
       "\n",
       "    .dataframe thead th {\n",
       "        text-align: right;\n",
       "    }\n",
       "</style>\n",
       "<table border=\"1\" class=\"dataframe\">\n",
       "  <thead>\n",
       "    <tr style=\"text-align: right;\">\n",
       "      <th></th>\n",
       "      <th>대여소번호</th>\n",
       "      <th>자치구</th>\n",
       "      <th>위도</th>\n",
       "      <th>경도</th>\n",
       "      <th>운영방식</th>\n",
       "    </tr>\n",
       "  </thead>\n",
       "  <tbody>\n",
       "    <tr>\n",
       "      <th>0</th>\n",
       "      <td>102.0</td>\n",
       "      <td>마포구</td>\n",
       "      <td>37.555649</td>\n",
       "      <td>126.910629</td>\n",
       "      <td>LCD</td>\n",
       "    </tr>\n",
       "    <tr>\n",
       "      <th>1</th>\n",
       "      <td>103.0</td>\n",
       "      <td>마포구</td>\n",
       "      <td>37.554951</td>\n",
       "      <td>126.910835</td>\n",
       "      <td>LCD</td>\n",
       "    </tr>\n",
       "  </tbody>\n",
       "</table>\n",
       "</div>"
      ],
      "text/plain": [
       "   대여소번호  자치구         위도          경도 운영방식\n",
       "0  102.0  마포구  37.555649  126.910629  LCD\n",
       "1  103.0  마포구  37.554951  126.910835  LCD"
      ]
     },
     "execution_count": 14,
     "metadata": {},
     "output_type": "execute_result"
    }
   ],
   "source": [
    "df_st.head(2)"
   ]
  },
  {
   "cell_type": "code",
   "execution_count": 15,
   "metadata": {
    "ExecuteTime": {
     "end_time": "2022-06-17T13:43:48.920314Z",
     "start_time": "2022-06-17T13:43:48.909310Z"
    }
   },
   "outputs": [],
   "source": [
    "# 대여소번호 는 int 형식으로 변경하기\n",
    "df_st[\"대여소번호\"] = df_st[\"대여소번호\"].astype(int)"
   ]
  },
  {
   "cell_type": "markdown",
   "metadata": {},
   "source": [
    "## 대여정보와 대여소정보 merge로 합치기\n",
    "\n",
    "<img src=\"https://pandas.pydata.org/docs/_images/08_merge_left.svg\">\n",
    "\n",
    "<img src=\"https://i.imgur.com/nD1Hwdl.png\" width=500>\n",
    "\n"
   ]
  },
  {
   "cell_type": "code",
   "execution_count": 16,
   "metadata": {
    "ExecuteTime": {
     "end_time": "2022-06-17T13:43:48.936238Z",
     "start_time": "2022-06-17T13:43:48.925266Z"
    }
   },
   "outputs": [
    {
     "data": {
      "text/plain": [
       "(1323515, 11)"
      ]
     },
     "execution_count": 16,
     "metadata": {},
     "output_type": "execute_result"
    }
   ],
   "source": [
    "raw.shape"
   ]
  },
  {
   "cell_type": "code",
   "execution_count": 17,
   "metadata": {
    "ExecuteTime": {
     "end_time": "2022-06-17T13:43:48.968186Z",
     "start_time": "2022-06-17T13:43:48.939230Z"
    }
   },
   "outputs": [
    {
     "data": {
      "text/html": [
       "<div>\n",
       "<style scoped>\n",
       "    .dataframe tbody tr th:only-of-type {\n",
       "        vertical-align: middle;\n",
       "    }\n",
       "\n",
       "    .dataframe tbody tr th {\n",
       "        vertical-align: top;\n",
       "    }\n",
       "\n",
       "    .dataframe thead th {\n",
       "        text-align: right;\n",
       "    }\n",
       "</style>\n",
       "<table border=\"1\" class=\"dataframe\">\n",
       "  <thead>\n",
       "    <tr style=\"text-align: right;\">\n",
       "      <th></th>\n",
       "      <th>대여소번호</th>\n",
       "      <th>자치구</th>\n",
       "      <th>위도</th>\n",
       "      <th>경도</th>\n",
       "      <th>운영방식</th>\n",
       "    </tr>\n",
       "  </thead>\n",
       "  <tbody>\n",
       "    <tr>\n",
       "      <th>0</th>\n",
       "      <td>102</td>\n",
       "      <td>마포구</td>\n",
       "      <td>37.555649</td>\n",
       "      <td>126.910629</td>\n",
       "      <td>LCD</td>\n",
       "    </tr>\n",
       "    <tr>\n",
       "      <th>1</th>\n",
       "      <td>103</td>\n",
       "      <td>마포구</td>\n",
       "      <td>37.554951</td>\n",
       "      <td>126.910835</td>\n",
       "      <td>LCD</td>\n",
       "    </tr>\n",
       "    <tr>\n",
       "      <th>2</th>\n",
       "      <td>104</td>\n",
       "      <td>마포구</td>\n",
       "      <td>37.550629</td>\n",
       "      <td>126.914986</td>\n",
       "      <td>LCD</td>\n",
       "    </tr>\n",
       "    <tr>\n",
       "      <th>3</th>\n",
       "      <td>105</td>\n",
       "      <td>마포구</td>\n",
       "      <td>37.550007</td>\n",
       "      <td>126.914825</td>\n",
       "      <td>LCD</td>\n",
       "    </tr>\n",
       "    <tr>\n",
       "      <th>4</th>\n",
       "      <td>106</td>\n",
       "      <td>마포구</td>\n",
       "      <td>37.548645</td>\n",
       "      <td>126.912827</td>\n",
       "      <td>LCD</td>\n",
       "    </tr>\n",
       "    <tr>\n",
       "      <th>...</th>\n",
       "      <td>...</td>\n",
       "      <td>...</td>\n",
       "      <td>...</td>\n",
       "      <td>...</td>\n",
       "      <td>...</td>\n",
       "    </tr>\n",
       "    <tr>\n",
       "      <th>2581</th>\n",
       "      <td>5070</td>\n",
       "      <td>강서구</td>\n",
       "      <td>37.556763</td>\n",
       "      <td>126.818695</td>\n",
       "      <td>QR</td>\n",
       "    </tr>\n",
       "    <tr>\n",
       "      <th>2582</th>\n",
       "      <td>5072</td>\n",
       "      <td>강서구</td>\n",
       "      <td>37.561546</td>\n",
       "      <td>126.807083</td>\n",
       "      <td>QR</td>\n",
       "    </tr>\n",
       "    <tr>\n",
       "      <th>2583</th>\n",
       "      <td>5073</td>\n",
       "      <td>강서구</td>\n",
       "      <td>37.546619</td>\n",
       "      <td>126.836235</td>\n",
       "      <td>QR</td>\n",
       "    </tr>\n",
       "    <tr>\n",
       "      <th>2584</th>\n",
       "      <td>5074</td>\n",
       "      <td>강서구</td>\n",
       "      <td>37.558235</td>\n",
       "      <td>126.825760</td>\n",
       "      <td>QR</td>\n",
       "    </tr>\n",
       "    <tr>\n",
       "      <th>2585</th>\n",
       "      <td>5075</td>\n",
       "      <td>강서구</td>\n",
       "      <td>37.551884</td>\n",
       "      <td>126.863571</td>\n",
       "      <td>QR</td>\n",
       "    </tr>\n",
       "  </tbody>\n",
       "</table>\n",
       "<p>2586 rows × 5 columns</p>\n",
       "</div>"
      ],
      "text/plain": [
       "      대여소번호  자치구         위도          경도 운영방식\n",
       "0       102  마포구  37.555649  126.910629  LCD\n",
       "1       103  마포구  37.554951  126.910835  LCD\n",
       "2       104  마포구  37.550629  126.914986  LCD\n",
       "3       105  마포구  37.550007  126.914825  LCD\n",
       "4       106  마포구  37.548645  126.912827  LCD\n",
       "...     ...  ...        ...         ...  ...\n",
       "2581   5070  강서구  37.556763  126.818695   QR\n",
       "2582   5072  강서구  37.561546  126.807083   QR\n",
       "2583   5073  강서구  37.546619  126.836235   QR\n",
       "2584   5074  강서구  37.558235  126.825760   QR\n",
       "2585   5075  강서구  37.551884  126.863571   QR\n",
       "\n",
       "[2586 rows x 5 columns]"
      ]
     },
     "execution_count": 17,
     "metadata": {},
     "output_type": "execute_result"
    }
   ],
   "source": [
    "df_st"
   ]
  },
  {
   "cell_type": "code",
   "execution_count": 18,
   "metadata": {
    "ExecuteTime": {
     "end_time": "2022-06-17T13:43:49.347940Z",
     "start_time": "2022-06-17T13:43:48.970146Z"
    }
   },
   "outputs": [
    {
     "data": {
      "text/plain": [
       "((1323515, 15), (1323515, 11), (2586, 5))"
      ]
     },
     "execution_count": 18,
     "metadata": {},
     "output_type": "execute_result"
    }
   ],
   "source": [
    "# merge 로 대여정보와 대여소 정보 병합하기\n",
    "df = raw.merge(df_st, on=\"대여소번호\", how=\"left\")\n",
    "df.shape, raw.shape, df_st.shape"
   ]
  },
  {
   "cell_type": "code",
   "execution_count": 19,
   "metadata": {
    "ExecuteTime": {
     "end_time": "2022-06-17T13:43:49.378272Z",
     "start_time": "2022-06-17T13:43:49.349941Z"
    }
   },
   "outputs": [
    {
     "data": {
      "text/html": [
       "<div>\n",
       "<style scoped>\n",
       "    .dataframe tbody tr th:only-of-type {\n",
       "        vertical-align: middle;\n",
       "    }\n",
       "\n",
       "    .dataframe tbody tr th {\n",
       "        vertical-align: top;\n",
       "    }\n",
       "\n",
       "    .dataframe thead th {\n",
       "        text-align: right;\n",
       "    }\n",
       "</style>\n",
       "<table border=\"1\" class=\"dataframe\">\n",
       "  <thead>\n",
       "    <tr style=\"text-align: right;\">\n",
       "      <th></th>\n",
       "      <th>대여일자</th>\n",
       "      <th>대여소번호</th>\n",
       "      <th>대여소명</th>\n",
       "      <th>대여구분코드</th>\n",
       "      <th>성별</th>\n",
       "      <th>연령대코드</th>\n",
       "      <th>이용건수</th>\n",
       "      <th>운동량</th>\n",
       "      <th>탄소량</th>\n",
       "      <th>이용거리(M)</th>\n",
       "      <th>이용시간(분)</th>\n",
       "      <th>자치구</th>\n",
       "      <th>위도</th>\n",
       "      <th>경도</th>\n",
       "      <th>운영방식</th>\n",
       "    </tr>\n",
       "  </thead>\n",
       "  <tbody>\n",
       "    <tr>\n",
       "      <th>0</th>\n",
       "      <td>2021-01</td>\n",
       "      <td>3</td>\n",
       "      <td>중랑센터</td>\n",
       "      <td>일일(회원)</td>\n",
       "      <td>M</td>\n",
       "      <td>AGE_003</td>\n",
       "      <td>2</td>\n",
       "      <td>47.68</td>\n",
       "      <td>0.40</td>\n",
       "      <td>1720.00</td>\n",
       "      <td>25</td>\n",
       "      <td>NaN</td>\n",
       "      <td>NaN</td>\n",
       "      <td>NaN</td>\n",
       "      <td>NaN</td>\n",
       "    </tr>\n",
       "    <tr>\n",
       "      <th>1</th>\n",
       "      <td>2021-01</td>\n",
       "      <td>3</td>\n",
       "      <td>중랑센터</td>\n",
       "      <td>정기</td>\n",
       "      <td>M</td>\n",
       "      <td>AGE_003</td>\n",
       "      <td>11</td>\n",
       "      <td>578.98</td>\n",
       "      <td>2.87</td>\n",
       "      <td>12390.48</td>\n",
       "      <td>166</td>\n",
       "      <td>NaN</td>\n",
       "      <td>NaN</td>\n",
       "      <td>NaN</td>\n",
       "      <td>NaN</td>\n",
       "    </tr>\n",
       "    <tr>\n",
       "      <th>2</th>\n",
       "      <td>2021-01</td>\n",
       "      <td>3</td>\n",
       "      <td>중랑센터</td>\n",
       "      <td>정기</td>\n",
       "      <td>M</td>\n",
       "      <td>AGE_004</td>\n",
       "      <td>1</td>\n",
       "      <td>81.65</td>\n",
       "      <td>0.53</td>\n",
       "      <td>2291.05</td>\n",
       "      <td>13</td>\n",
       "      <td>NaN</td>\n",
       "      <td>NaN</td>\n",
       "      <td>NaN</td>\n",
       "      <td>NaN</td>\n",
       "    </tr>\n",
       "    <tr>\n",
       "      <th>3</th>\n",
       "      <td>2021-01</td>\n",
       "      <td>5</td>\n",
       "      <td>상암센터 정비실</td>\n",
       "      <td>일일(회원)</td>\n",
       "      <td>\\N</td>\n",
       "      <td>AGE_004</td>\n",
       "      <td>1</td>\n",
       "      <td>511.95</td>\n",
       "      <td>3.53</td>\n",
       "      <td>15209.58</td>\n",
       "      <td>47</td>\n",
       "      <td>NaN</td>\n",
       "      <td>NaN</td>\n",
       "      <td>NaN</td>\n",
       "      <td>NaN</td>\n",
       "    </tr>\n",
       "    <tr>\n",
       "      <th>4</th>\n",
       "      <td>2021-01</td>\n",
       "      <td>5</td>\n",
       "      <td>상암센터 정비실</td>\n",
       "      <td>일일(회원)</td>\n",
       "      <td>M</td>\n",
       "      <td>AGE_004</td>\n",
       "      <td>6</td>\n",
       "      <td>371.10</td>\n",
       "      <td>3.39</td>\n",
       "      <td>14642.60</td>\n",
       "      <td>134</td>\n",
       "      <td>NaN</td>\n",
       "      <td>NaN</td>\n",
       "      <td>NaN</td>\n",
       "      <td>NaN</td>\n",
       "    </tr>\n",
       "  </tbody>\n",
       "</table>\n",
       "</div>"
      ],
      "text/plain": [
       "      대여일자  대여소번호      대여소명  대여구분코드  성별    연령대코드  이용건수     운동량   탄소량  \\\n",
       "0  2021-01      3      중랑센터  일일(회원)   M  AGE_003     2   47.68  0.40   \n",
       "1  2021-01      3      중랑센터      정기   M  AGE_003    11  578.98  2.87   \n",
       "2  2021-01      3      중랑센터      정기   M  AGE_004     1   81.65  0.53   \n",
       "3  2021-01      5  상암센터 정비실  일일(회원)  \\N  AGE_004     1  511.95  3.53   \n",
       "4  2021-01      5  상암센터 정비실  일일(회원)   M  AGE_004     6  371.10  3.39   \n",
       "\n",
       "    이용거리(M)  이용시간(분)  자치구  위도  경도 운영방식  \n",
       "0   1720.00       25  NaN NaN NaN  NaN  \n",
       "1  12390.48      166  NaN NaN NaN  NaN  \n",
       "2   2291.05       13  NaN NaN NaN  NaN  \n",
       "3  15209.58       47  NaN NaN NaN  NaN  \n",
       "4  14642.60      134  NaN NaN NaN  NaN  "
      ]
     },
     "execution_count": 19,
     "metadata": {},
     "output_type": "execute_result"
    }
   ],
   "source": [
    "df.head()"
   ]
  },
  {
   "cell_type": "code",
   "execution_count": 20,
   "metadata": {
    "ExecuteTime": {
     "end_time": "2022-06-17T13:43:49.744294Z",
     "start_time": "2022-06-17T13:43:49.381041Z"
    }
   },
   "outputs": [
    {
     "name": "stdout",
     "output_type": "stream",
     "text": [
      "<class 'pandas.core.frame.DataFrame'>\n",
      "Int64Index: 1323515 entries, 0 to 1323514\n",
      "Data columns (total 15 columns):\n",
      " #   Column   Non-Null Count    Dtype  \n",
      "---  ------   --------------    -----  \n",
      " 0   대여일자     1323515 non-null  object \n",
      " 1   대여소번호    1323515 non-null  int64  \n",
      " 2   대여소명     1323515 non-null  object \n",
      " 3   대여구분코드   1323515 non-null  object \n",
      " 4   성별       1151062 non-null  object \n",
      " 5   연령대코드    1323515 non-null  object \n",
      " 6   이용건수     1323515 non-null  int64  \n",
      " 7   운동량      1321616 non-null  float64\n",
      " 8   탄소량      1321616 non-null  float64\n",
      " 9   이용거리(M)  1323515 non-null  float64\n",
      " 10  이용시간(분)  1323515 non-null  int64  \n",
      " 11  자치구      1309285 non-null  object \n",
      " 12  위도       1309285 non-null  float64\n",
      " 13  경도       1309285 non-null  float64\n",
      " 14  운영방식     1309285 non-null  object \n",
      "dtypes: float64(5), int64(3), object(7)\n",
      "memory usage: 161.6+ MB\n"
     ]
    }
   ],
   "source": [
    "df.info()"
   ]
  },
  {
   "cell_type": "markdown",
   "metadata": {},
   "source": [
    "## downcast 하기"
   ]
  },
  {
   "cell_type": "code",
   "execution_count": 21,
   "metadata": {
    "ExecuteTime": {
     "end_time": "2022-06-17T13:43:49.760255Z",
     "start_time": "2022-06-17T13:43:49.748289Z"
    }
   },
   "outputs": [],
   "source": [
    "# pd.to_numeric()"
   ]
  },
  {
   "cell_type": "code",
   "execution_count": 24,
   "metadata": {
    "ExecuteTime": {
     "end_time": "2022-06-17T13:43:51.379334Z",
     "start_time": "2022-06-17T13:43:51.350785Z"
    }
   },
   "outputs": [
    {
     "data": {
      "text/plain": [
       "Index(['대여소번호', '이용건수', '이용시간(분)'], dtype='object')"
      ]
     },
     "execution_count": 24,
     "metadata": {},
     "output_type": "execute_result"
    }
   ],
   "source": [
    "df.select_dtypes(\"integer\").columns"
   ]
  },
  {
   "cell_type": "code",
   "execution_count": 25,
   "metadata": {
    "ExecuteTime": {
     "end_time": "2022-06-17T13:43:51.410233Z",
     "start_time": "2022-06-17T13:43:51.382899Z"
    }
   },
   "outputs": [],
   "source": [
    "fcols = df.select_dtypes(\"float\").columns\n",
    "icols = df.select_dtypes(\"int\").columns\n",
    "bcols = df.select_dtypes(\"bool\").columns\n",
    "ocols = df.select_dtypes(\"object\").columns\n",
    "\n",
    "\n",
    "df[fcols] = df[fcols].apply(pd.to_numeric, downcast=\"float\")\n",
    "df[icols] = df[icols].apply(pd.to_numeric, downcast=\"integer\")\n",
    "df[bcols] = df[bcols].apply(pd.to_numeric, downcast=\"int8\")\n",
    "df[ocols] = df[ocols].astype(\"category\")"
   ]
  },
  {
   "cell_type": "markdown",
   "metadata": {},
   "source": [
    "## downcast 후 파일 용량과 메모리 크기 확인하기"
   ]
  },
  {
   "cell_type": "code",
   "execution_count": 26,
   "metadata": {
    "ExecuteTime": {
     "end_time": "2022-06-17T13:43:51.489535Z",
     "start_time": "2022-06-17T13:43:51.412250Z"
    }
   },
   "outputs": [
    {
     "name": "stdout",
     "output_type": "stream",
     "text": [
      "<class 'pandas.core.frame.DataFrame'>\n",
      "Int64Index: 1323515 entries, 0 to 1323514\n",
      "Data columns (total 15 columns):\n",
      " #   Column   Non-Null Count    Dtype   \n",
      "---  ------   --------------    -----   \n",
      " 0   대여일자     1323515 non-null  category\n",
      " 1   대여소번호    1323515 non-null  int32   \n",
      " 2   대여소명     1323515 non-null  category\n",
      " 3   대여구분코드   1323515 non-null  category\n",
      " 4   성별       1151062 non-null  category\n",
      " 5   연령대코드    1323515 non-null  category\n",
      " 6   이용건수     1323515 non-null  int16   \n",
      " 7   운동량      1321616 non-null  float32 \n",
      " 8   탄소량      1321616 non-null  float32 \n",
      " 9   이용거리(M)  1323515 non-null  float32 \n",
      " 10  이용시간(분)  1323515 non-null  int32   \n",
      " 11  자치구      1309285 non-null  category\n",
      " 12  위도       1309285 non-null  float32 \n",
      " 13  경도       1309285 non-null  float32 \n",
      " 14  운영방식     1309285 non-null  category\n",
      "dtypes: category(7), float32(5), int16(1), int32(2)\n",
      "memory usage: 58.1 MB\n"
     ]
    }
   ],
   "source": [
    "df.info()"
   ]
  },
  {
   "cell_type": "code",
   "execution_count": 27,
   "metadata": {
    "ExecuteTime": {
     "end_time": "2022-06-17T13:43:51.854685Z",
     "start_time": "2022-06-17T13:43:51.790856Z"
    }
   },
   "outputs": [
    {
     "data": {
      "text/plain": [
       "대여일자        0.000000\n",
       "대여소번호       0.000000\n",
       "대여소명        0.000000\n",
       "대여구분코드      0.000000\n",
       "성별         13.029924\n",
       "연령대코드       0.000000\n",
       "이용건수        0.000000\n",
       "운동량         0.143482\n",
       "탄소량         0.143482\n",
       "이용거리(M)     0.000000\n",
       "이용시간(분)     0.000000\n",
       "자치구         1.075167\n",
       "위도          1.075167\n",
       "경도          1.075167\n",
       "운영방식        1.075167\n",
       "dtype: float64"
      ]
     },
     "execution_count": 27,
     "metadata": {},
     "output_type": "execute_result"
    }
   ],
   "source": [
    "# 결측치 비율\n",
    "df.isnull().mean() * 100"
   ]
  },
  {
   "cell_type": "code",
   "execution_count": 28,
   "metadata": {
    "ExecuteTime": {
     "end_time": "2022-06-17T13:43:52.539181Z",
     "start_time": "2022-06-17T13:43:52.291182Z"
    }
   },
   "outputs": [
    {
     "data": {
      "text/plain": [
       "<AxesSubplot:>"
      ]
     },
     "execution_count": 28,
     "metadata": {},
     "output_type": "execute_result"
    },
    {
     "data": {
      "image/png": "[encoded data removed]",
      "text/plain": [
       "<Figure size 576x396 with 1 Axes>"
      ]
     },
     "metadata": {
      "image/png": {
       "height": 360,
       "width": 500
      }
     },
     "output_type": "display_data"
    }
   ],
   "source": [
    "# 자치구 별 빈도수 구하기\n",
    "df[\"자치구\"].value_counts().plot(kind=\"bar\")"
   ]
  },
  {
   "cell_type": "code",
   "execution_count": 29,
   "metadata": {
    "ExecuteTime": {
     "end_time": "2022-06-17T13:43:55.694552Z",
     "start_time": "2022-06-17T13:43:52.850811Z"
    }
   },
   "outputs": [
    {
     "data": {
      "application/vnd.plotly.v1+json": {
       "config": {
        "linkText": "Export to plot.ly",
        "plotlyServerURL": "https://plot.ly",
        "showLink": true
       },
       "data": [
        {
         "marker": {
          "color": "rgba(255, 153, 51, 0.6)",
          "line": {
           "color": "rgba(255, 153, 51, 1.0)",
           "width": 1
          }
         },
         "name": "자치구",
         "orientation": "v",
         "text": "",
         "type": "bar",
         "x": [
          "송파구",
          "강서구",
          "영등포구",
          "강남구",
          "서초구",
          "노원구",
          "마포구",
          "강동구",
          "양천구",
          "종로구",
          "구로구",
          "은평구",
          "광진구",
          "성동구",
          "동대문구",
          "중랑구",
          "용산구",
          "성북구",
          "중구",
          "서대문구",
          "관악구",
          "도봉구",
          "동작구",
          "강북구",
          "금천구"
         ],
         "y": [
          105080,
          95975,
          74579,
          68787,
          65839,
          64116,
          61187,
          56248,
          56159,
          54291,
          51174,
          46344,
          45980,
          45255,
          44861,
          42828,
          41695,
          40390,
          39952,
          38848,
          36991,
          36692,
          34981,
          31308,
          29725
         ]
        }
       ],
       "layout": {
        "legend": {
         "bgcolor": "#F5F6F9",
         "font": {
          "color": "#4D5663"
         }
        },
        "paper_bgcolor": "#F5F6F9",
        "plot_bgcolor": "#F5F6F9",
        "template": {
         "data": {
          "bar": [
           {
            "error_x": {
             "color": "#2a3f5f"
            },
            "error_y": {
             "color": "#2a3f5f"
            },
            "marker": {
             "line": {
              "color": "#E5ECF6",
              "width": 0.5
             },
             "pattern": {
              "fillmode": "overlay",
              "size": 10,
              "solidity": 0.2
             }
            },
            "type": "bar"
           }
          ],
          "barpolar": [
           {
            "marker": {
             "line": {
              "color": "#E5ECF6",
              "width": 0.5
             },
             "pattern": {
              "fillmode": "overlay",
              "size": 10,
              "solidity": 0.2
             }
            },
            "type": "barpolar"
           }
          ],
          "carpet": [
           {
            "aaxis": {
             "endlinecolor": "#2a3f5f",
             "gridcolor": "white",
             "linecolor": "white",
             "minorgridcolor": "white",
             "startlinecolor": "#2a3f5f"
            },
            "baxis": {
             "endlinecolor": "#2a3f5f",
             "gridcolor": "white",
             "linecolor": "white",
             "minorgridcolor": "white",
             "startlinecolor": "#2a3f5f"
            },
            "type": "carpet"
           }
          ],
          "choropleth": [
           {
            "colorbar": {
             "outlinewidth": 0,
             "ticks": ""
            },
            "type": "choropleth"
           }
          ],
          "contour": [
           {
            "colorbar": {
             "outlinewidth": 0,
             "ticks": ""
            },
            "colorscale": [
             [
              0,
              "#0d0887"
             ],
             [
              0.1111111111111111,
              "#46039f"
             ],
             [
              0.2222222222222222,
              "#7201a8"
             ],
             [
              0.3333333333333333,
              "#9c179e"
             ],
             [
              0.4444444444444444,
              "#bd3786"
             ],
             [
              0.5555555555555556,
              "#d8576b"
             ],
             [
              0.6666666666666666,
              "#ed7953"
             ],
             [
              0.7777777777777778,
              "#fb9f3a"
             ],
             [
              0.8888888888888888,
              "#fdca26"
             ],
             [
              1,
              "#f0f921"
             ]
            ],
            "type": "contour"
           }
          ],
          "contourcarpet": [
           {
            "colorbar": {
             "outlinewidth": 0,
             "ticks": ""
            },
            "type": "contourcarpet"
           }
          ],
          "heatmap": [
           {
            "colorbar": {
             "outlinewidth": 0,
             "ticks": ""
            },
            "colorscale": [
             [
              0,
              "#0d0887"
             ],
             [
              0.1111111111111111,
              "#46039f"
             ],
             [
              0.2222222222222222,
              "#7201a8"
             ],
             [
              0.3333333333333333,
              "#9c179e"
             ],
             [
              0.4444444444444444,
              "#bd3786"
             ],
             [
              0.5555555555555556,
              "#d8576b"
             ],
             [
              0.6666666666666666,
              "#ed7953"
             ],
             [
              0.7777777777777778,
              "#fb9f3a"
             ],
             [
              0.8888888888888888,
              "#fdca26"
             ],
             [
              1,
              "#f0f921"
             ]
            ],
            "type": "heatmap"
           }
          ],
          "heatmapgl": [
           {
            "colorbar": {
             "outlinewidth": 0,
             "ticks": ""
            },
            "colorscale": [
             [
              0,
              "#0d0887"
             ],
             [
              0.1111111111111111,
              "#46039f"
             ],
             [
              0.2222222222222222,
              "#7201a8"
             ],
             [
              0.3333333333333333,
              "#9c179e"
             ],
             [
              0.4444444444444444,
              "#bd3786"
             ],
             [
              0.5555555555555556,
              "#d8576b"
             ],
             [
              0.6666666666666666,
              "#ed7953"
             ],
             [
              0.7777777777777778,
              "#fb9f3a"
             ],
             [
              0.8888888888888888,
              "#fdca26"
             ],
             [
              1,
              "#f0f921"
             ]
            ],
            "type": "heatmapgl"
           }
          ],
          "histogram": [
           {
            "marker": {
             "pattern": {
              "fillmode": "overlay",
              "size": 10,
              "solidity": 0.2
             }
            },
            "type": "histogram"
           }
          ],
          "histogram2d": [
           {
            "colorbar": {
             "outlinewidth": 0,
             "ticks": ""
            },
            "colorscale": [
             [
              0,
              "#0d0887"
             ],
             [
              0.1111111111111111,
              "#46039f"
             ],
             [
              0.2222222222222222,
              "#7201a8"
             ],
             [
              0.3333333333333333,
              "#9c179e"
             ],
             [
              0.4444444444444444,
              "#bd3786"
             ],
             [
              0.5555555555555556,
              "#d8576b"
             ],
             [
              0.6666666666666666,
              "#ed7953"
             ],
             [
              0.7777777777777778,
              "#fb9f3a"
             ],
             [
              0.8888888888888888,
              "#fdca26"
             ],
             [
              1,
              "#f0f921"
             ]
            ],
            "type": "histogram2d"
           }
          ],
          "histogram2dcontour": [
           {
            "colorbar": {
             "outlinewidth": 0,
             "ticks": ""
            },
            "colorscale": [
             [
              0,
              "#0d0887"
             ],
             [
              0.1111111111111111,
              "#46039f"
             ],
             [
              0.2222222222222222,
              "#7201a8"
             ],
             [
              0.3333333333333333,
              "#9c179e"
             ],
             [
              0.4444444444444444,
              "#bd3786"
             ],
             [
              0.5555555555555556,
              "#d8576b"
             ],
             [
              0.6666666666666666,
              "#ed7953"
             ],
             [
              0.7777777777777778,
              "#fb9f3a"
             ],
             [
              0.8888888888888888,
              "#fdca26"
             ],
             [
              1,
              "#f0f921"
             ]
            ],
            "type": "histogram2dcontour"
           }
          ],
          "mesh3d": [
           {
            "colorbar": {
             "outlinewidth": 0,
             "ticks": ""
            },
            "type": "mesh3d"
           }
          ],
          "parcoords": [
           {
            "line": {
             "colorbar": {
              "outlinewidth": 0,
              "ticks": ""
             }
            },
            "type": "parcoords"
           }
          ],
          "pie": [
           {
            "automargin": true,
            "type": "pie"
           }
          ],
          "scatter": [
           {
            "marker": {
             "colorbar": {
              "outlinewidth": 0,
              "ticks": ""
             }
            },
            "type": "scatter"
           }
          ],
          "scatter3d": [
           {
            "line": {
             "colorbar": {
              "outlinewidth": 0,
              "ticks": ""
             }
            },
            "marker": {
             "colorbar": {
              "outlinewidth": 0,
              "ticks": ""
             }
            },
            "type": "scatter3d"
           }
          ],
          "scattercarpet": [
           {
            "marker": {
             "colorbar": {
              "outlinewidth": 0,
              "ticks": ""
             }
            },
            "type": "scattercarpet"
           }
          ],
          "scattergeo": [
           {
            "marker": {
             "colorbar": {
              "outlinewidth": 0,
              "ticks": ""
             }
            },
            "type": "scattergeo"
           }
          ],
          "scattergl": [
           {
            "marker": {
             "colorbar": {
              "outlinewidth": 0,
              "ticks": ""
             }
            },
            "type": "scattergl"
           }
          ],
          "scattermapbox": [
           {
            "marker": {
             "colorbar": {
              "outlinewidth": 0,
              "ticks": ""
             }
            },
            "type": "scattermapbox"
           }
          ],
          "scatterpolar": [
           {
            "marker": {
             "colorbar": {
              "outlinewidth": 0,
              "ticks": ""
             }
            },
            "type": "scatterpolar"
           }
          ],
          "scatterpolargl": [
           {
            "marker": {
             "colorbar": {
              "outlinewidth": 0,
              "ticks": ""
             }
            },
            "type": "scatterpolargl"
           }
          ],
          "scatterternary": [
           {
            "marker": {
             "colorbar": {
              "outlinewidth": 0,
              "ticks": ""
             }
            },
            "type": "scatterternary"
           }
          ],
          "surface": [
           {
            "colorbar": {
             "outlinewidth": 0,
             "ticks": ""
            },
            "colorscale": [
             [
              0,
              "#0d0887"
             ],
             [
              0.1111111111111111,
              "#46039f"
             ],
             [
              0.2222222222222222,
              "#7201a8"
             ],
             [
              0.3333333333333333,
              "#9c179e"
             ],
             [
              0.4444444444444444,
              "#bd3786"
             ],
             [
              0.5555555555555556,
              "#d8576b"
             ],
             [
              0.6666666666666666,
              "#ed7953"
             ],
             [
              0.7777777777777778,
              "#fb9f3a"
             ],
             [
              0.8888888888888888,
              "#fdca26"
             ],
             [
              1,
              "#f0f921"
             ]
            ],
            "type": "surface"
           }
          ],
          "table": [
           {
            "cells": {
             "fill": {
              "color": "#EBF0F8"
             },
             "line": {
              "color": "white"
             }
            },
            "header": {
             "fill": {
              "color": "#C8D4E3"
             },
             "line": {
              "color": "white"
             }
            },
            "type": "table"
           }
          ]
         },
         "layout": {
          "annotationdefaults": {
           "arrowcolor": "#2a3f5f",
           "arrowhead": 0,
           "arrowwidth": 1
          },
          "autotypenumbers": "strict",
          "coloraxis": {
           "colorbar": {
            "outlinewidth": 0,
            "ticks": ""
           }
          },
          "colorscale": {
           "diverging": [
            [
             0,
             "#8e0152"
            ],
            [
             0.1,
             "#c51b7d"
            ],
            [
             0.2,
             "#de77ae"
            ],
            [
             0.3,
             "#f1b6da"
            ],
            [
             0.4,
             "#fde0ef"
            ],
            [
             0.5,
             "#f7f7f7"
            ],
            [
             0.6,
             "#e6f5d0"
            ],
            [
             0.7,
             "#b8e186"
            ],
            [
             0.8,
             "#7fbc41"
            ],
            [
             0.9,
             "#4d9221"
            ],
            [
             1,
             "#276419"
            ]
           ],
           "sequential": [
            [
             0,
             "#0d0887"
            ],
            [
             0.1111111111111111,
             "#46039f"
            ],
            [
             0.2222222222222222,
             "#7201a8"
            ],
            [
             0.3333333333333333,
             "#9c179e"
            ],
            [
             0.4444444444444444,
             "#bd3786"
            ],
            [
             0.5555555555555556,
             "#d8576b"
            ],
            [
             0.6666666666666666,
             "#ed7953"
            ],
            [
             0.7777777777777778,
             "#fb9f3a"
            ],
            [
             0.8888888888888888,
             "#fdca26"
            ],
            [
             1,
             "#f0f921"
            ]
           ],
           "sequentialminus": [
            [
             0,
             "#0d0887"
            ],
            [
             0.1111111111111111,
             "#46039f"
            ],
            [
             0.2222222222222222,
             "#7201a8"
            ],
            [
             0.3333333333333333,
             "#9c179e"
            ],
            [
             0.4444444444444444,
             "#bd3786"
            ],
            [
             0.5555555555555556,
             "#d8576b"
            ],
            [
             0.6666666666666666,
             "#ed7953"
            ],
            [
             0.7777777777777778,
             "#fb9f3a"
            ],
            [
             0.8888888888888888,
             "#fdca26"
            ],
            [
             1,
             "#f0f921"
            ]
           ]
          },
          "colorway": [
           "#636efa",
           "#EF553B",
           "#00cc96",
           "#ab63fa",
           "#FFA15A",
           "#19d3f3",
           "#FF6692",
           "#B6E880",
           "#FF97FF",
           "#FECB52"
          ],
          "font": {
           "color": "#2a3f5f"
          },
          "geo": {
           "bgcolor": "white",
           "lakecolor": "white",
           "landcolor": "#E5ECF6",
           "showlakes": true,
           "showland": true,
           "subunitcolor": "white"
          },
          "hoverlabel": {
           "align": "left"
          },
          "hovermode": "closest",
          "mapbox": {
           "style": "light"
          },
          "paper_bgcolor": "white",
          "plot_bgcolor": "#E5ECF6",
          "polar": {
           "angularaxis": {
            "gridcolor": "white",
            "linecolor": "white",
            "ticks": ""
           },
           "bgcolor": "#E5ECF6",
           "radialaxis": {
            "gridcolor": "white",
            "linecolor": "white",
            "ticks": ""
           }
          },
          "scene": {
           "xaxis": {
            "backgroundcolor": "#E5ECF6",
            "gridcolor": "white",
            "gridwidth": 2,
            "linecolor": "white",
            "showbackground": true,
            "ticks": "",
            "zerolinecolor": "white"
           },
           "yaxis": {
            "backgroundcolor": "#E5ECF6",
            "gridcolor": "white",
            "gridwidth": 2,
            "linecolor": "white",
            "showbackground": true,
            "ticks": "",
            "zerolinecolor": "white"
           },
           "zaxis": {
            "backgroundcolor": "#E5ECF6",
            "gridcolor": "white",
            "gridwidth": 2,
            "linecolor": "white",
            "showbackground": true,
            "ticks": "",
            "zerolinecolor": "white"
           }
          },
          "shapedefaults": {
           "line": {
            "color": "#2a3f5f"
           }
          },
          "ternary": {
           "aaxis": {
            "gridcolor": "white",
            "linecolor": "white",
            "ticks": ""
           },
           "baxis": {
            "gridcolor": "white",
            "linecolor": "white",
            "ticks": ""
           },
           "bgcolor": "#E5ECF6",
           "caxis": {
            "gridcolor": "white",
            "linecolor": "white",
            "ticks": ""
           }
          },
          "title": {
           "x": 0.05
          },
          "xaxis": {
           "automargin": true,
           "gridcolor": "white",
           "linecolor": "white",
           "ticks": "",
           "title": {
            "standoff": 15
           },
           "zerolinecolor": "white",
           "zerolinewidth": 2
          },
          "yaxis": {
           "automargin": true,
           "gridcolor": "white",
           "linecolor": "white",
           "ticks": "",
           "title": {
            "standoff": 15
           },
           "zerolinecolor": "white",
           "zerolinewidth": 2
          }
         }
        },
        "title": {
         "font": {
          "color": "#4D5663"
         }
        },
        "xaxis": {
         "gridcolor": "#E1E5ED",
         "showgrid": true,
         "tickfont": {
          "color": "#4D5663"
         },
         "title": {
          "font": {
           "color": "#4D5663"
          },
          "text": ""
         },
         "zerolinecolor": "#E1E5ED"
        },
        "yaxis": {
         "gridcolor": "#E1E5ED",
         "showgrid": true,
         "tickfont": {
          "color": "#4D5663"
         },
         "title": {
          "font": {
           "color": "#4D5663"
          },
          "text": ""
         },
         "zerolinecolor": "#E1E5ED"
        }
       }
      },
      "text/html": [
       "<div>                            <div id=\"c172c053-1894-405f-ac5b-0e494db86d9a\" class=\"plotly-graph-div\" style=\"height:525px; width:100%;\"></div>            <script type=\"text/javascript\">                require([\"plotly\"], function(Plotly) {                    window.PLOTLYENV=window.PLOTLYENV || {};\n",
       "                    window.PLOTLYENV.BASE_URL='https://plot.ly';                                    if (document.getElementById(\"c172c053-1894-405f-ac5b-0e494db86d9a\")) {                    Plotly.newPlot(                        \"c172c053-1894-405f-ac5b-0e494db86d9a\",                        [{\"marker\":{\"color\":\"rgba(255, 153, 51, 0.6)\",\"line\":{\"color\":\"rgba(255, 153, 51, 1.0)\",\"width\":1}},\"name\":\"\\uc790\\uce58\\uad6c\",\"orientation\":\"v\",\"text\":\"\",\"x\":[\"\\uc1a1\\ud30c\\uad6c\",\"\\uac15\\uc11c\\uad6c\",\"\\uc601\\ub4f1\\ud3ec\\uad6c\",\"\\uac15\\ub0a8\\uad6c\",\"\\uc11c\\ucd08\\uad6c\",\"\\ub178\\uc6d0\\uad6c\",\"\\ub9c8\\ud3ec\\uad6c\",\"\\uac15\\ub3d9\\uad6c\",\"\\uc591\\ucc9c\\uad6c\",\"\\uc885\\ub85c\\uad6c\",\"\\uad6c\\ub85c\\uad6c\",\"\\uc740\\ud3c9\\uad6c\",\"\\uad11\\uc9c4\\uad6c\",\"\\uc131\\ub3d9\\uad6c\",\"\\ub3d9\\ub300\\ubb38\\uad6c\",\"\\uc911\\ub791\\uad6c\",\"\\uc6a9\\uc0b0\\uad6c\",\"\\uc131\\ubd81\\uad6c\",\"\\uc911\\uad6c\",\"\\uc11c\\ub300\\ubb38\\uad6c\",\"\\uad00\\uc545\\uad6c\",\"\\ub3c4\\ubd09\\uad6c\",\"\\ub3d9\\uc791\\uad6c\",\"\\uac15\\ubd81\\uad6c\",\"\\uae08\\ucc9c\\uad6c\"],\"y\":[105080,95975,74579,68787,65839,64116,61187,56248,56159,54291,51174,46344,45980,45255,44861,42828,41695,40390,39952,38848,36991,36692,34981,31308,29725],\"type\":\"bar\"}],                        {\"legend\":{\"bgcolor\":\"#F5F6F9\",\"font\":{\"color\":\"#4D5663\"}},\"paper_bgcolor\":\"#F5F6F9\",\"plot_bgcolor\":\"#F5F6F9\",\"template\":{\"data\":{\"barpolar\":[{\"marker\":{\"line\":{\"color\":\"#E5ECF6\",\"width\":0.5},\"pattern\":{\"fillmode\":\"overlay\",\"size\":10,\"solidity\":0.2}},\"type\":\"barpolar\"}],\"bar\":[{\"error_x\":{\"color\":\"#2a3f5f\"},\"error_y\":{\"color\":\"#2a3f5f\"},\"marker\":{\"line\":{\"color\":\"#E5ECF6\",\"width\":0.5},\"pattern\":{\"fillmode\":\"overlay\",\"size\":10,\"solidity\":0.2}},\"type\":\"bar\"}],\"carpet\":[{\"aaxis\":{\"endlinecolor\":\"#2a3f5f\",\"gridcolor\":\"white\",\"linecolor\":\"white\",\"minorgridcolor\":\"white\",\"startlinecolor\":\"#2a3f5f\"},\"baxis\":{\"endlinecolor\":\"#2a3f5f\",\"gridcolor\":\"white\",\"linecolor\":\"white\",\"minorgridcolor\":\"white\",\"startlinecolor\":\"#2a3f5f\"},\"type\":\"carpet\"}],\"choropleth\":[{\"colorbar\":{\"outlinewidth\":0,\"ticks\":\"\"},\"type\":\"choropleth\"}],\"contourcarpet\":[{\"colorbar\":{\"outlinewidth\":0,\"ticks\":\"\"},\"type\":\"contourcarpet\"}],\"contour\":[{\"colorbar\":{\"outlinewidth\":0,\"ticks\":\"\"},\"colorscale\":[[0.0,\"#0d0887\"],[0.1111111111111111,\"#46039f\"],[0.2222222222222222,\"#7201a8\"],[0.3333333333333333,\"#9c179e\"],[0.4444444444444444,\"#bd3786\"],[0.5555555555555556,\"#d8576b\"],[0.6666666666666666,\"#ed7953\"],[0.7777777777777778,\"#fb9f3a\"],[0.8888888888888888,\"#fdca26\"],[1.0,\"#f0f921\"]],\"type\":\"contour\"}],\"heatmapgl\":[{\"colorbar\":{\"outlinewidth\":0,\"ticks\":\"\"},\"colorscale\":[[0.0,\"#0d0887\"],[0.1111111111111111,\"#46039f\"],[0.2222222222222222,\"#7201a8\"],[0.3333333333333333,\"#9c179e\"],[0.4444444444444444,\"#bd3786\"],[0.5555555555555556,\"#d8576b\"],[0.6666666666666666,\"#ed7953\"],[0.7777777777777778,\"#fb9f3a\"],[0.8888888888888888,\"#fdca26\"],[1.0,\"#f0f921\"]],\"type\":\"heatmapgl\"}],\"heatmap\":[{\"colorbar\":{\"outlinewidth\":0,\"ticks\":\"\"},\"colorscale\":[[0.0,\"#0d0887\"],[0.1111111111111111,\"#46039f\"],[0.2222222222222222,\"#7201a8\"],[0.3333333333333333,\"#9c179e\"],[0.4444444444444444,\"#bd3786\"],[0.5555555555555556,\"#d8576b\"],[0.6666666666666666,\"#ed7953\"],[0.7777777777777778,\"#fb9f3a\"],[0.8888888888888888,\"#fdca26\"],[1.0,\"#f0f921\"]],\"type\":\"heatmap\"}],\"histogram2dcontour\":[{\"colorbar\":{\"outlinewidth\":0,\"ticks\":\"\"},\"colorscale\":[[0.0,\"#0d0887\"],[0.1111111111111111,\"#46039f\"],[0.2222222222222222,\"#7201a8\"],[0.3333333333333333,\"#9c179e\"],[0.4444444444444444,\"#bd3786\"],[0.5555555555555556,\"#d8576b\"],[0.6666666666666666,\"#ed7953\"],[0.7777777777777778,\"#fb9f3a\"],[0.8888888888888888,\"#fdca26\"],[1.0,\"#f0f921\"]],\"type\":\"histogram2dcontour\"}],\"histogram2d\":[{\"colorbar\":{\"outlinewidth\":0,\"ticks\":\"\"},\"colorscale\":[[0.0,\"#0d0887\"],[0.1111111111111111,\"#46039f\"],[0.2222222222222222,\"#7201a8\"],[0.3333333333333333,\"#9c179e\"],[0.4444444444444444,\"#bd3786\"],[0.5555555555555556,\"#d8576b\"],[0.6666666666666666,\"#ed7953\"],[0.7777777777777778,\"#fb9f3a\"],[0.8888888888888888,\"#fdca26\"],[1.0,\"#f0f921\"]],\"type\":\"histogram2d\"}],\"histogram\":[{\"marker\":{\"pattern\":{\"fillmode\":\"overlay\",\"size\":10,\"solidity\":0.2}},\"type\":\"histogram\"}],\"mesh3d\":[{\"colorbar\":{\"outlinewidth\":0,\"ticks\":\"\"},\"type\":\"mesh3d\"}],\"parcoords\":[{\"line\":{\"colorbar\":{\"outlinewidth\":0,\"ticks\":\"\"}},\"type\":\"parcoords\"}],\"pie\":[{\"automargin\":true,\"type\":\"pie\"}],\"scatter3d\":[{\"line\":{\"colorbar\":{\"outlinewidth\":0,\"ticks\":\"\"}},\"marker\":{\"colorbar\":{\"outlinewidth\":0,\"ticks\":\"\"}},\"type\":\"scatter3d\"}],\"scattercarpet\":[{\"marker\":{\"colorbar\":{\"outlinewidth\":0,\"ticks\":\"\"}},\"type\":\"scattercarpet\"}],\"scattergeo\":[{\"marker\":{\"colorbar\":{\"outlinewidth\":0,\"ticks\":\"\"}},\"type\":\"scattergeo\"}],\"scattergl\":[{\"marker\":{\"colorbar\":{\"outlinewidth\":0,\"ticks\":\"\"}},\"type\":\"scattergl\"}],\"scattermapbox\":[{\"marker\":{\"colorbar\":{\"outlinewidth\":0,\"ticks\":\"\"}},\"type\":\"scattermapbox\"}],\"scatterpolargl\":[{\"marker\":{\"colorbar\":{\"outlinewidth\":0,\"ticks\":\"\"}},\"type\":\"scatterpolargl\"}],\"scatterpolar\":[{\"marker\":{\"colorbar\":{\"outlinewidth\":0,\"ticks\":\"\"}},\"type\":\"scatterpolar\"}],\"scatter\":[{\"marker\":{\"colorbar\":{\"outlinewidth\":0,\"ticks\":\"\"}},\"type\":\"scatter\"}],\"scatterternary\":[{\"marker\":{\"colorbar\":{\"outlinewidth\":0,\"ticks\":\"\"}},\"type\":\"scatterternary\"}],\"surface\":[{\"colorbar\":{\"outlinewidth\":0,\"ticks\":\"\"},\"colorscale\":[[0.0,\"#0d0887\"],[0.1111111111111111,\"#46039f\"],[0.2222222222222222,\"#7201a8\"],[0.3333333333333333,\"#9c179e\"],[0.4444444444444444,\"#bd3786\"],[0.5555555555555556,\"#d8576b\"],[0.6666666666666666,\"#ed7953\"],[0.7777777777777778,\"#fb9f3a\"],[0.8888888888888888,\"#fdca26\"],[1.0,\"#f0f921\"]],\"type\":\"surface\"}],\"table\":[{\"cells\":{\"fill\":{\"color\":\"#EBF0F8\"},\"line\":{\"color\":\"white\"}},\"header\":{\"fill\":{\"color\":\"#C8D4E3\"},\"line\":{\"color\":\"white\"}},\"type\":\"table\"}]},\"layout\":{\"annotationdefaults\":{\"arrowcolor\":\"#2a3f5f\",\"arrowhead\":0,\"arrowwidth\":1},\"autotypenumbers\":\"strict\",\"coloraxis\":{\"colorbar\":{\"outlinewidth\":0,\"ticks\":\"\"}},\"colorscale\":{\"diverging\":[[0,\"#8e0152\"],[0.1,\"#c51b7d\"],[0.2,\"#de77ae\"],[0.3,\"#f1b6da\"],[0.4,\"#fde0ef\"],[0.5,\"#f7f7f7\"],[0.6,\"#e6f5d0\"],[0.7,\"#b8e186\"],[0.8,\"#7fbc41\"],[0.9,\"#4d9221\"],[1,\"#276419\"]],\"sequential\":[[0.0,\"#0d0887\"],[0.1111111111111111,\"#46039f\"],[0.2222222222222222,\"#7201a8\"],[0.3333333333333333,\"#9c179e\"],[0.4444444444444444,\"#bd3786\"],[0.5555555555555556,\"#d8576b\"],[0.6666666666666666,\"#ed7953\"],[0.7777777777777778,\"#fb9f3a\"],[0.8888888888888888,\"#fdca26\"],[1.0,\"#f0f921\"]],\"sequentialminus\":[[0.0,\"#0d0887\"],[0.1111111111111111,\"#46039f\"],[0.2222222222222222,\"#7201a8\"],[0.3333333333333333,\"#9c179e\"],[0.4444444444444444,\"#bd3786\"],[0.5555555555555556,\"#d8576b\"],[0.6666666666666666,\"#ed7953\"],[0.7777777777777778,\"#fb9f3a\"],[0.8888888888888888,\"#fdca26\"],[1.0,\"#f0f921\"]]},\"colorway\":[\"#636efa\",\"#EF553B\",\"#00cc96\",\"#ab63fa\",\"#FFA15A\",\"#19d3f3\",\"#FF6692\",\"#B6E880\",\"#FF97FF\",\"#FECB52\"],\"font\":{\"color\":\"#2a3f5f\"},\"geo\":{\"bgcolor\":\"white\",\"lakecolor\":\"white\",\"landcolor\":\"#E5ECF6\",\"showlakes\":true,\"showland\":true,\"subunitcolor\":\"white\"},\"hoverlabel\":{\"align\":\"left\"},\"hovermode\":\"closest\",\"mapbox\":{\"style\":\"light\"},\"paper_bgcolor\":\"white\",\"plot_bgcolor\":\"#E5ECF6\",\"polar\":{\"angularaxis\":{\"gridcolor\":\"white\",\"linecolor\":\"white\",\"ticks\":\"\"},\"bgcolor\":\"#E5ECF6\",\"radialaxis\":{\"gridcolor\":\"white\",\"linecolor\":\"white\",\"ticks\":\"\"}},\"scene\":{\"xaxis\":{\"backgroundcolor\":\"#E5ECF6\",\"gridcolor\":\"white\",\"gridwidth\":2,\"linecolor\":\"white\",\"showbackground\":true,\"ticks\":\"\",\"zerolinecolor\":\"white\"},\"yaxis\":{\"backgroundcolor\":\"#E5ECF6\",\"gridcolor\":\"white\",\"gridwidth\":2,\"linecolor\":\"white\",\"showbackground\":true,\"ticks\":\"\",\"zerolinecolor\":\"white\"},\"zaxis\":{\"backgroundcolor\":\"#E5ECF6\",\"gridcolor\":\"white\",\"gridwidth\":2,\"linecolor\":\"white\",\"showbackground\":true,\"ticks\":\"\",\"zerolinecolor\":\"white\"}},\"shapedefaults\":{\"line\":{\"color\":\"#2a3f5f\"}},\"ternary\":{\"aaxis\":{\"gridcolor\":\"white\",\"linecolor\":\"white\",\"ticks\":\"\"},\"baxis\":{\"gridcolor\":\"white\",\"linecolor\":\"white\",\"ticks\":\"\"},\"bgcolor\":\"#E5ECF6\",\"caxis\":{\"gridcolor\":\"white\",\"linecolor\":\"white\",\"ticks\":\"\"}},\"title\":{\"x\":0.05},\"xaxis\":{\"automargin\":true,\"gridcolor\":\"white\",\"linecolor\":\"white\",\"ticks\":\"\",\"title\":{\"standoff\":15},\"zerolinecolor\":\"white\",\"zerolinewidth\":2},\"yaxis\":{\"automargin\":true,\"gridcolor\":\"white\",\"linecolor\":\"white\",\"ticks\":\"\",\"title\":{\"standoff\":15},\"zerolinecolor\":\"white\",\"zerolinewidth\":2}}},\"title\":{\"font\":{\"color\":\"#4D5663\"}},\"xaxis\":{\"gridcolor\":\"#E1E5ED\",\"showgrid\":true,\"tickfont\":{\"color\":\"#4D5663\"},\"title\":{\"font\":{\"color\":\"#4D5663\"},\"text\":\"\"},\"zerolinecolor\":\"#E1E5ED\"},\"yaxis\":{\"gridcolor\":\"#E1E5ED\",\"showgrid\":true,\"tickfont\":{\"color\":\"#4D5663\"},\"title\":{\"font\":{\"color\":\"#4D5663\"},\"text\":\"\"},\"zerolinecolor\":\"#E1E5ED\"}},                        {\"showLink\": true, \"linkText\": \"Export to plot.ly\", \"plotlyServerURL\": \"https://plot.ly\", \"responsive\": true}                    ).then(function(){\n",
       "                            \n",
       "var gd = document.getElementById('c172c053-1894-405f-ac5b-0e494db86d9a');\n",
       "var x = new MutationObserver(function (mutations, observer) {{\n",
       "        var display = window.getComputedStyle(gd).display;\n",
       "        if (!display || display === 'none') {{\n",
       "            console.log([gd, 'removed!']);\n",
       "            Plotly.purge(gd);\n",
       "            observer.disconnect();\n",
       "        }}\n",
       "}});\n",
       "\n",
       "// Listen for the removal of the full notebook cells\n",
       "var notebookContainer = gd.closest('#notebook-container');\n",
       "if (notebookContainer) {{\n",
       "    x.observe(notebookContainer, {childList: true});\n",
       "}}\n",
       "\n",
       "// Listen for the clearing of the current output cell\n",
       "var outputEl = gd.closest('.output');\n",
       "if (outputEl) {{\n",
       "    x.observe(outputEl, {childList: true});\n",
       "}}\n",
       "\n",
       "                        })                };                });            </script>        </div>"
      ]
     },
     "metadata": {},
     "output_type": "display_data"
    }
   ],
   "source": [
    "df[\"자치구\"].value_counts().iplot(kind=\"bar\")"
   ]
  },
  {
   "cell_type": "markdown",
   "metadata": {},
   "source": [
    "## 히스토그램"
   ]
  },
  {
   "cell_type": "code",
   "execution_count": 30,
   "metadata": {
    "ExecuteTime": {
     "end_time": "2022-06-17T13:44:14.257559Z",
     "start_time": "2022-06-17T13:44:12.611327Z"
    }
   },
   "outputs": [
    {
     "data": {
      "image/png": "[encoded data removed]",
      "text/plain": [
       "<Figure size 864x720 with 9 Axes>"
      ]
     },
     "metadata": {
      "image/png": {
       "height": 590,
       "width": 724
      }
     },
     "output_type": "display_data"
    }
   ],
   "source": [
    "_ = df.hist(figsize=(12, 10), bins=50)"
   ]
  },
  {
   "cell_type": "markdown",
   "metadata": {},
   "source": [
    "## 이용건수"
   ]
  },
  {
   "cell_type": "code",
   "execution_count": 31,
   "metadata": {
    "ExecuteTime": {
     "end_time": "2022-06-17T13:44:14.414920Z",
     "start_time": "2022-06-17T13:44:14.381016Z"
    }
   },
   "outputs": [
    {
     "data": {
      "text/html": [
       "<div>\n",
       "<style scoped>\n",
       "    .dataframe tbody tr th:only-of-type {\n",
       "        vertical-align: middle;\n",
       "    }\n",
       "\n",
       "    .dataframe tbody tr th {\n",
       "        vertical-align: top;\n",
       "    }\n",
       "\n",
       "    .dataframe thead th {\n",
       "        text-align: right;\n",
       "    }\n",
       "</style>\n",
       "<table border=\"1\" class=\"dataframe\">\n",
       "  <thead>\n",
       "    <tr style=\"text-align: right;\">\n",
       "      <th></th>\n",
       "      <th>대여일자</th>\n",
       "      <th>대여소번호</th>\n",
       "      <th>대여소명</th>\n",
       "      <th>대여구분코드</th>\n",
       "      <th>성별</th>\n",
       "      <th>연령대코드</th>\n",
       "      <th>이용건수</th>\n",
       "      <th>운동량</th>\n",
       "      <th>탄소량</th>\n",
       "      <th>이용거리(M)</th>\n",
       "      <th>이용시간(분)</th>\n",
       "      <th>자치구</th>\n",
       "      <th>위도</th>\n",
       "      <th>경도</th>\n",
       "      <th>운영방식</th>\n",
       "    </tr>\n",
       "  </thead>\n",
       "  <tbody>\n",
       "    <tr>\n",
       "      <th>260387</th>\n",
       "      <td>2021-04</td>\n",
       "      <td>207</td>\n",
       "      <td>207. 여의나루역 1번출구 앞</td>\n",
       "      <td>일일(회원)</td>\n",
       "      <td>\\N</td>\n",
       "      <td>AGE_002</td>\n",
       "      <td>2301</td>\n",
       "      <td>350736.18750</td>\n",
       "      <td>3314.159912</td>\n",
       "      <td>14285335.0</td>\n",
       "      <td>130483</td>\n",
       "      <td>영등포구</td>\n",
       "      <td>37.527157</td>\n",
       "      <td>126.931900</td>\n",
       "      <td>LCD</td>\n",
       "    </tr>\n",
       "    <tr>\n",
       "      <th>273315</th>\n",
       "      <td>2021-04</td>\n",
       "      <td>502</td>\n",
       "      <td>502. 뚝섬유원지역 1번출구 앞</td>\n",
       "      <td>일일(회원)</td>\n",
       "      <td>\\N</td>\n",
       "      <td>AGE_002</td>\n",
       "      <td>2306</td>\n",
       "      <td>309633.15625</td>\n",
       "      <td>2923.449951</td>\n",
       "      <td>12601358.0</td>\n",
       "      <td>114994</td>\n",
       "      <td>광진구</td>\n",
       "      <td>37.531860</td>\n",
       "      <td>127.067192</td>\n",
       "      <td>LCD</td>\n",
       "    </tr>\n",
       "    <tr>\n",
       "      <th>856552</th>\n",
       "      <td>2021-09</td>\n",
       "      <td>207</td>\n",
       "      <td>207. 여의나루역 1번출구 앞</td>\n",
       "      <td>일일(회원)</td>\n",
       "      <td>\\N</td>\n",
       "      <td>AGE_002</td>\n",
       "      <td>2379</td>\n",
       "      <td>316001.59375</td>\n",
       "      <td>3002.360107</td>\n",
       "      <td>12940352.0</td>\n",
       "      <td>129664</td>\n",
       "      <td>영등포구</td>\n",
       "      <td>37.527157</td>\n",
       "      <td>126.931900</td>\n",
       "      <td>LCD</td>\n",
       "    </tr>\n",
       "    <tr>\n",
       "      <th>856566</th>\n",
       "      <td>2021-09</td>\n",
       "      <td>207</td>\n",
       "      <td>207. 여의나루역 1번출구 앞</td>\n",
       "      <td>일일(회원)</td>\n",
       "      <td>F</td>\n",
       "      <td>AGE_002</td>\n",
       "      <td>2236</td>\n",
       "      <td>268468.37500</td>\n",
       "      <td>2702.659912</td>\n",
       "      <td>11649881.0</td>\n",
       "      <td>132301</td>\n",
       "      <td>영등포구</td>\n",
       "      <td>37.527157</td>\n",
       "      <td>126.931900</td>\n",
       "      <td>LCD</td>\n",
       "    </tr>\n",
       "    <tr>\n",
       "      <th>870019</th>\n",
       "      <td>2021-09</td>\n",
       "      <td>502</td>\n",
       "      <td>502. 뚝섬유원지역 1번출구 앞</td>\n",
       "      <td>일일(회원)</td>\n",
       "      <td>\\N</td>\n",
       "      <td>AGE_002</td>\n",
       "      <td>2559</td>\n",
       "      <td>315695.65625</td>\n",
       "      <td>2960.399902</td>\n",
       "      <td>12760541.0</td>\n",
       "      <td>122013</td>\n",
       "      <td>광진구</td>\n",
       "      <td>37.531860</td>\n",
       "      <td>127.067192</td>\n",
       "      <td>LCD</td>\n",
       "    </tr>\n",
       "  </tbody>\n",
       "</table>\n",
       "</div>"
      ],
      "text/plain": [
       "           대여일자  대여소번호                대여소명  대여구분코드  성별    연령대코드  이용건수  \\\n",
       "260387  2021-04    207   207. 여의나루역 1번출구 앞  일일(회원)  \\N  AGE_002  2301   \n",
       "273315  2021-04    502  502. 뚝섬유원지역 1번출구 앞  일일(회원)  \\N  AGE_002  2306   \n",
       "856552  2021-09    207   207. 여의나루역 1번출구 앞  일일(회원)  \\N  AGE_002  2379   \n",
       "856566  2021-09    207   207. 여의나루역 1번출구 앞  일일(회원)   F  AGE_002  2236   \n",
       "870019  2021-09    502  502. 뚝섬유원지역 1번출구 앞  일일(회원)  \\N  AGE_002  2559   \n",
       "\n",
       "                 운동량          탄소량     이용거리(M)  이용시간(분)   자치구         위도  \\\n",
       "260387  350736.18750  3314.159912  14285335.0   130483  영등포구  37.527157   \n",
       "273315  309633.15625  2923.449951  12601358.0   114994   광진구  37.531860   \n",
       "856552  316001.59375  3002.360107  12940352.0   129664  영등포구  37.527157   \n",
       "856566  268468.37500  2702.659912  11649881.0   132301  영등포구  37.527157   \n",
       "870019  315695.65625  2960.399902  12760541.0   122013   광진구  37.531860   \n",
       "\n",
       "                경도 운영방식  \n",
       "260387  126.931900  LCD  \n",
       "273315  127.067192  LCD  \n",
       "856552  126.931900  LCD  \n",
       "856566  126.931900  LCD  \n",
       "870019  127.067192  LCD  "
      ]
     },
     "execution_count": 31,
     "metadata": {},
     "output_type": "execute_result"
    }
   ],
   "source": [
    "# 이용건수가 1000 이상인 데이터 찾기\n",
    "df[df[\"이용건수\"] > 2000]"
   ]
  },
  {
   "cell_type": "markdown",
   "metadata": {},
   "source": [
    "## 대여구분\n",
    "RCC_001(정기권), RCC_002(일일권), RCC_003(일일권:비회원), RCC_004(단체권)"
   ]
  },
  {
   "cell_type": "code",
   "execution_count": null,
   "metadata": {
    "ExecuteTime": {
     "end_time": "2022-06-08T05:01:02.592548Z",
     "start_time": "2022-06-08T05:01:02.573584Z"
    }
   },
   "outputs": [],
   "source": [
    "# 대여구분코드 빈도수 구하기\n",
    "df[\"대여구분코드\"].value_counts()"
   ]
  },
  {
   "cell_type": "code",
   "execution_count": null,
   "metadata": {
    "ExecuteTime": {
     "end_time": "2022-06-08T05:01:03.172745Z",
     "start_time": "2022-06-08T05:01:03.137827Z"
    }
   },
   "outputs": [],
   "source": [
    "df[\"대여구분코드\"] = df[\"대여구분코드\"].str.replace(\"BIL_021\", \"10분이용권\")"
   ]
  },
  {
   "cell_type": "code",
   "execution_count": null,
   "metadata": {
    "ExecuteTime": {
     "end_time": "2022-06-08T05:01:05.004393Z",
     "start_time": "2022-06-08T05:01:04.045381Z"
    }
   },
   "outputs": [],
   "source": [
    "# countplot으로 \"대여구분코드\" 빈도수 시각화\n",
    "sns.countplot(data=df, x=\"대여구분코드\")"
   ]
  },
  {
   "cell_type": "code",
   "execution_count": null,
   "metadata": {
    "ExecuteTime": {
     "end_time": "2022-06-08T05:01:06.963940Z",
     "start_time": "2022-06-08T05:01:06.956958Z"
    }
   },
   "outputs": [],
   "source": [
    "import plotly\n",
    "\n",
    "plotly.__version__"
   ]
  },
  {
   "cell_type": "code",
   "execution_count": null,
   "metadata": {},
   "outputs": [],
   "source": [
    "# x=\"이용건수\", y=\"대여구분코드\" 합계 구하기\n",
    "px.histogram(df, x=\"대여구분코드\",  y=\"이용건수\", histfunc=\"sum\")"
   ]
  },
  {
   "cell_type": "code",
   "execution_count": null,
   "metadata": {},
   "outputs": [],
   "source": [
    "sns.barplot(data=df, x=\"이용건수\", y=\"대여구분코드\", estimator=np.sum, ci=None, orient=\"h\")"
   ]
  },
  {
   "cell_type": "markdown",
   "metadata": {},
   "source": [
    "## 성별\n",
    "\\N, 공백은 성별을 선택하지 않은 경우이며,\n",
    "\n",
    "성별이 F,M 외에 \\N(null값), 공백이 포함되어있는 이유는\n",
    "\n",
    "19년10월까지는 회원가입 시 성별 기입이 선택사항이었기 때문"
   ]
  },
  {
   "cell_type": "code",
   "execution_count": null,
   "metadata": {
    "ExecuteTime": {
     "end_time": "2022-06-08T05:01:12.057550Z",
     "start_time": "2022-06-08T05:01:12.037601Z"
    }
   },
   "outputs": [],
   "source": [
    "# 성별 빈도수 구하기\n",
    "df[\"성별\"].value_counts()"
   ]
  },
  {
   "cell_type": "code",
   "execution_count": null,
   "metadata": {
    "ExecuteTime": {
     "end_time": "2022-06-08T05:01:13.437917Z",
     "start_time": "2022-06-08T05:01:13.396030Z"
    }
   },
   "outputs": [],
   "source": [
    "# 성별 대문자로 변경\n",
    "df[\"성별\"] = df[\"성별\"].str.upper()"
   ]
  },
  {
   "cell_type": "code",
   "execution_count": null,
   "metadata": {
    "ExecuteTime": {
     "end_time": "2022-06-08T05:01:17.028803Z",
     "start_time": "2022-06-08T05:01:14.390426Z"
    }
   },
   "outputs": [],
   "source": [
    "# value_counts 로 전처리 값 확인\n",
    "df[\"성별\"].value_counts().iplot(kind=\"bar\", title=\"성별 데이터 건수\")"
   ]
  },
  {
   "cell_type": "code",
   "execution_count": null,
   "metadata": {
    "ExecuteTime": {
     "end_time": "2022-06-08T05:01:33.858633Z",
     "start_time": "2022-06-08T05:01:17.031764Z"
    }
   },
   "outputs": [],
   "source": [
    "px.histogram(df, x=\"성별\", y=\"이용건수\", histfunc=\"sum\")"
   ]
  },
  {
   "cell_type": "code",
   "execution_count": null,
   "metadata": {
    "ExecuteTime": {
     "end_time": "2022-06-08T05:01:34.148892Z",
     "start_time": "2022-06-08T05:01:33.860630Z"
    }
   },
   "outputs": [],
   "source": [
    "gender_sum = df.groupby(\"성별\")[\"이용건수\"].sum()\n",
    "\n",
    "px.bar(gender_sum, text=gender_sum)"
   ]
  },
  {
   "cell_type": "markdown",
   "metadata": {},
   "source": [
    "## 연령대\n",
    "\n",
    "```\n",
    "10대 : AGE_001\n",
    "20대 : AGE_002\n",
    "30대 : AGE_003\n",
    "40대 : AGE_004\n",
    "50대 : AGE_005\n",
    "60대 : AGE_006\n",
    "70대 : AGE_007\n",
    "기타 : AGE_008 ( 비회원, 외국인, 그 이상 등 )\n",
    "```"
   ]
  },
  {
   "cell_type": "code",
   "execution_count": null,
   "metadata": {
    "ExecuteTime": {
     "end_time": "2022-06-08T05:02:07.367158Z",
     "start_time": "2022-06-08T05:02:07.359995Z"
    }
   },
   "outputs": [],
   "source": [
    "age_code = \"\"\"\n",
    "10대 : AGE_001\n",
    "20대 : AGE_002\n",
    "30대 : AGE_003\n",
    "40대 : AGE_004\n",
    "50대 : AGE_005\n",
    "60대 : AGE_006\n",
    "70대 : AGE_007\n",
    "기타 : AGE_008\n",
    "( 비회원, 외국인, 그 이상 등 )\"\"\"\n",
    "age_code"
   ]
  },
  {
   "cell_type": "code",
   "execution_count": null,
   "metadata": {
    "ExecuteTime": {
     "end_time": "2022-06-08T05:02:08.436266Z",
     "start_time": "2022-06-08T05:02:08.427291Z"
    }
   },
   "outputs": [],
   "source": [
    "age_code.split(\"\\n\")"
   ]
  },
  {
   "cell_type": "code",
   "execution_count": null,
   "metadata": {},
   "outputs": [],
   "source": [
    "# age_dict 값 만들기\n",
    "age_dict = {}\n",
    "for age in age_code.split(\"\\n\")[1:-1]:\n",
    "    key = age.split(\":\")[1].strip()\n",
    "    val = age.split(\":\")[0].strip()\n",
    "    age_dict[key] = val\n",
    "age_dict"
   ]
  },
  {
   "cell_type": "code",
   "execution_count": null,
   "metadata": {
    "ExecuteTime": {
     "end_time": "2022-06-08T05:02:11.155673Z",
     "start_time": "2022-06-08T05:02:11.145702Z"
    }
   },
   "outputs": [],
   "source": [
    "age_dict = { age.split(\":\")[1].strip() : age.split(\":\")[0].strip() for age in age_code.split(\"\\n\")[1:-1]}\n",
    "age_dict"
   ]
  },
  {
   "cell_type": "markdown",
   "metadata": {},
   "source": [
    "### map 활용하기"
   ]
  },
  {
   "cell_type": "code",
   "execution_count": null,
   "metadata": {
    "ExecuteTime": {
     "end_time": "2022-06-08T05:01:44.455345Z",
     "start_time": "2022-06-08T05:01:44.426423Z"
    }
   },
   "outputs": [],
   "source": [
    "df.head(1)"
   ]
  },
  {
   "cell_type": "code",
   "execution_count": null,
   "metadata": {
    "ExecuteTime": {
     "end_time": "2022-06-08T05:02:13.128981Z",
     "start_time": "2022-06-08T05:02:13.103051Z"
    },
    "scrolled": false
   },
   "outputs": [],
   "source": [
    "# \"연령대\" 파생변수 만들기\n",
    "df[\"연령대\"] = df[\"연령대코드\"].map(age_dict)\n",
    "df.head(1)"
   ]
  },
  {
   "cell_type": "code",
   "execution_count": null,
   "metadata": {
    "ExecuteTime": {
     "end_time": "2022-06-08T05:02:14.979898Z",
     "start_time": "2022-06-08T05:02:14.961945Z"
    }
   },
   "outputs": [],
   "source": [
    "# 연령대 빈도수 구하기\n",
    "age_count = df[\"연령대\"].value_counts().sort_index()\n",
    "age_count"
   ]
  },
  {
   "cell_type": "code",
   "execution_count": null,
   "metadata": {},
   "outputs": [],
   "source": [
    "# 연령대 빈도수 시각화\n",
    "age_count.iplot(kind=\"bar\")"
   ]
  },
  {
   "cell_type": "markdown",
   "metadata": {},
   "source": [
    "## 연령대 vs 성별"
   ]
  },
  {
   "cell_type": "code",
   "execution_count": null,
   "metadata": {
    "ExecuteTime": {
     "end_time": "2022-06-08T05:02:18.659547Z",
     "start_time": "2022-06-08T05:02:18.202771Z"
    },
    "scrolled": true
   },
   "outputs": [],
   "source": [
    "# index=\"연령대\", columns=\"성별\", values=\"이용건수\" 합계\n",
    "age_gender = pd.pivot_table(data=df, index=\"연령대\", columns=\"성별\", values=\"이용건수\", aggfunc=np.sum)\n",
    "age_gender.plot(kind=\"bar\", figsize=(10, 3), rot=0)"
   ]
  },
  {
   "cell_type": "code",
   "execution_count": null,
   "metadata": {
    "ExecuteTime": {
     "end_time": "2022-06-08T05:02:20.427918Z",
     "start_time": "2022-06-08T05:02:20.342149Z"
    },
    "scrolled": true
   },
   "outputs": [],
   "source": [
    "# 연령대, 성별, 이용건수 시각화\n",
    "age_gender.iplot(kind=\"bar\")"
   ]
  },
  {
   "cell_type": "code",
   "execution_count": null,
   "metadata": {
    "ExecuteTime": {
     "end_time": "2022-06-08T05:02:24.057505Z",
     "start_time": "2022-06-08T05:02:22.980530Z"
    }
   },
   "outputs": [],
   "source": [
    "sns.barplot(data=df, x=\"연령대\", y=\"이용건수\", estimator=np.sum, hue=\"성별\", ci=None)"
   ]
  },
  {
   "cell_type": "markdown",
   "metadata": {},
   "source": [
    "## 자치구 vs 연령대"
   ]
  },
  {
   "cell_type": "code",
   "execution_count": null,
   "metadata": {},
   "outputs": [],
   "source": [
    "# index=\"자치구\", columns=\"연령대\", values=\"이용건수\" 합계\n",
    "gu_age = pd.pivot_table(data=df, index=\"자치구\", columns=\"연령대\", values=\"이용건수\", aggfunc=np.sum)\n",
    "gu_age.round(0).astype(int).style.background_gradient(cmap=\"Greens\")"
   ]
  },
  {
   "cell_type": "code",
   "execution_count": null,
   "metadata": {},
   "outputs": [],
   "source": [
    "print(plt.colormaps())"
   ]
  },
  {
   "cell_type": "code",
   "execution_count": null,
   "metadata": {},
   "outputs": [],
   "source": [
    "# heatmap 으로 시각화\n",
    "plt.figure(figsize=(12, 10))\n",
    "sns.heatmap(gu_age, annot=True, fmt=\",.0f\", cmap=\"Greens\")"
   ]
  },
  {
   "cell_type": "markdown",
   "metadata": {},
   "source": [
    "## 정렬하기"
   ]
  },
  {
   "cell_type": "code",
   "execution_count": null,
   "metadata": {
    "scrolled": false
   },
   "outputs": [],
   "source": [
    "#\"대여일자\", \"대여소번호\", \"성별\", \"연령대코드\" 로 정렬하기\n",
    "df = df.sort_values(by=[\"대여일자\", \"대여소번호\", \"성별\", \"연령대코드\"])\n",
    "df.head(2)"
   ]
  },
  {
   "cell_type": "markdown",
   "metadata": {},
   "source": [
    "## 전처리 내용 저장하기"
   ]
  },
  {
   "cell_type": "code",
   "execution_count": null,
   "metadata": {
    "ExecuteTime": {
     "end_time": "2022-06-08T06:03:54.904588Z",
     "start_time": "2022-06-08T06:03:38.735602Z"
    }
   },
   "outputs": [],
   "source": [
    "# to_csv 로 저장하기\n",
    "# to_parquet로 저장하기\n",
    "df.to_csv(\"data/monthly_bike_2021.csv\", index=False)\n",
    "\n",
    "df.to_parquet(\"data/monthly_bike_2021.parquet.gzip\", compression=\"gzip\", index=False)"
   ]
  },
  {
   "cell_type": "code",
   "execution_count": null,
   "metadata": {
    "ExecuteTime": {
     "end_time": "2022-06-08T06:03:59.308135Z",
     "start_time": "2022-06-08T06:03:54.906581Z"
    }
   },
   "outputs": [],
   "source": [
    "pd.read_csv(\"data/monthly_bike_2021.csv\")"
   ]
  },
  {
   "cell_type": "code",
   "execution_count": null,
   "metadata": {
    "ExecuteTime": {
     "end_time": "2022-06-08T05:02:55.142583Z",
     "start_time": "2022-06-08T05:02:54.662337Z"
    }
   },
   "outputs": [],
   "source": [
    "# 저장한 내용 확인하기\n",
    "pd.read_parquet(\"data/monthly_bike_2021.parquet.gzip\")"
   ]
  },
  {
   "cell_type": "code",
   "execution_count": null,
   "metadata": {},
   "outputs": [],
   "source": []
  },
  {
   "cell_type": "code",
   "execution_count": null,
   "metadata": {},
   "outputs": [],
   "source": []
  }
 ],
 "metadata": {
  "kernelspec": {
   "display_name": "Python 3 (ipykernel)",
   "language": "python",
   "name": "python3"
  },
  "language_info": {
   "codemirror_mode": {
    "name": "ipython",
    "version": 3
   },
   "file_extension": ".py",
   "mimetype": "text/x-python",
   "name": "python",
   "nbconvert_exporter": "python",
   "pygments_lexer": "ipython3",
   "version": "3.9.7"
  },
  "toc": {
   "base_numbering": 1,
   "nav_menu": {},
   "number_sections": true,
   "sideBar": true,
   "skip_h1_title": false,
   "title_cell": "Table of Contents",
   "title_sidebar": "Contents",
   "toc_cell": false,
   "toc_position": {},
   "toc_section_display": true,
   "toc_window_display": false
  },
  "varInspector": {
   "cols": {
    "lenName": 16,
    "lenType": 16,
    "lenVar": 40
   },
   "kernels_config": {
    "python": {
     "delete_cmd_postfix": "",
     "delete_cmd_prefix": "del ",
     "library": "var_list.py",
     "varRefreshCmd": "print(var_dic_list())"
    },
    "r": {
     "delete_cmd_postfix": ") ",
     "delete_cmd_prefix": "rm(",
     "library": "var_list.r",
     "varRefreshCmd": "cat(var_dic_list()) "
    }
   },
   "types_to_exclude": [
    "module",
    "function",
    "builtin_function_or_method",
    "instance",
    "_Feature"
   ],
   "window_display": false
  }
 },
 "nbformat": 4,
 "nbformat_minor": 2
}
