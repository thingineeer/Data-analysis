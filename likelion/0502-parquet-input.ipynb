{
 "cells": [
  {
   "cell_type": "markdown",
   "metadata": {},
   "source": [
    "<img src=\"https://upload.wikimedia.org/wikipedia/commons/thumb/4/47/Apache_Parquet_logo.svg/330px-Apache_Parquet_logo.svg.png\">\n",
    "\n",
    "\n",
    "## Apache Parquet\n",
    "\n",
    "* 효율적인 데이터 저장 및 검색을 위해 설계된 오픈 소스, 열 지향 데이터 파일 형식\n",
    "* 복잡한 데이터를 대량으로 처리하기 위해 향상된 성능과 함께 효율적인 데이터 압축 및 인코딩 체계를 제공\n",
    "* Parquet은 Java, C++, Python 등을 포함한 여러 언어를 지원\n",
    "\n",
    "* Twitter 와 Cloudera 의 협업으로 만들어졌습니다.\n",
    "* Hadoop 창시자인 더그커팅의 trevni 열 저장 형식을 개선하기 위해 설계 되었습니다.\n",
    "* 열의 값은 물리적으로 인접한 메모리 위치에 저장됩니다.\n",
    "* 열 단위 압축은 효율적이고 저장 공간을 절약합니다.\n",
    "* 열 값이 동일한 데이터 타입이기 때문에 압축에 유리합니다.\n",
    "* 특정 열 값을 가져오는 쿼리는 전체 행 데이터를 읽을 필요가 없으므로 성능이 향상됩니다.\n",
    "* 각 열에 다른 인코딩 기술을 적용할 수 있습니다.\n",
    "\n",
    "\n",
    "* 열 스토리지, 필요한 데이터만 읽기\n",
    "* 효율적인 바이너리 패킹\n",
    "* 압축 알고리즘 및 인코딩 선택\n",
    "* 데이터를 파일로 분할하여 병렬 처리 가능\n",
    "* 논리 유형의 범위\n",
    "* 메타데이터에 저장된 통계를 통해 불필요한 청크를 건너뛸 수 있습니다.\n",
    "* 디렉토리 구조를 사용한 데이터 분할\n",
    "\n",
    "\n",
    "* [Apache Parquet - Wikipedia](https://en.wikipedia.org/wiki/Apache_Parquet)\n",
    "\n",
    "* [Development update: High speed Apache Parquet in Python with Apache Arrow - Wes McKinney](https://wesmckinney.com/blog/python-parquet-update/)\n",
    "\n",
    "\n",
    "<img src=\"https://wesmckinney.com/images/parquet_benchmarks.png\">"
   ]
  },
  {
   "cell_type": "markdown",
   "metadata": {},
   "source": [
    "## 설치\n",
    "\n",
    "\n",
    "<img src=\"https://i.imgur.com/x7pzfCP.jpg\">\n",
    "\n",
    "* <font color=\"red\"> anaconda prompt 를 열어서 설치해 주세요. 터미널에 (base) 가상환경 표시가 보이는지 확인해 주세요.</font>\n",
    "\n",
    "\n",
    "* 윈도우\n",
    "    * <font color=\"red\">관리자 권한</font>으로 아나콘다를 설치하셨다면 다음의 방법으로 anaconda prompt 를 열어 주세요.\n",
    "    <img src=\"https://i.imgur.com/GhoLwsd.png\">\n",
    "* 맥\n",
    "    * terminal 프로그램을 열어 설치해 주세요. \n",
    "\n",
    "\n",
    "* [fastparquet — fastparquet documentation](https://fastparquet.readthedocs.io/en/latest/index.html)\n",
    "* [Installing PyArrow — Apache Arrow](https://arrow.apache.org/docs/python/install.html)"
   ]
  },
  {
   "cell_type": "code",
   "execution_count": null,
   "metadata": {},
   "outputs": [],
   "source": [
    "# Notes\n",
    "# -----\n",
    "# This function requires either the `fastparquet\n",
    "# <https://pypi.org/project/fastparquet>`_ or `pyarrow\n",
    "# <https://arrow.apache.org/docs/python/>`_ library.\n",
    "\n",
    "# !pip install fastparquet\n",
    "# !pip install pyarrow\n",
    "\n",
    "# conda install -c conda-forge fastparquet\n",
    "# conda install -c conda-forge pyarrow"
   ]
  },
  {
   "cell_type": "markdown",
   "metadata": {},
   "source": [
    "## 판다스 불러오기"
   ]
  },
  {
   "cell_type": "code",
   "execution_count": 1,
   "metadata": {
    "ExecuteTime": {
     "end_time": "2022-06-07T01:46:40.808795Z",
     "start_time": "2022-06-07T01:46:39.659121Z"
    }
   },
   "outputs": [],
   "source": [
    "import pandas as pd"
   ]
  },
  {
   "cell_type": "markdown",
   "metadata": {},
   "source": [
    "## to_parquet 동작확인\n",
    "* fastparquet와 pyarrow를 설치했음에도 로컬 PC에서 아래 코드가 동작하지 않는다면 colab 으로 실습해 주세요.\n",
    "* fastparquet와 pyarrow는 관련된 라이브러리 버전의존성 이슈가 있어서 버전이 맞지 않으면 동작하지 않을 수 있습니다."
   ]
  },
  {
   "cell_type": "code",
   "execution_count": 2,
   "metadata": {
    "ExecuteTime": {
     "end_time": "2022-06-07T01:46:41.718594Z",
     "start_time": "2022-06-07T01:46:41.618090Z"
    }
   },
   "outputs": [],
   "source": [
    "df = pd.DataFrame(data={'col1': [1, 2], 'col2': [3, 4]})\n",
    "df.to_parquet('df.parquet.gzip', compression='gzip')"
   ]
  },
  {
   "cell_type": "markdown",
   "metadata": {},
   "source": [
    "## 간단한 데이터프레임 만들기"
   ]
  },
  {
   "cell_type": "code",
   "execution_count": 9,
   "metadata": {
    "ExecuteTime": {
     "end_time": "2022-06-07T02:19:35.049151Z",
     "start_time": "2022-06-07T02:19:34.575936Z"
    }
   },
   "outputs": [
    {
     "data": {
      "text/plain": [
       "(317677, 15)"
      ]
     },
     "execution_count": 9,
     "metadata": {},
     "output_type": "execute_result"
    }
   ],
   "source": [
    "# data/nhis_drug_sample_2020_3.csv\n",
    "df = pd.read_csv(\"data/nhis_drug_sample_2020_3.csv\")\n",
    "df.shape"
   ]
  },
  {
   "cell_type": "code",
   "execution_count": 13,
   "metadata": {
    "ExecuteTime": {
     "end_time": "2022-06-07T02:26:34.849402Z",
     "start_time": "2022-06-07T02:26:34.766625Z"
    }
   },
   "outputs": [
    {
     "name": "stdout",
     "output_type": "stream",
     "text": [
      "<class 'pandas.core.frame.DataFrame'>\n",
      "RangeIndex: 317677 entries, 0 to 317676\n",
      "Data columns (total 15 columns):\n",
      " #   Column       Non-Null Count   Dtype  \n",
      "---  ------       --------------   -----  \n",
      " 0   기준년도         317677 non-null  int64  \n",
      " 1   가입자 일련번호     317677 non-null  int64  \n",
      " 2   처방내역일련번호     317677 non-null  int64  \n",
      " 3   일련번호         317677 non-null  int64  \n",
      " 4   성별코드         317677 non-null  int64  \n",
      " 5   연령대코드(5세단위)  317677 non-null  int64  \n",
      " 6   시도코드         317677 non-null  int64  \n",
      " 7   요양개시일자       317677 non-null  object \n",
      " 8   약품일반성분명코드    317669 non-null  object \n",
      " 9   1회 투약량       317677 non-null  float64\n",
      " 10  1일투약량        317677 non-null  int64  \n",
      " 11  총투여일수        317677 non-null  int64  \n",
      " 12  단가           317677 non-null  float64\n",
      " 13  금액           317677 non-null  int64  \n",
      " 14  데이터 공개일자     317677 non-null  object \n",
      "dtypes: float64(2), int64(10), object(3)\n",
      "memory usage: 36.4+ MB\n"
     ]
    }
   ],
   "source": [
    "df.info()"
   ]
  },
  {
   "cell_type": "code",
   "execution_count": 10,
   "metadata": {
    "ExecuteTime": {
     "end_time": "2022-06-07T02:19:39.775714Z",
     "start_time": "2022-06-07T02:19:36.857072Z"
    }
   },
   "outputs": [],
   "source": [
    "# to_parquet, compression='gzip'\n",
    "# to_csv 로 저장하기\n",
    "file_path_parquet = 'df.parquet.gzip'\n",
    "file_path_csv  = 'df.csv'\n",
    "\n",
    "df.to_parquet(file_path_parquet, compression = 'gzip')\n",
    "df.to_csv(file_path_csv, index = False)\n",
    "\n"
   ]
  },
  {
   "cell_type": "code",
   "execution_count": 11,
   "metadata": {
    "ExecuteTime": {
     "end_time": "2022-06-07T02:19:39.790677Z",
     "start_time": "2022-06-07T02:19:39.778723Z"
    },
    "scrolled": true
   },
   "outputs": [
    {
     "data": {
      "text/plain": [
       "(2835603, 26064481)"
      ]
     },
     "execution_count": 11,
     "metadata": {},
     "output_type": "execute_result"
    }
   ],
   "source": [
    "# os.stat(\"파일명\").st_size 로 파일 사이즈 불러오기\n",
    "# csv 파일과 parquet.gzip 파일 사이즈 확인하기\n",
    "# file_path_parquet\n",
    "# file_path_csv\n",
    "import os\n",
    "os.stat(file_path_parquet).st_size, os.stat(file_path_csv).st_size"
   ]
  },
  {
   "cell_type": "markdown",
   "metadata": {},
   "source": [
    "## 파일 크기 \n",
    "* [파일 크기 - 위키백과, 우리 모두의 백과사전](https://ko.wikipedia.org/wiki/%ED%8C%8C%EC%9D%BC_%ED%81%AC%EA%B8%B0)\n",
    "\n",
    "|    | 이름       | 기호   |   2진 측정값 |   10진 측정값 | 바이트 수                         | 같은 값      |\n",
    "|---:|:-----------|:-------|-------------:|--------------:|:----------------------------------|:-------------|\n",
    "|  0 | 킬로바이트 | KB     |          2^10 |           10^3 | 1,024                             | 1,024 바이트 |\n",
    "|  1 | 메가바이트 | MB     |          2^20 |           10^6 | 1,048,576                         | 1,024KB      |\n",
    "|  2 | 기가바이트 | GB     |          2^30 |           10^9 | 1,073,741,824                     | 1,024MB      |\n",
    "|  3 | 테라바이트 | TB     |          2^40 |          10^12 | 1,099,511,627,776                 | 1,024GB      |\n",
    "|  4 | 페타바이트 | PB     |          2^50 |          10^15 | 1,125,899,906,842,624             | 1,024TB      |\n",
    "|  5 | 엑사바이트 | EB     |          2^60 |          10^18 | 1,152,921,504,606,846,976         | 1,024PB      |\n",
    "|  6 | 제타바이트 | ZB     |          2^70 |          10^21 | 1,180,591,620,717,411,303,424     | 1,024EB      |\n",
    "|  7 | 요타바이트 | YB     |          2^80 |          10^24 | 1,208,925,819,614,629,174,706,176 | 1,024ZB      |"
   ]
  },
  {
   "cell_type": "code",
   "execution_count": null,
   "metadata": {},
   "outputs": [],
   "source": [
    "# 파일 사이즈 bytes 로 표기하기\n",
    "def convert_bytes(num):\n",
    "    \"\"\"\n",
    "    1024 보다 크면 숫자를 나누고 아니면 숫자와 단위를 표시하도록\n",
    "    for문을 돌면서 값을 1024로 나누고 \n",
    "    값이 1024 보다 작다면 단위와 함께 num 을 반횐\n",
    "    \"\"\"\n",
    "#     for file_size in ['bytes', 'KB', 'MB', 'GB', 'TB']:\n",
    "\n",
    "\n",
    "def file_size(file_path):\n",
    "    \"\"\"\n",
    "    파일이 있다면 convert_bytes 함수를 통해 크기를 구함\n",
    "    \"\"\"\n",
    "    if os.path.isfile(file_path):\n",
    "        file_info = os.stat(file_path)\n",
    "        return convert_bytes(file_info.st_size)\n",
    "\n",
    "\n",
    "file_size(file_path_parquet), file_size(file_path_csv), file_size(\"\")"
   ]
  },
  {
   "cell_type": "markdown",
   "metadata": {},
   "source": [
    "## 파일 저장하고 사이즈 비교하는 함수 만들기"
   ]
  },
  {
   "cell_type": "code",
   "execution_count": null,
   "metadata": {},
   "outputs": [],
   "source": [
    "def compare_csv_parquet(df):\n",
    "    \"\"\"\n",
    "    데이터프레임을 csv 와 parquet형식으로 저장하하고 각 파일 사이즈를 dict 형태로 반환\n",
    "    \"\"\"\n",
    "    "
   ]
  },
  {
   "cell_type": "code",
   "execution_count": null,
   "metadata": {},
   "outputs": [],
   "source": [
    "# 데이터프레임 로드해서 compare_csv_parquet 함수 확인하기\n",
    "df = pd.read_csv(\"data/seoul-covid19-2021-12-18.csv\")\n"
   ]
  },
  {
   "cell_type": "markdown",
   "metadata": {},
   "source": [
    "## csv, parquet.gzip 파일 로드 후 info 실행 시간 비교"
   ]
  },
  {
   "cell_type": "code",
   "execution_count": null,
   "metadata": {},
   "outputs": [],
   "source": [
    "%time "
   ]
  },
  {
   "cell_type": "code",
   "execution_count": null,
   "metadata": {},
   "outputs": [],
   "source": [
    "%time "
   ]
  },
  {
   "cell_type": "markdown",
   "metadata": {},
   "source": [
    "## PySpark Koalas 소개\n",
    "* [Migrating from Koalas to pandas API on Spark — PySpark documentation](https://spark.apache.org/docs/latest/api/python/migration_guide/koalas_to_pyspark.html#)\n",
    "\n",
    "* [10 minutes to Koalas — Koalas 1.8.2 documentation](https://koalas.readthedocs.io/en/latest/getting_started/10min.html)\n",
    "\n",
    "* [Migrating from Koalas to pandas API on Spark — PySpark 3.2.1 documentation](https://spark.apache.org/docs/latest/api/python/migration_guide/koalas_to_pyspark.html#)\n",
    "\n",
    "* [pandas 코드로 대규모 클러스터에서 더 빠르게 빅데이터를 분석 해보자 - Koalas - 박현우 - PyCon Korea 2020 - YouTube](https://www.youtube.com/watch?v=Y9kdUq_qIa8)"
   ]
  },
  {
   "cell_type": "code",
   "execution_count": null,
   "metadata": {},
   "outputs": [],
   "source": []
  }
 ],
 "metadata": {
  "colab": {
   "authorship_tag": "ABX9TyNF8QnQzgAlrHDKA+kUfSzR",
   "collapsed_sections": [],
   "name": "의약품처방정보_데이터샘플링.ipynb",
   "provenance": []
  },
  "kernelspec": {
   "display_name": "Python 3 (ipykernel)",
   "language": "python",
   "name": "python3"
  },
  "language_info": {
   "codemirror_mode": {
    "name": "ipython",
    "version": 3
   },
   "file_extension": ".py",
   "mimetype": "text/x-python",
   "name": "python",
   "nbconvert_exporter": "python",
   "pygments_lexer": "ipython3",
   "version": "3.9.7"
  },
  "toc": {
   "base_numbering": 1,
   "nav_menu": {},
   "number_sections": true,
   "sideBar": true,
   "skip_h1_title": false,
   "title_cell": "Table of Contents",
   "title_sidebar": "Contents",
   "toc_cell": false,
   "toc_position": {},
   "toc_section_display": true,
   "toc_window_display": false
  },
  "varInspector": {
   "cols": {
    "lenName": 16,
    "lenType": 16,
    "lenVar": 40
   },
   "kernels_config": {
    "python": {
     "delete_cmd_postfix": "",
     "delete_cmd_prefix": "del ",
     "library": "var_list.py",
     "varRefreshCmd": "print(var_dic_list())"
    },
    "r": {
     "delete_cmd_postfix": ") ",
     "delete_cmd_prefix": "rm(",
     "library": "var_list.r",
     "varRefreshCmd": "cat(var_dic_list()) "
    }
   },
   "types_to_exclude": [
    "module",
    "function",
    "builtin_function_or_method",
    "instance",
    "_Feature"
   ],
   "window_display": false
  }
 },
 "nbformat": 4,
 "nbformat_minor": 1
}
